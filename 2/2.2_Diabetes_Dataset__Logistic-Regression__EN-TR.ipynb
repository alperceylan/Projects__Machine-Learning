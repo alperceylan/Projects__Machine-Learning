{
 "cells": [
  {
   "cell_type": "markdown",
   "metadata": {},
   "source": [
    "# **- Machine Learning -**\n",
    "# _* Classification *_\n",
    "## **+ ``Logistic Regression`` and ``Confusion Matrix`` +**\n",
    "### **+ _Diabetes Data_ +**"
   ]
  },
  {
   "cell_type": "code",
   "execution_count": 1,
   "metadata": {},
   "outputs": [],
   "source": [
    "import numpy as np\n",
    "import pandas as pd\n",
    "import matplotlib.pyplot as plt\n",
    "import seaborn as sns\n",
    "\n",
    "%matplotlib inline"
   ]
  },
  {
   "cell_type": "markdown",
   "metadata": {
    "tags": []
   },
   "source": [
    "## Diabetes Data **:**"
   ]
  },
  {
   "cell_type": "markdown",
   "metadata": {},
   "source": [
    "+ Read in the data set using Pandas **:**\n",
    "+ Veri Seti **'.txt'** dosyası olduğu için, **Pandas**'ın **'.read_table( )'** fonksiyonunu kullanarak Veri Setini okuyacağız **:**"
   ]
  },
  {
   "cell_type": "code",
   "execution_count": 2,
   "metadata": {},
   "outputs": [
    {
     "data": {
      "text/html": [
       "<div>\n",
       "<style scoped>\n",
       "    .dataframe tbody tr th:only-of-type {\n",
       "        vertical-align: middle;\n",
       "    }\n",
       "\n",
       "    .dataframe tbody tr th {\n",
       "        vertical-align: top;\n",
       "    }\n",
       "\n",
       "    .dataframe thead th {\n",
       "        text-align: right;\n",
       "    }\n",
       "</style>\n",
       "<table border=\"1\" class=\"dataframe\">\n",
       "  <thead>\n",
       "    <tr style=\"text-align: right;\">\n",
       "      <th></th>\n",
       "      <th>Preg</th>\n",
       "      <th>Glucose</th>\n",
       "      <th>BP</th>\n",
       "      <th>SkinThick</th>\n",
       "      <th>Insul</th>\n",
       "      <th>BMI</th>\n",
       "      <th>DPF</th>\n",
       "      <th>Age</th>\n",
       "      <th>Diabetes</th>\n",
       "    </tr>\n",
       "  </thead>\n",
       "  <tbody>\n",
       "    <tr>\n",
       "      <th>0</th>\n",
       "      <td>6</td>\n",
       "      <td>148</td>\n",
       "      <td>72</td>\n",
       "      <td>35</td>\n",
       "      <td>0</td>\n",
       "      <td>33.6</td>\n",
       "      <td>0.627</td>\n",
       "      <td>50</td>\n",
       "      <td>1</td>\n",
       "    </tr>\n",
       "    <tr>\n",
       "      <th>1</th>\n",
       "      <td>1</td>\n",
       "      <td>85</td>\n",
       "      <td>66</td>\n",
       "      <td>29</td>\n",
       "      <td>0</td>\n",
       "      <td>26.6</td>\n",
       "      <td>0.351</td>\n",
       "      <td>31</td>\n",
       "      <td>0</td>\n",
       "    </tr>\n",
       "    <tr>\n",
       "      <th>2</th>\n",
       "      <td>8</td>\n",
       "      <td>183</td>\n",
       "      <td>64</td>\n",
       "      <td>0</td>\n",
       "      <td>0</td>\n",
       "      <td>23.3</td>\n",
       "      <td>0.672</td>\n",
       "      <td>32</td>\n",
       "      <td>1</td>\n",
       "    </tr>\n",
       "    <tr>\n",
       "      <th>3</th>\n",
       "      <td>1</td>\n",
       "      <td>89</td>\n",
       "      <td>66</td>\n",
       "      <td>23</td>\n",
       "      <td>94</td>\n",
       "      <td>28.1</td>\n",
       "      <td>0.167</td>\n",
       "      <td>21</td>\n",
       "      <td>0</td>\n",
       "    </tr>\n",
       "    <tr>\n",
       "      <th>4</th>\n",
       "      <td>0</td>\n",
       "      <td>137</td>\n",
       "      <td>40</td>\n",
       "      <td>35</td>\n",
       "      <td>168</td>\n",
       "      <td>43.1</td>\n",
       "      <td>2.288</td>\n",
       "      <td>33</td>\n",
       "      <td>1</td>\n",
       "    </tr>\n",
       "    <tr>\n",
       "      <th>...</th>\n",
       "      <td>...</td>\n",
       "      <td>...</td>\n",
       "      <td>...</td>\n",
       "      <td>...</td>\n",
       "      <td>...</td>\n",
       "      <td>...</td>\n",
       "      <td>...</td>\n",
       "      <td>...</td>\n",
       "      <td>...</td>\n",
       "    </tr>\n",
       "    <tr>\n",
       "      <th>763</th>\n",
       "      <td>10</td>\n",
       "      <td>101</td>\n",
       "      <td>76</td>\n",
       "      <td>48</td>\n",
       "      <td>180</td>\n",
       "      <td>32.9</td>\n",
       "      <td>0.171</td>\n",
       "      <td>63</td>\n",
       "      <td>0</td>\n",
       "    </tr>\n",
       "    <tr>\n",
       "      <th>764</th>\n",
       "      <td>2</td>\n",
       "      <td>122</td>\n",
       "      <td>70</td>\n",
       "      <td>27</td>\n",
       "      <td>0</td>\n",
       "      <td>36.8</td>\n",
       "      <td>0.340</td>\n",
       "      <td>27</td>\n",
       "      <td>0</td>\n",
       "    </tr>\n",
       "    <tr>\n",
       "      <th>765</th>\n",
       "      <td>5</td>\n",
       "      <td>121</td>\n",
       "      <td>72</td>\n",
       "      <td>23</td>\n",
       "      <td>112</td>\n",
       "      <td>26.2</td>\n",
       "      <td>0.245</td>\n",
       "      <td>30</td>\n",
       "      <td>0</td>\n",
       "    </tr>\n",
       "    <tr>\n",
       "      <th>766</th>\n",
       "      <td>1</td>\n",
       "      <td>126</td>\n",
       "      <td>60</td>\n",
       "      <td>0</td>\n",
       "      <td>0</td>\n",
       "      <td>30.1</td>\n",
       "      <td>0.349</td>\n",
       "      <td>47</td>\n",
       "      <td>1</td>\n",
       "    </tr>\n",
       "    <tr>\n",
       "      <th>767</th>\n",
       "      <td>1</td>\n",
       "      <td>93</td>\n",
       "      <td>70</td>\n",
       "      <td>31</td>\n",
       "      <td>0</td>\n",
       "      <td>30.4</td>\n",
       "      <td>0.315</td>\n",
       "      <td>23</td>\n",
       "      <td>0</td>\n",
       "    </tr>\n",
       "  </tbody>\n",
       "</table>\n",
       "<p>768 rows × 9 columns</p>\n",
       "</div>"
      ],
      "text/plain": [
       "     Preg  Glucose  BP  SkinThick  Insul   BMI    DPF  Age  Diabetes\n",
       "0       6      148  72         35      0  33.6  0.627   50         1\n",
       "1       1       85  66         29      0  26.6  0.351   31         0\n",
       "2       8      183  64          0      0  23.3  0.672   32         1\n",
       "3       1       89  66         23     94  28.1  0.167   21         0\n",
       "4       0      137  40         35    168  43.1  2.288   33         1\n",
       "..    ...      ...  ..        ...    ...   ...    ...  ...       ...\n",
       "763    10      101  76         48    180  32.9  0.171   63         0\n",
       "764     2      122  70         27      0  36.8  0.340   27         0\n",
       "765     5      121  72         23    112  26.2  0.245   30         0\n",
       "766     1      126  60          0      0  30.1  0.349   47         1\n",
       "767     1       93  70         31      0  30.4  0.315   23         0\n",
       "\n",
       "[768 rows x 9 columns]"
      ]
     },
     "execution_count": 2,
     "metadata": {},
     "output_type": "execute_result"
    }
   ],
   "source": [
    "df = pd.read_table('diabetesdata.txt')\n",
    "df"
   ]
  },
  {
   "cell_type": "markdown",
   "metadata": {},
   "source": [
    "#### **'Diabetes' Veri Setindeki kolonlar SIRASI ile :**\n",
    "+ **Preg = Pregnancies =** Gebelikler.\n",
    "+ **Glucose =** Glukoz.\n",
    "+ **BP = Blood Pressure =** Tansiyon.\n",
    "+ **SkinThick = Skin Thickness =** Cilt kalınlığı.\n",
    "+ **Insul =** Insulin.\n",
    "+ **BMI = Body Mass Index =** Vücut Kitle İndeksi.\n",
    "+ **DPF = Diabetes Pedigree Function =** Diyabetin Soyağacı Fonksiyonu.\n",
    "+ **Age =** Yaş.\n",
    "+ **Diabetes =** Diyabet mi? Değil mi?"
   ]
  },
  {
   "cell_type": "markdown",
   "metadata": {},
   "source": [
    "+ Kolonların **, istatistiki** değerlerine bakalım **:**"
   ]
  },
  {
   "cell_type": "code",
   "execution_count": 4,
   "metadata": {},
   "outputs": [
    {
     "data": {
      "text/html": [
       "<div>\n",
       "<style scoped>\n",
       "    .dataframe tbody tr th:only-of-type {\n",
       "        vertical-align: middle;\n",
       "    }\n",
       "\n",
       "    .dataframe tbody tr th {\n",
       "        vertical-align: top;\n",
       "    }\n",
       "\n",
       "    .dataframe thead th {\n",
       "        text-align: right;\n",
       "    }\n",
       "</style>\n",
       "<table border=\"1\" class=\"dataframe\">\n",
       "  <thead>\n",
       "    <tr style=\"text-align: right;\">\n",
       "      <th></th>\n",
       "      <th>Preg</th>\n",
       "      <th>Glucose</th>\n",
       "      <th>BP</th>\n",
       "      <th>SkinThick</th>\n",
       "      <th>Insul</th>\n",
       "      <th>BMI</th>\n",
       "      <th>DPF</th>\n",
       "      <th>Age</th>\n",
       "      <th>Diabetes</th>\n",
       "    </tr>\n",
       "  </thead>\n",
       "  <tbody>\n",
       "    <tr>\n",
       "      <th>count</th>\n",
       "      <td>768.000000</td>\n",
       "      <td>768.000000</td>\n",
       "      <td>768.000000</td>\n",
       "      <td>768.000000</td>\n",
       "      <td>768.000000</td>\n",
       "      <td>768.000000</td>\n",
       "      <td>768.000000</td>\n",
       "      <td>768.000000</td>\n",
       "      <td>768.000000</td>\n",
       "    </tr>\n",
       "    <tr>\n",
       "      <th>mean</th>\n",
       "      <td>3.845052</td>\n",
       "      <td>120.894531</td>\n",
       "      <td>69.105469</td>\n",
       "      <td>20.536458</td>\n",
       "      <td>79.799479</td>\n",
       "      <td>31.992578</td>\n",
       "      <td>0.471876</td>\n",
       "      <td>33.240885</td>\n",
       "      <td>0.348958</td>\n",
       "    </tr>\n",
       "    <tr>\n",
       "      <th>std</th>\n",
       "      <td>3.369578</td>\n",
       "      <td>31.972618</td>\n",
       "      <td>19.355807</td>\n",
       "      <td>15.952218</td>\n",
       "      <td>115.244002</td>\n",
       "      <td>7.884160</td>\n",
       "      <td>0.331329</td>\n",
       "      <td>11.760232</td>\n",
       "      <td>0.476951</td>\n",
       "    </tr>\n",
       "    <tr>\n",
       "      <th>min</th>\n",
       "      <td>0.000000</td>\n",
       "      <td>0.000000</td>\n",
       "      <td>0.000000</td>\n",
       "      <td>0.000000</td>\n",
       "      <td>0.000000</td>\n",
       "      <td>0.000000</td>\n",
       "      <td>0.078000</td>\n",
       "      <td>21.000000</td>\n",
       "      <td>0.000000</td>\n",
       "    </tr>\n",
       "    <tr>\n",
       "      <th>25%</th>\n",
       "      <td>1.000000</td>\n",
       "      <td>99.000000</td>\n",
       "      <td>62.000000</td>\n",
       "      <td>0.000000</td>\n",
       "      <td>0.000000</td>\n",
       "      <td>27.300000</td>\n",
       "      <td>0.243750</td>\n",
       "      <td>24.000000</td>\n",
       "      <td>0.000000</td>\n",
       "    </tr>\n",
       "    <tr>\n",
       "      <th>50%</th>\n",
       "      <td>3.000000</td>\n",
       "      <td>117.000000</td>\n",
       "      <td>72.000000</td>\n",
       "      <td>23.000000</td>\n",
       "      <td>30.500000</td>\n",
       "      <td>32.000000</td>\n",
       "      <td>0.372500</td>\n",
       "      <td>29.000000</td>\n",
       "      <td>0.000000</td>\n",
       "    </tr>\n",
       "    <tr>\n",
       "      <th>75%</th>\n",
       "      <td>6.000000</td>\n",
       "      <td>140.250000</td>\n",
       "      <td>80.000000</td>\n",
       "      <td>32.000000</td>\n",
       "      <td>127.250000</td>\n",
       "      <td>36.600000</td>\n",
       "      <td>0.626250</td>\n",
       "      <td>41.000000</td>\n",
       "      <td>1.000000</td>\n",
       "    </tr>\n",
       "    <tr>\n",
       "      <th>max</th>\n",
       "      <td>17.000000</td>\n",
       "      <td>199.000000</td>\n",
       "      <td>122.000000</td>\n",
       "      <td>99.000000</td>\n",
       "      <td>846.000000</td>\n",
       "      <td>67.100000</td>\n",
       "      <td>2.420000</td>\n",
       "      <td>81.000000</td>\n",
       "      <td>1.000000</td>\n",
       "    </tr>\n",
       "  </tbody>\n",
       "</table>\n",
       "</div>"
      ],
      "text/plain": [
       "             Preg     Glucose          BP   SkinThick       Insul         BMI  \\\n",
       "count  768.000000  768.000000  768.000000  768.000000  768.000000  768.000000   \n",
       "mean     3.845052  120.894531   69.105469   20.536458   79.799479   31.992578   \n",
       "std      3.369578   31.972618   19.355807   15.952218  115.244002    7.884160   \n",
       "min      0.000000    0.000000    0.000000    0.000000    0.000000    0.000000   \n",
       "25%      1.000000   99.000000   62.000000    0.000000    0.000000   27.300000   \n",
       "50%      3.000000  117.000000   72.000000   23.000000   30.500000   32.000000   \n",
       "75%      6.000000  140.250000   80.000000   32.000000  127.250000   36.600000   \n",
       "max     17.000000  199.000000  122.000000   99.000000  846.000000   67.100000   \n",
       "\n",
       "              DPF         Age    Diabetes  \n",
       "count  768.000000  768.000000  768.000000  \n",
       "mean     0.471876   33.240885    0.348958  \n",
       "std      0.331329   11.760232    0.476951  \n",
       "min      0.078000   21.000000    0.000000  \n",
       "25%      0.243750   24.000000    0.000000  \n",
       "50%      0.372500   29.000000    0.000000  \n",
       "75%      0.626250   41.000000    1.000000  \n",
       "max      2.420000   81.000000    1.000000  "
      ]
     },
     "execution_count": 4,
     "metadata": {},
     "output_type": "execute_result"
    }
   ],
   "source": [
    "df.describe()"
   ]
  },
  {
   "cell_type": "markdown",
   "metadata": {},
   "source": [
    "+ Her zaman ki gibi **ilk olarak, 'Target'** ve **'Feature'** kolonlarını birbirlerinden ayıralım **:**"
   ]
  },
  {
   "cell_type": "code",
   "execution_count": 3,
   "metadata": {},
   "outputs": [],
   "source": [
    "X = df.drop('Diabetes', axis=1)\n",
    "y = df['Diabetes']"
   ]
  },
  {
   "cell_type": "code",
   "execution_count": 9,
   "metadata": {},
   "outputs": [
    {
     "data": {
      "text/html": [
       "<div>\n",
       "<style scoped>\n",
       "    .dataframe tbody tr th:only-of-type {\n",
       "        vertical-align: middle;\n",
       "    }\n",
       "\n",
       "    .dataframe tbody tr th {\n",
       "        vertical-align: top;\n",
       "    }\n",
       "\n",
       "    .dataframe thead th {\n",
       "        text-align: right;\n",
       "    }\n",
       "</style>\n",
       "<table border=\"1\" class=\"dataframe\">\n",
       "  <thead>\n",
       "    <tr style=\"text-align: right;\">\n",
       "      <th></th>\n",
       "      <th>Preg</th>\n",
       "      <th>Glucose</th>\n",
       "      <th>BP</th>\n",
       "      <th>SkinThick</th>\n",
       "      <th>Insul</th>\n",
       "      <th>BMI</th>\n",
       "      <th>DPF</th>\n",
       "      <th>Age</th>\n",
       "    </tr>\n",
       "  </thead>\n",
       "  <tbody>\n",
       "    <tr>\n",
       "      <th>0</th>\n",
       "      <td>6</td>\n",
       "      <td>148</td>\n",
       "      <td>72</td>\n",
       "      <td>35</td>\n",
       "      <td>0</td>\n",
       "      <td>33.6</td>\n",
       "      <td>0.627</td>\n",
       "      <td>50</td>\n",
       "    </tr>\n",
       "    <tr>\n",
       "      <th>1</th>\n",
       "      <td>1</td>\n",
       "      <td>85</td>\n",
       "      <td>66</td>\n",
       "      <td>29</td>\n",
       "      <td>0</td>\n",
       "      <td>26.6</td>\n",
       "      <td>0.351</td>\n",
       "      <td>31</td>\n",
       "    </tr>\n",
       "    <tr>\n",
       "      <th>2</th>\n",
       "      <td>8</td>\n",
       "      <td>183</td>\n",
       "      <td>64</td>\n",
       "      <td>0</td>\n",
       "      <td>0</td>\n",
       "      <td>23.3</td>\n",
       "      <td>0.672</td>\n",
       "      <td>32</td>\n",
       "    </tr>\n",
       "  </tbody>\n",
       "</table>\n",
       "</div>"
      ],
      "text/plain": [
       "   Preg  Glucose  BP  SkinThick  Insul   BMI    DPF  Age\n",
       "0     6      148  72         35      0  33.6  0.627   50\n",
       "1     1       85  66         29      0  26.6  0.351   31\n",
       "2     8      183  64          0      0  23.3  0.672   32"
      ]
     },
     "execution_count": 9,
     "metadata": {},
     "output_type": "execute_result"
    }
   ],
   "source": [
    "X.head(3)"
   ]
  },
  {
   "cell_type": "code",
   "execution_count": 8,
   "metadata": {},
   "outputs": [
    {
     "data": {
      "text/plain": [
       "765    0\n",
       "766    1\n",
       "767    0\n",
       "Name: Diabetes, dtype: int64"
      ]
     },
     "execution_count": 8,
     "metadata": {},
     "output_type": "execute_result"
    }
   ],
   "source": [
    "y.tail(3)"
   ]
  },
  {
   "cell_type": "markdown",
   "metadata": {},
   "source": [
    "+ **Logistic Regression** modülünü çağıralım **:**\n",
    "<br> **+--- NOTE --->** Ancak aşağıda fark ettiysek **,** yine **Linear Modeller** kütüphanesinden çağırıyoruz..."
   ]
  },
  {
   "cell_type": "code",
   "execution_count": 4,
   "metadata": {},
   "outputs": [],
   "source": [
    "from sklearn.linear_model import LogisticRegression"
   ]
  },
  {
   "cell_type": "code",
   "execution_count": 59,
   "metadata": {},
   "outputs": [
    {
     "data": {
      "text/plain": [
       "LogisticRegression()"
      ]
     },
     "execution_count": 59,
     "metadata": {},
     "output_type": "execute_result"
    }
   ],
   "source": [
    "LogisticRegression()"
   ]
  },
  {
   "cell_type": "markdown",
   "metadata": {},
   "source": [
    "**LogisticRegression( )** içerisinde SHIFT + TAB tuşlarına basarsak, **kullanabileceğimiz metodları** görebiliriz..."
   ]
  },
  {
   "cell_type": "markdown",
   "metadata": {},
   "source": [
    "---\n",
    "---\n",
    "--------->\n",
    "### **Modelimizi Yaratalım (Kuralım) :**\n",
    "<---------\n",
    "\n",
    "---\n",
    "---"
   ]
  },
  {
   "cell_type": "markdown",
   "metadata": {},
   "source": [
    "+ Her zaman ki gibi **ilk olarak, 'Target'** ve **'Feature'** kolonlarını birbirlerinden ayıralım **:**"
   ]
  },
  {
   "cell_type": "code",
   "execution_count": 6,
   "metadata": {},
   "outputs": [],
   "source": [
    "X = df.drop('Diabetes', axis=1)\n",
    "y = df['Diabetes']"
   ]
  },
  {
   "cell_type": "markdown",
   "metadata": {},
   "source": [
    "+ Şimdi de **;** Veri Setimizi, **TRAIN Set** ve **TEST Set** olmak üzere ayıralım **:**"
   ]
  },
  {
   "cell_type": "code",
   "execution_count": 5,
   "metadata": {},
   "outputs": [],
   "source": [
    "from sklearn.model_selection import train_test_split\n",
    "\n",
    "X_train, X_test, y_train, y_test = train_test_split(X, y, test_size=0.2, random_state=1, stratify=y)"
   ]
  },
  {
   "cell_type": "markdown",
   "metadata": {},
   "source": [
    "**++++ CRITICAL NOTE ++++**\n",
    "<br> Veri Setini RASTGELE parçalara böldüğümüzde bazen çok saçma bir dağılım olabiliyor... Yani mesela bu Veri Seti için konuşursak **;** RASTGELE **%20**'lik bir TEST Veri Seti oluşturduğumuzda, o TEST Veri Seti içesinde hiç **kadın** verisi olmayabilir. Yani öyle denk gelebilir... Böyle bir durumun olmasını istemiyorsak **;** Yani hem TRAIN hem de TEST Veri Setindeki **kadın-erkek dağılımının,** gerçek Veri Setinde nasıl bir dağılım varsa öyle olmasını isteriyorsak **, ( stratify=... )** metodunu kullanırız... Böyle olması, bizi daha doğru bir tahmine götürür...\n",
    "<br> Burada **( stratify=y )** dememizin sebebi de **;** modelimizin, **'y'** kolonuna göre yani **Gender** kolonuna göre yani OUTPUT'a göre **stratify** etmesini istiyoruz...\n",
    "<br> **+--- NOTE ---> Regresyon**'da bunu **yapamayız...** Çünkü orada sadece **'0'** ve **'1'** gibi bir **sınıflandırma** kavramı YOK. Her şey numerik ve veriler birbirlerinden çok farklı olduğu için eşit dağıtmaya çalışmak gibi bir mantık olamaz..."
   ]
  },
  {
   "cell_type": "markdown",
   "metadata": {},
   "source": [
    "+ TRAIN ve TEST olarak ayırdıktan sonra **Logistic Regression** modeli kuralım ve TRAIN Set'leri FIT edelim **:**"
   ]
  },
  {
   "cell_type": "code",
   "execution_count": 7,
   "metadata": {},
   "outputs": [
    {
     "data": {
      "text/plain": [
       "LogisticRegression(max_iter=1000, penalty='none')"
      ]
     },
     "execution_count": 7,
     "metadata": {},
     "output_type": "execute_result"
    }
   ],
   "source": [
    "from sklearn.linear_model import LogisticRegression\n",
    "\n",
    "logmodel = LogisticRegression(max_iter=1000 , penalty='none')\n",
    "\n",
    "logmodel.fit(X_train , y_train)"
   ]
  },
  {
   "cell_type": "markdown",
   "metadata": {},
   "source": [
    "+ TEST Verilerini kullanarak tahminde bulunalım **:**"
   ]
  },
  {
   "cell_type": "code",
   "execution_count": 8,
   "metadata": {},
   "outputs": [
    {
     "data": {
      "text/plain": [
       "array([0, 0, 0, 0, 0, 0, 0, 0, 1, 0, 0, 0, 1, 0, 0, 0, 0, 1, 0, 1, 1, 0,\n",
       "       0, 0, 0, 0, 0, 0, 0, 0, 0, 0, 0, 0, 1, 1, 0, 1, 0, 0, 0, 1, 0, 0,\n",
       "       0, 0, 0, 0, 1, 1, 0, 0, 1, 0, 0, 0, 0, 0, 1, 1, 0, 0, 0, 0, 1, 0,\n",
       "       0, 1, 0, 0, 1, 0, 0, 0, 0, 0, 1, 0, 0, 0, 0, 0, 0, 0, 0, 1, 0, 0,\n",
       "       1, 0, 1, 0, 0, 0, 0, 0, 0, 0, 1, 0, 0, 0, 0, 1, 0, 0, 1, 0, 0, 1,\n",
       "       0, 0, 0, 0, 1, 1, 0, 0, 1, 1, 0, 0, 0, 0, 0, 1, 0, 0, 1, 1, 1, 0,\n",
       "       0, 0, 0, 0, 1, 0, 0, 1, 0, 0, 0, 0, 0, 0, 0, 0, 0, 0, 1, 0, 1, 0],\n",
       "      dtype=int64)"
      ]
     },
     "execution_count": 8,
     "metadata": {},
     "output_type": "execute_result"
    }
   ],
   "source": [
    "y_pred = logmodel.predict(X_test)\n",
    "y_pred"
   ]
  },
  {
   "cell_type": "markdown",
   "metadata": {},
   "source": [
    "Yukarıda fark ettiysek, tahminleme yaparken herhangi bir **OLASILIK sonucu vermedi...** Çünkü DEFAULT olarak **\"0.5\" threshold**'unu kullandı ve **\"0.5\"**'in üstündeki sonuçlara **\"1\"**, altındaki sonuçlara da **\"0\"** dedi... Bu şekilde bir TAHMİN yaptı..."
   ]
  },
  {
   "cell_type": "markdown",
   "metadata": {},
   "source": [
    "+ Bir de GERÇEK TEST Veri Seti'ne bakalım **:**"
   ]
  },
  {
   "cell_type": "code",
   "execution_count": 49,
   "metadata": {},
   "outputs": [
    {
     "data": {
      "text/plain": [
       "array([0, 0, 0, 0, 0, 0, 0, 0, 1, 0, 0, 0, 1, 0, 0, 0, 0, 1, 0, 1, 1, 0,\n",
       "       0, 0, 1, 1, 1, 0, 0, 0, 1, 0, 1, 0, 1, 1, 1, 1, 0, 0, 0, 1, 0, 1,\n",
       "       0, 0, 1, 0, 1, 1, 0, 1, 0, 1, 0, 1, 0, 0, 1, 0, 0, 0, 0, 0, 0, 0,\n",
       "       0, 1, 0, 1, 1, 0, 1, 1, 0, 1, 1, 1, 1, 0, 1, 0, 0, 0, 1, 1, 0, 0,\n",
       "       1, 0, 1, 0, 0, 0, 0, 1, 0, 0, 0, 0, 0, 0, 0, 0, 0, 0, 1, 0, 0, 1,\n",
       "       0, 1, 0, 1, 0, 1, 0, 0, 1, 1, 0, 0, 0, 0, 0, 1, 0, 0, 1, 0, 1, 0,\n",
       "       0, 0, 0, 0, 1, 0, 0, 1, 0, 0, 1, 0, 0, 1, 0, 1, 0, 0, 0, 0, 1, 0],\n",
       "      dtype=int64)"
      ]
     },
     "execution_count": 49,
     "metadata": {},
     "output_type": "execute_result"
    }
   ],
   "source": [
    "np.array(y_test)"
   ]
  },
  {
   "cell_type": "markdown",
   "metadata": {},
   "source": [
    "+ Use **score** method to get **Test accuracy** of model **:**\n",
    "+ Modelin **TEST Set'lerinin doğruluğunu ('accuracy''ini)** elde etmek için **'.score'** metodunu kullanalım **:**"
   ]
  },
  {
   "cell_type": "code",
   "execution_count": 9,
   "metadata": {},
   "outputs": [
    {
     "name": "stdout",
     "output_type": "stream",
     "text": [
      "0.7857142857142857\n"
     ]
    }
   ],
   "source": [
    "score = logmodel.score(X_test , y_test)\n",
    "print(score)"
   ]
  },
  {
   "cell_type": "markdown",
   "metadata": {},
   "source": [
    "**+--- NOTE ---> Logistic Regression,** **'score'** için DEFAULT olarak **accuracy (doğruluk) metriğini** döndürüyor..."
   ]
  },
  {
   "cell_type": "markdown",
   "metadata": {},
   "source": [
    "+ Şimdi de **; Intercept** ve **Coefficient**'leri güzel bir şekilde gösterip formülümüzü daha net görelim **:**"
   ]
  },
  {
   "cell_type": "code",
   "execution_count": 10,
   "metadata": {},
   "outputs": [
    {
     "name": "stdout",
     "output_type": "stream",
     "text": [
      "   Variables  Coefficients\n",
      "0  Intercept     -8.476314\n",
      "1       Preg      0.135825\n",
      "2    Glucose      0.034562\n",
      "3         BP     -0.016874\n",
      "4  SkinThick     -0.004855\n",
      "5      Insul     -0.000622\n",
      "6        BMI      0.097109\n",
      "7        DPF      1.259897\n",
      "8        Age      0.014323\n"
     ]
    }
   ],
   "source": [
    "Model_intercept = pd.DataFrame({\"Variables\": 'Intercept' , \"Coefficients\": logmodel.intercept_[0]}, index=[0])\n",
    "\n",
    "Model_coefficients = pd.DataFrame({\"Variables\": X.columns , \"Coefficients\": np.transpose(logmodel.coef_[0])})\n",
    "\n",
    "Model_coefficients = pd.concat([Model_intercept , Model_coefficients]).reset_index(drop=True)\n",
    "\n",
    "print(Model_coefficients)"
   ]
  },
  {
   "cell_type": "markdown",
   "metadata": {},
   "source": [
    "+ Use **score** method to get **Training accuracy** of model **:**\n",
    "+ Modelin **TRAINING Set'lerinin doğruluğunu ('accuracy''ini)** elde etmek için **'.score'** metodunu kullanalım **:**"
   ]
  },
  {
   "cell_type": "code",
   "execution_count": 11,
   "metadata": {},
   "outputs": [
    {
     "name": "stdout",
     "output_type": "stream",
     "text": [
      "0.7866449511400652\n"
     ]
    }
   ],
   "source": [
    "score = logmodel.score(X_train, y_train)\n",
    "print(score)"
   ]
  },
  {
   "cell_type": "markdown",
   "metadata": {},
   "source": [
    "**+--- NOTE --->** Ama bizim önceliğimiz her zaman ilk olarak TEST Set üzerindeki metrikleri görmektir..."
   ]
  },
  {
   "cell_type": "markdown",
   "metadata": {},
   "source": [
    "---\n",
    "---\n",
    "---\n",
    "---"
   ]
  },
  {
   "cell_type": "markdown",
   "metadata": {
    "tags": []
   },
   "source": [
    "## **Confusion Matrix**"
   ]
  },
  {
   "cell_type": "markdown",
   "metadata": {},
   "source": [
    "+ Import the **metrics class :**\n",
    "+ **Scikit-Learn kütüphanesinin Metrikler sınıfının Confusion Matrix modülünü** çağıralım **:**"
   ]
  },
  {
   "cell_type": "code",
   "execution_count": 12,
   "metadata": {},
   "outputs": [],
   "source": [
    "from sklearn.metrics import confusion_matrix"
   ]
  },
  {
   "cell_type": "markdown",
   "metadata": {},
   "source": [
    "+ Confusion Matrix üretelim **:**\n",
    "+ Confusion Matrix'i ne ile üretmemiz lazım ?\n",
    "<br> GERÇEK TEST Veri Seti ve TAHMİN TEST Veri Seti'ni karşılaştırmamız lazım **:**"
   ]
  },
  {
   "cell_type": "code",
   "execution_count": 13,
   "metadata": {},
   "outputs": [
    {
     "data": {
      "text/plain": [
       "array([[92,  8],\n",
       "       [25, 29]], dtype=int64)"
      ]
     },
     "execution_count": 13,
     "metadata": {},
     "output_type": "execute_result"
    }
   ],
   "source": [
    "cnf_matrix = confusion_matrix(y_test , y_pred)\n",
    "cnf_matrix"
   ]
  },
  {
   "cell_type": "code",
   "execution_count": 14,
   "metadata": {},
   "outputs": [
    {
     "data": {
      "text/plain": [
       "array([[92,  8],\n",
       "       [25, 29]], dtype=int64)"
      ]
     },
     "execution_count": 14,
     "metadata": {},
     "output_type": "execute_result"
    }
   ],
   "source": [
    "#   OR\n",
    "\n",
    "from sklearn import metrics\n",
    "\n",
    "cnf_matrix = metrics.confusion_matrix(y_test , y_pred)\n",
    "cnf_matrix"
   ]
  },
  {
   "cell_type": "markdown",
   "metadata": {},
   "source": [
    "Yani kurduğumuz Modelin yukarıdaki **Confusion Metrix**'ine bakarsak **;** İlk Satırında **, '100'** tane Diyabet **olmamış** insan var... Modelimiz ile bunun **'92'** tanesini **doğru tahmin** etmişiz ama **'8'** tanesinde **yanılmışız** ve bunlar diyabet demişiz...\n",
    "<br> İkinci satırında da **'54'** tane Diyabet **olan** insan var... Modelimiz ile **, '25'** tane Diyabet olan insan için **, yanılmışız** ve hayır bunlar diyabet değil demişiz. **'29'** tane diyabet olan hastaya da evet bunlar Diyabet hastası demişiz ve **doğru bilmişiz**..."
   ]
  },
  {
   "cell_type": "markdown",
   "metadata": {},
   "source": [
    "Yani **'accuracy'**'e bakarsak başarımız **%78...** gibi ama aslında olan bu değil. Modelimiz daha **başarısız** bir modeldir... Çünkü **modelimiz , gerçekten hasta olan insanları bulmakta zorlanıyor**...\n",
    "<br> **True Positive Rate (recall, sensitivity, power)**'ye bakarsak başarımız bayağı az... Ve hasta olan insanları bulmak için bir model geliştirmeye çalıştığımızdan, **True Positive Rate (recall, sensitivity, power)** metriğini kullanmalıyız..."
   ]
  },
  {
   "cell_type": "markdown",
   "metadata": {},
   "source": [
    "+ **Confusion Matrix**'i grafik olarak gösterelim **:**"
   ]
  },
  {
   "cell_type": "code",
   "execution_count": 64,
   "metadata": {},
   "outputs": [],
   "source": [
    "def plot_conf_mat(y_testing , y_predictions):\n",
    "    \"\"\"\n",
    "    + Plots a nice looking 'confusion matrix' using Seaborn's heatmap() :\n",
    "    + Seaborn'un heatmap() yöntemini kullanarak güzel görünen bir 'confusion matrisi' çizelim :\n",
    "    \"\"\"\n",
    "    sns.set(font_scale=1.7)\n",
    "    fig , ax = plt.subplots(figsize=(4 , 4))\n",
    "    ax = sns.heatmap(confusion_matrix(y_testing , y_predictions) ,\n",
    "                     annot=True ,\n",
    "                     cbar=False)\n",
    "    plt.xlabel(\"Predicted label\")\n",
    "    plt.ylabel(\"True label\")\n",
    "    \n",
    "    bottom , top = ax.get_ylim()\n",
    "    ax.set_ylim(bottom + 0.1 , top - 0.1)"
   ]
  },
  {
   "cell_type": "code",
   "execution_count": 65,
   "metadata": {},
   "outputs": [
    {
     "data": {
      "image/png": "[encoded data removed]",
      "text/plain": [
       "<Figure size 288x288 with 1 Axes>"
      ]
     },
     "metadata": {},
     "output_type": "display_data"
    }
   ],
   "source": [
    "plot_conf_mat(y_test , y_pred)"
   ]
  },
  {
   "cell_type": "code",
   "execution_count": 66,
   "metadata": {
    "scrolled": true
   },
   "outputs": [
    {
     "name": "stdout",
     "output_type": "stream",
     "text": [
      "Accuracy: 0.7857142857142857\n",
      "Precision: 0.7837837837837838\n",
      "Recall: 0.5370370370370371\n"
     ]
    }
   ],
   "source": [
    "from sklearn import metrics\n",
    "\n",
    "print(\"Accuracy:\", metrics.accuracy_score(y_test, y_pred))\n",
    "print(\"Precision:\", metrics.precision_score(y_test, y_pred))\n",
    "print(\"Recall:\", metrics.recall_score(y_test, y_pred))"
   ]
  },
  {
   "cell_type": "code",
   "execution_count": 25,
   "metadata": {},
   "outputs": [
    {
     "data": {
      "text/html": [
       "<div>\n",
       "<style scoped>\n",
       "    .dataframe tbody tr th:only-of-type {\n",
       "        vertical-align: middle;\n",
       "    }\n",
       "\n",
       "    .dataframe tbody tr th {\n",
       "        vertical-align: top;\n",
       "    }\n",
       "\n",
       "    .dataframe thead th {\n",
       "        text-align: right;\n",
       "    }\n",
       "</style>\n",
       "<table border=\"1\" class=\"dataframe\">\n",
       "  <thead>\n",
       "    <tr style=\"text-align: right;\">\n",
       "      <th></th>\n",
       "      <th>Preg</th>\n",
       "      <th>Glucose</th>\n",
       "      <th>BP</th>\n",
       "      <th>SkinThick</th>\n",
       "      <th>Insul</th>\n",
       "      <th>BMI</th>\n",
       "      <th>DPF</th>\n",
       "      <th>Age</th>\n",
       "    </tr>\n",
       "  </thead>\n",
       "  <tbody>\n",
       "    <tr>\n",
       "      <th>488</th>\n",
       "      <td>4</td>\n",
       "      <td>99</td>\n",
       "      <td>72</td>\n",
       "      <td>17</td>\n",
       "      <td>0</td>\n",
       "      <td>25.6</td>\n",
       "      <td>0.294</td>\n",
       "      <td>28</td>\n",
       "    </tr>\n",
       "    <tr>\n",
       "      <th>413</th>\n",
       "      <td>1</td>\n",
       "      <td>143</td>\n",
       "      <td>74</td>\n",
       "      <td>22</td>\n",
       "      <td>61</td>\n",
       "      <td>26.2</td>\n",
       "      <td>0.256</td>\n",
       "      <td>21</td>\n",
       "    </tr>\n",
       "    <tr>\n",
       "      <th>112</th>\n",
       "      <td>1</td>\n",
       "      <td>89</td>\n",
       "      <td>76</td>\n",
       "      <td>34</td>\n",
       "      <td>37</td>\n",
       "      <td>31.2</td>\n",
       "      <td>0.192</td>\n",
       "      <td>23</td>\n",
       "    </tr>\n",
       "    <tr>\n",
       "      <th>222</th>\n",
       "      <td>7</td>\n",
       "      <td>119</td>\n",
       "      <td>0</td>\n",
       "      <td>0</td>\n",
       "      <td>0</td>\n",
       "      <td>25.2</td>\n",
       "      <td>0.209</td>\n",
       "      <td>37</td>\n",
       "    </tr>\n",
       "    <tr>\n",
       "      <th>711</th>\n",
       "      <td>5</td>\n",
       "      <td>126</td>\n",
       "      <td>78</td>\n",
       "      <td>27</td>\n",
       "      <td>22</td>\n",
       "      <td>29.6</td>\n",
       "      <td>0.439</td>\n",
       "      <td>40</td>\n",
       "    </tr>\n",
       "    <tr>\n",
       "      <th>...</th>\n",
       "      <td>...</td>\n",
       "      <td>...</td>\n",
       "      <td>...</td>\n",
       "      <td>...</td>\n",
       "      <td>...</td>\n",
       "      <td>...</td>\n",
       "      <td>...</td>\n",
       "      <td>...</td>\n",
       "    </tr>\n",
       "    <tr>\n",
       "      <th>139</th>\n",
       "      <td>5</td>\n",
       "      <td>105</td>\n",
       "      <td>72</td>\n",
       "      <td>29</td>\n",
       "      <td>325</td>\n",
       "      <td>36.9</td>\n",
       "      <td>0.159</td>\n",
       "      <td>28</td>\n",
       "    </tr>\n",
       "    <tr>\n",
       "      <th>178</th>\n",
       "      <td>5</td>\n",
       "      <td>143</td>\n",
       "      <td>78</td>\n",
       "      <td>0</td>\n",
       "      <td>0</td>\n",
       "      <td>45.0</td>\n",
       "      <td>0.190</td>\n",
       "      <td>47</td>\n",
       "    </tr>\n",
       "    <tr>\n",
       "      <th>654</th>\n",
       "      <td>1</td>\n",
       "      <td>106</td>\n",
       "      <td>70</td>\n",
       "      <td>28</td>\n",
       "      <td>135</td>\n",
       "      <td>34.2</td>\n",
       "      <td>0.142</td>\n",
       "      <td>22</td>\n",
       "    </tr>\n",
       "    <tr>\n",
       "      <th>110</th>\n",
       "      <td>3</td>\n",
       "      <td>171</td>\n",
       "      <td>72</td>\n",
       "      <td>33</td>\n",
       "      <td>135</td>\n",
       "      <td>33.3</td>\n",
       "      <td>0.199</td>\n",
       "      <td>24</td>\n",
       "    </tr>\n",
       "    <tr>\n",
       "      <th>102</th>\n",
       "      <td>0</td>\n",
       "      <td>125</td>\n",
       "      <td>96</td>\n",
       "      <td>0</td>\n",
       "      <td>0</td>\n",
       "      <td>22.5</td>\n",
       "      <td>0.262</td>\n",
       "      <td>21</td>\n",
       "    </tr>\n",
       "  </tbody>\n",
       "</table>\n",
       "<p>154 rows × 8 columns</p>\n",
       "</div>"
      ],
      "text/plain": [
       "     Preg  Glucose  BP  SkinThick  Insul   BMI    DPF  Age\n",
       "488     4       99  72         17      0  25.6  0.294   28\n",
       "413     1      143  74         22     61  26.2  0.256   21\n",
       "112     1       89  76         34     37  31.2  0.192   23\n",
       "222     7      119   0          0      0  25.2  0.209   37\n",
       "711     5      126  78         27     22  29.6  0.439   40\n",
       "..    ...      ...  ..        ...    ...   ...    ...  ...\n",
       "139     5      105  72         29    325  36.9  0.159   28\n",
       "178     5      143  78          0      0  45.0  0.190   47\n",
       "654     1      106  70         28    135  34.2  0.142   22\n",
       "110     3      171  72         33    135  33.3  0.199   24\n",
       "102     0      125  96          0      0  22.5  0.262   21\n",
       "\n",
       "[154 rows x 8 columns]"
      ]
     },
     "execution_count": 25,
     "metadata": {},
     "output_type": "execute_result"
    }
   ],
   "source": [
    "X_test"
   ]
  },
  {
   "cell_type": "markdown",
   "metadata": {},
   "source": [
    "+ **Yarattığımız model içerisinde , ``'Olasılık Tahmini'``** yapmak istersek **, ``predict_proba( )``** metodunu kullanacağız **:**\n",
    "<br> Burada **,** modelimizin eğitim esnasında asla görmediği **'X_test'** Veri Setinin **Olasılık Tahminlerini** bulalım **:**"
   ]
  },
  {
   "cell_type": "code",
   "execution_count": 59,
   "metadata": {},
   "outputs": [
    {
     "data": {
      "text/plain": [
       "array([[0.92766768, 0.07233232],\n",
       "       [0.83534288, 0.16465712],\n",
       "       [0.95826737, 0.04173263],\n",
       "       [0.54295589, 0.45704411],\n",
       "       [0.71154132, 0.28845868],\n",
       "       [0.7773145 , 0.2226855 ],\n",
       "       [0.9705417 , 0.0294583 ],\n",
       "       [0.90448317, 0.09551683],\n",
       "       [0.22067558, 0.77932442],\n",
       "       [0.95220937, 0.04779063],\n",
       "       [0.78436229, 0.21563771],\n",
       "       [0.94748324, 0.05251676],\n",
       "       [0.24129565, 0.75870435],\n",
       "       [0.97123073, 0.02876927],\n",
       "       [0.9521554 , 0.0478446 ],\n",
       "       [0.71307927, 0.28692073],\n",
       "       [0.72995079, 0.27004921],\n",
       "       [0.47857611, 0.52142389],\n",
       "       [0.85535253, 0.14464747],\n",
       "       [0.30078395, 0.69921605],\n",
       "       [0.24526574, 0.75473426],\n",
       "       [0.91612691, 0.08387309],\n",
       "       [0.56841936, 0.43158064],\n",
       "       [0.97141313, 0.02858687],\n",
       "       [0.76948873, 0.23051127],\n",
       "       [0.82665413, 0.17334587],\n",
       "       [0.52197123, 0.47802877],\n",
       "       [0.91606819, 0.08393181],\n",
       "       [0.95266307, 0.04733693],\n",
       "       [0.93618579, 0.06381421],\n",
       "       [0.93886276, 0.06113724],\n",
       "       [0.99681192, 0.00318808],\n",
       "       [0.97400878, 0.02599122],\n",
       "       [0.76752857, 0.23247143],\n",
       "       [0.30013633, 0.69986367],\n",
       "       [0.13144154, 0.86855846],\n",
       "       [0.83159752, 0.16840248],\n",
       "       [0.13679003, 0.86320997],\n",
       "       [0.81966883, 0.18033117],\n",
       "       [0.85500682, 0.14499318],\n",
       "       [0.9108594 , 0.0891406 ],\n",
       "       [0.12648014, 0.87351986],\n",
       "       [0.86092642, 0.13907358],\n",
       "       [0.53404848, 0.46595152],\n",
       "       [0.75484985, 0.24515015],\n",
       "       [0.77188512, 0.22811488],\n",
       "       [0.76366706, 0.23633294],\n",
       "       [0.88129875, 0.11870125],\n",
       "       [0.4794863 , 0.5205137 ],\n",
       "       [0.07519227, 0.92480773],\n",
       "       [0.96142174, 0.03857826],\n",
       "       [0.80800127, 0.19199873],\n",
       "       [0.35092583, 0.64907417],\n",
       "       [0.60237672, 0.39762328],\n",
       "       [0.77847051, 0.22152949],\n",
       "       [0.70570594, 0.29429406],\n",
       "       [0.8435444 , 0.1564556 ],\n",
       "       [0.96824082, 0.03175918],\n",
       "       [0.33843633, 0.66156367],\n",
       "       [0.29552267, 0.70447733],\n",
       "       [0.9410295 , 0.0589705 ],\n",
       "       [0.7552923 , 0.2447077 ],\n",
       "       [0.97041527, 0.02958473],\n",
       "       [0.91315792, 0.08684208],\n",
       "       [0.01825745, 0.98174255],\n",
       "       [0.89898762, 0.10101238],\n",
       "       [0.99826922, 0.00173078],\n",
       "       [0.18656759, 0.81343241],\n",
       "       [0.96471329, 0.03528671],\n",
       "       [0.60010706, 0.39989294],\n",
       "       [0.36959034, 0.63040966],\n",
       "       [0.95733566, 0.04266434],\n",
       "       [0.6159555 , 0.3840445 ],\n",
       "       [0.5906207 , 0.4093793 ],\n",
       "       [0.50130405, 0.49869595],\n",
       "       [0.79033625, 0.20966375],\n",
       "       [0.26559043, 0.73440957],\n",
       "       [0.53134892, 0.46865108],\n",
       "       [0.68223203, 0.31776797],\n",
       "       [0.51230705, 0.48769295],\n",
       "       [0.6712677 , 0.3287323 ],\n",
       "       [0.55957737, 0.44042263],\n",
       "       [0.52988453, 0.47011547],\n",
       "       [0.52721626, 0.47278374],\n",
       "       [0.66401079, 0.33598921],\n",
       "       [0.38425878, 0.61574122],\n",
       "       [0.7762324 , 0.2237676 ],\n",
       "       [0.66015471, 0.33984529],\n",
       "       [0.11441702, 0.88558298],\n",
       "       [0.7505988 , 0.2494012 ],\n",
       "       [0.3076701 , 0.6923299 ],\n",
       "       [0.89343728, 0.10656272],\n",
       "       [0.75737299, 0.24262701],\n",
       "       [0.63490286, 0.36509714],\n",
       "       [0.79844776, 0.20155224],\n",
       "       [0.77456965, 0.22543035],\n",
       "       [0.896758  , 0.103242  ],\n",
       "       [0.98605269, 0.01394731],\n",
       "       [0.33889816, 0.66110184],\n",
       "       [0.59829714, 0.40170286],\n",
       "       [0.76135099, 0.23864901],\n",
       "       [0.93181749, 0.06818251],\n",
       "       [0.61245626, 0.38754374],\n",
       "       [0.05699357, 0.94300643],\n",
       "       [0.68948849, 0.31051151],\n",
       "       [0.55707673, 0.44292327],\n",
       "       [0.31332749, 0.68667251],\n",
       "       [0.89021053, 0.10978947],\n",
       "       [0.88820541, 0.11179459],\n",
       "       [0.03798731, 0.96201269],\n",
       "       [0.61160133, 0.38839867],\n",
       "       [0.914183  , 0.085817  ],\n",
       "       [0.89857102, 0.10142898],\n",
       "       [0.60072116, 0.39927884],\n",
       "       [0.27632153, 0.72367847],\n",
       "       [0.14955403, 0.85044597],\n",
       "       [0.5895632 , 0.4104368 ],\n",
       "       [0.90378424, 0.09621576],\n",
       "       [0.08573716, 0.91426284],\n",
       "       [0.23877292, 0.76122708],\n",
       "       [0.73824633, 0.26175367],\n",
       "       [0.99158727, 0.00841273],\n",
       "       [0.92314614, 0.07685386],\n",
       "       [0.71931562, 0.28068438],\n",
       "       [0.84553637, 0.15446363],\n",
       "       [0.34963042, 0.65036958],\n",
       "       [0.89344918, 0.10655082],\n",
       "       [0.93276101, 0.06723899],\n",
       "       [0.43349718, 0.56650282],\n",
       "       [0.35478455, 0.64521545],\n",
       "       [0.24012153, 0.75987847],\n",
       "       [0.88612901, 0.11387099],\n",
       "       [0.93113807, 0.06886193],\n",
       "       [0.80242262, 0.19757738],\n",
       "       [0.93597695, 0.06402305],\n",
       "       [0.74246748, 0.25753252],\n",
       "       [0.3809845 , 0.6190155 ],\n",
       "       [0.80817356, 0.19182644],\n",
       "       [0.90025779, 0.09974221],\n",
       "       [0.40670915, 0.59329085],\n",
       "       [0.97309589, 0.02690411],\n",
       "       [0.86010774, 0.13989226],\n",
       "       [0.87661047, 0.12338953],\n",
       "       [0.91709393, 0.08290607],\n",
       "       [0.67544846, 0.32455154],\n",
       "       [0.84278379, 0.15721621],\n",
       "       [0.95358393, 0.04641607],\n",
       "       [0.64276145, 0.35723855],\n",
       "       [0.61289486, 0.38710514],\n",
       "       [0.82365369, 0.17634631],\n",
       "       [0.24759843, 0.75240157],\n",
       "       [0.90575266, 0.09424734],\n",
       "       [0.44760059, 0.55239941],\n",
       "       [0.95074135, 0.04925865]])"
      ]
     },
     "execution_count": 59,
     "metadata": {},
     "output_type": "execute_result"
    }
   ],
   "source": [
    "logmodel.predict_proba(X_test)"
   ]
  },
  {
   "cell_type": "markdown",
   "metadata": {},
   "source": [
    "+ Mesela yukarıda OUT'da, SON **Köşeli Parantez** içerisindeki **Olasılık Tahmini** olan **'0.95074135'** nedir **?**\n",
    "<br> Diyabet **olmama** olasılığıdır...\n",
    "+ Peki aynı **Köşeli Parantez** içerisindeki (**Veri**'deki) diğer **Olasılık Tahmini** olan **'0.04925865'** nedir **?**\n",
    "<br> O da diyabet **olma** olasılığıdır..."
   ]
  },
  {
   "cell_type": "markdown",
   "metadata": {},
   "source": [
    "**+--- NOTE ---> Threshold** default olarak **'0.5'** olduğu için, **'0.5'**'in üzerindeki olasılıklara **'1'**, altındaki olasılıklara da **'0'** sonucu veriyor...\n",
    "+ Şimdi de sadece **Diyabet Olma ihtimallerini** alalım. Yani **'0**' numaralı sınıfı **atıp,** sadece **'1'** numaralı sınıftaki verileri seçip gösterelim **:**"
   ]
  },
  {
   "cell_type": "code",
   "execution_count": 73,
   "metadata": {},
   "outputs": [
    {
     "data": {
      "text/plain": [
       "array([0.07233232, 0.16465712, 0.04173263, 0.45704411, 0.28845868,\n",
       "       0.2226855 , 0.0294583 , 0.09551683, 0.77932442, 0.04779063,\n",
       "       0.21563771, 0.05251676, 0.75870435, 0.02876927, 0.0478446 ,\n",
       "       0.28692073, 0.27004921, 0.52142389, 0.14464747, 0.69921605,\n",
       "       0.75473426, 0.08387309, 0.43158064, 0.02858687, 0.23051127,\n",
       "       0.17334587, 0.47802877, 0.08393181, 0.04733693, 0.06381421,\n",
       "       0.06113724, 0.00318808, 0.02599122, 0.23247143, 0.69986367,\n",
       "       0.86855846, 0.16840248, 0.86320997, 0.18033117, 0.14499318,\n",
       "       0.0891406 , 0.87351986, 0.13907358, 0.46595152, 0.24515015,\n",
       "       0.22811488, 0.23633294, 0.11870125, 0.5205137 , 0.92480773,\n",
       "       0.03857826, 0.19199873, 0.64907417, 0.39762328, 0.22152949,\n",
       "       0.29429406, 0.1564556 , 0.03175918, 0.66156367, 0.70447733,\n",
       "       0.0589705 , 0.2447077 , 0.02958473, 0.08684208, 0.98174255,\n",
       "       0.10101238, 0.00173078, 0.81343241, 0.03528671, 0.39989294,\n",
       "       0.63040966, 0.04266434, 0.3840445 , 0.4093793 , 0.49869595,\n",
       "       0.20966375, 0.73440957, 0.46865108, 0.31776797, 0.48769295,\n",
       "       0.3287323 , 0.44042263, 0.47011547, 0.47278374, 0.33598921,\n",
       "       0.61574122, 0.2237676 , 0.33984529, 0.88558298, 0.2494012 ,\n",
       "       0.6923299 , 0.10656272, 0.24262701, 0.36509714, 0.20155224,\n",
       "       0.22543035, 0.103242  , 0.01394731, 0.66110184, 0.40170286,\n",
       "       0.23864901, 0.06818251, 0.38754374, 0.94300643, 0.31051151,\n",
       "       0.44292327, 0.68667251, 0.10978947, 0.11179459, 0.96201269,\n",
       "       0.38839867, 0.085817  , 0.10142898, 0.39927884, 0.72367847,\n",
       "       0.85044597, 0.4104368 , 0.09621576, 0.91426284, 0.76122708,\n",
       "       0.26175367, 0.00841273, 0.07685386, 0.28068438, 0.15446363,\n",
       "       0.65036958, 0.10655082, 0.06723899, 0.56650282, 0.64521545,\n",
       "       0.75987847, 0.11387099, 0.06886193, 0.19757738, 0.06402305,\n",
       "       0.25753252, 0.6190155 , 0.19182644, 0.09974221, 0.59329085,\n",
       "       0.02690411, 0.13989226, 0.12338953, 0.08290607, 0.32455154,\n",
       "       0.15721621, 0.04641607, 0.35723855, 0.38710514, 0.17634631,\n",
       "       0.75240157, 0.09424734, 0.55239941, 0.04925865])"
      ]
     },
     "execution_count": 73,
     "metadata": {},
     "output_type": "execute_result"
    }
   ],
   "source": [
    "y_pred_proba = logmodel.predict_proba(X_test)[:: , 1]\n",
    "y_pred_proba"
   ]
  },
  {
   "cell_type": "code",
   "execution_count": 61,
   "metadata": {},
   "outputs": [
    {
     "data": {
      "text/plain": [
       "array([0, 0, 0, 0, 0, 0, 0, 0, 1, 0, 0, 0, 1, 0, 0, 0, 0, 1, 0, 1, 1, 0,\n",
       "       0, 0, 0, 0, 0, 0, 0, 0, 0, 0, 0, 0, 1, 1, 0, 1, 0, 0, 0, 1, 0, 0,\n",
       "       0, 0, 0, 0, 1, 1, 0, 0, 1, 0, 0, 0, 0, 0, 1, 1, 0, 0, 0, 0, 1, 0,\n",
       "       0, 1, 0, 0, 1, 0, 0, 0, 0, 0, 1, 0, 0, 0, 0, 0, 0, 0, 0, 1, 0, 0,\n",
       "       1, 0, 1, 0, 0, 0, 0, 0, 0, 0, 1, 0, 0, 0, 0, 1, 0, 0, 1, 0, 0, 1,\n",
       "       0, 0, 0, 0, 1, 1, 0, 0, 1, 1, 0, 0, 0, 0, 0, 1, 0, 0, 1, 1, 1, 0,\n",
       "       0, 0, 0, 0, 1, 0, 0, 1, 0, 0, 0, 0, 0, 0, 0, 0, 0, 0, 1, 0, 1, 0],\n",
       "      dtype=int64)"
      ]
     },
     "execution_count": 61,
     "metadata": {},
     "output_type": "execute_result"
    }
   ],
   "source": [
    "y_pred"
   ]
  },
  {
   "cell_type": "markdown",
   "metadata": {},
   "source": [
    "+ Şimdi de, **Prediction**'u manuel olarak kendimiz yapalım **:**"
   ]
  },
  {
   "cell_type": "code",
   "execution_count": 74,
   "metadata": {},
   "outputs": [
    {
     "data": {
      "text/plain": [
       "array([0, 0, 0, 1, 0, 0, 0, 0, 1, 0, 0, 0, 1, 0, 0, 0, 0, 1, 0, 1, 1, 0,\n",
       "       1, 0, 0, 0, 1, 0, 0, 0, 0, 0, 0, 0, 1, 1, 0, 1, 0, 0, 0, 1, 0, 1,\n",
       "       0, 0, 0, 0, 1, 1, 0, 0, 1, 1, 0, 0, 0, 0, 1, 1, 0, 0, 0, 0, 1, 0,\n",
       "       0, 1, 0, 1, 1, 0, 1, 1, 1, 0, 1, 1, 1, 1, 1, 1, 1, 1, 1, 1, 0, 1,\n",
       "       1, 0, 1, 0, 0, 1, 0, 0, 0, 0, 1, 1, 0, 0, 1, 1, 1, 1, 1, 0, 0, 1,\n",
       "       1, 0, 0, 1, 1, 1, 1, 0, 1, 1, 0, 0, 0, 0, 0, 1, 0, 0, 1, 1, 1, 0,\n",
       "       0, 0, 0, 0, 1, 0, 0, 1, 0, 0, 0, 0, 1, 0, 0, 1, 1, 0, 1, 0, 1, 0])"
      ]
     },
     "execution_count": 74,
     "metadata": {},
     "output_type": "execute_result"
    }
   ],
   "source": [
    "threshold = 0.3\n",
    "\n",
    "y_pred1 = (y_pred_proba > threshold).astype('int')\n",
    "y_pred1"
   ]
  },
  {
   "cell_type": "code",
   "execution_count": 74,
   "metadata": {},
   "outputs": [
    {
     "data": {
      "text/plain": [
       "array([[75, 25],\n",
       "       [13, 41]], dtype=int64)"
      ]
     },
     "execution_count": 74,
     "metadata": {},
     "output_type": "execute_result"
    }
   ],
   "source": [
    "metrics.confusion_matrix(y_test , y_pred1)"
   ]
  },
  {
   "cell_type": "code",
   "execution_count": 75,
   "metadata": {},
   "outputs": [
    {
     "data": {
      "text/plain": [
       "array([0, 0, 0, 0, 0, 0, 0, 0, 1, 0, 0, 0, 1, 0, 0, 0, 0, 1, 0, 1, 1, 0,\n",
       "       0, 0, 1, 1, 1, 0, 0, 0, 1, 0, 1, 0, 1, 1, 1, 1, 0, 0, 0, 1, 0, 1,\n",
       "       0, 0, 1, 0, 1, 1, 0, 1, 0, 1, 0, 1, 0, 0, 1, 0, 0, 0, 0, 0, 0, 0,\n",
       "       0, 1, 0, 1, 1, 0, 1, 1, 0, 1, 1, 1, 1, 0, 1, 0, 0, 0, 1, 1, 0, 0,\n",
       "       1, 0, 1, 0, 0, 0, 0, 1, 0, 0, 0, 0, 0, 0, 0, 0, 0, 0, 1, 0, 0, 1,\n",
       "       0, 1, 0, 1, 0, 1, 0, 0, 1, 1, 0, 0, 0, 0, 0, 1, 0, 0, 1, 0, 1, 0,\n",
       "       0, 0, 0, 0, 1, 0, 0, 1, 0, 0, 1, 0, 0, 1, 0, 1, 0, 0, 0, 0, 1, 0],\n",
       "      dtype=int64)"
      ]
     },
     "execution_count": 75,
     "metadata": {},
     "output_type": "execute_result"
    }
   ],
   "source": [
    "np.array(y_test)"
   ]
  },
  {
   "cell_type": "code",
   "execution_count": 75,
   "metadata": {},
   "outputs": [
    {
     "data": {
      "text/plain": [
       "array([0., 0., 0., 1., 1., 1., 0., 0., 1., 0., 1., 0., 1., 0., 0., 1., 1.,\n",
       "       1., 0., 1., 1., 0., 1., 0., 1., 0., 1., 0., 0., 0., 0., 0., 0., 1.,\n",
       "       1., 1., 0., 1., 0., 0., 0., 1., 0., 1., 1., 1., 1., 0., 1., 1., 0.,\n",
       "       0., 1., 1., 1., 1., 0., 0., 1., 1., 0., 1., 0., 0., 1., 0., 0., 1.,\n",
       "       0., 1., 1., 0., 1., 1., 1., 1., 1., 1., 1., 1., 1., 1., 1., 1., 1.,\n",
       "       1., 1., 1., 1., 1., 1., 0., 1., 1., 1., 1., 0., 0., 1., 1., 1., 0.,\n",
       "       1., 1., 1., 1., 1., 0., 0., 1., 1., 0., 0., 1., 1., 1., 1., 0., 1.,\n",
       "       1., 1., 0., 0., 1., 0., 1., 0., 0., 1., 1., 1., 0., 0., 0., 0., 1.,\n",
       "       1., 0., 0., 1., 0., 0., 0., 0., 1., 0., 0., 1., 1., 0., 1., 0., 1.,\n",
       "       0.])"
      ]
     },
     "execution_count": 75,
     "metadata": {},
     "output_type": "execute_result"
    }
   ],
   "source": [
    "threshold = 0.2\n",
    "\n",
    "y_pred2 = (logmodel.predict_proba(X_test)[:: , 1] > threshold).astype('float')\n",
    "y_pred2"
   ]
  },
  {
   "cell_type": "code",
   "execution_count": 76,
   "metadata": {},
   "outputs": [
    {
     "data": {
      "image/png": "[encoded data removed]",
      "text/plain": [
       "<Figure size 288x288 with 1 Axes>"
      ]
     },
     "metadata": {},
     "output_type": "display_data"
    }
   ],
   "source": [
    "plot_conf_mat(y_test , y_pred2)"
   ]
  },
  {
   "cell_type": "markdown",
   "metadata": {},
   "source": [
    "Yukarıda yaptığımız, **'y_pred1'** ve **'y_pred2'** tahminleri ile de Diyabet hastaları içerisinden hasta olanları tespit etmek konusunda modelimizin başarızı arttı. ANCAK, bu defa da hasta olmayan insanlar için çok fazla hasta olduklarına dair tahmin yaptı... Yani yine pek başarılı bir model sayılamaz...\n",
    "<br> Ama **Threshold**'lar arasında da en tercih edilebilir olanı sanırım **'threshold = 0.3'** oldu... Ama tabii bu amacımıza göre de değişir...\n",
    "<br> Daha doğru kararı **,** hataların bize maliyetlerine göre veririz..."
   ]
  },
  {
   "cell_type": "markdown",
   "metadata": {},
   "source": [
    "### **ROC Curves**"
   ]
  },
  {
   "cell_type": "markdown",
   "metadata": {},
   "source": [
    "**#########################**\n",
    "<br> **AUC =** Eğrinin altında kalan alan.\n",
    "<br> **fpr =** False positive rate.\n",
    "<br> **tpr =** True positive rate.\n",
    "<br> **auc =** Area under the curve.\n",
    "<br> **#########################**"
   ]
  },
  {
   "cell_type": "code",
   "execution_count": 89,
   "metadata": {},
   "outputs": [
    {
     "data": {
      "text/plain": [
       "(array([0.  , 0.01, 0.01, 0.02, 0.02, 0.03, 0.03, 0.05, 0.05, 0.06, 0.06,\n",
       "        0.08, 0.08, 0.1 , 0.1 , 0.12, 0.12, 0.17, 0.17, 0.18, 0.18, 0.21,\n",
       "        0.21, 0.22, 0.22, 0.23, 0.23, 0.24, 0.24, 0.25, 0.25, 0.36, 0.36,\n",
       "        0.37, 0.37, 0.38, 0.38, 0.42, 0.42, 0.44, 0.44, 0.47, 0.47, 0.48,\n",
       "        0.48, 0.54, 0.54, 0.69, 0.69, 0.79, 0.79, 0.96, 0.96, 1.  ]),\n",
       " array([0.        , 0.        , 0.01851852, 0.01851852, 0.25925926,\n",
       "        0.25925926, 0.27777778, 0.27777778, 0.37037037, 0.37037037,\n",
       "        0.38888889, 0.38888889, 0.53703704, 0.53703704, 0.55555556,\n",
       "        0.55555556, 0.59259259, 0.59259259, 0.61111111, 0.61111111,\n",
       "        0.66666667, 0.66666667, 0.68518519, 0.68518519, 0.7037037 ,\n",
       "        0.7037037 , 0.74074074, 0.74074074, 0.75925926, 0.75925926,\n",
       "        0.77777778, 0.77777778, 0.7962963 , 0.7962963 , 0.81481481,\n",
       "        0.81481481, 0.83333333, 0.83333333, 0.85185185, 0.85185185,\n",
       "        0.87037037, 0.87037037, 0.90740741, 0.90740741, 0.92592593,\n",
       "        0.92592593, 0.94444444, 0.94444444, 0.96296296, 0.96296296,\n",
       "        0.98148148, 0.98148148, 1.        , 1.        ]),\n",
       " array([1.98174255e+00, 9.81742549e-01, 9.62012687e-01, 9.43006429e-01,\n",
       "        7.54734257e-01, 7.52401569e-01, 7.34409568e-01, 7.04477335e-01,\n",
       "        6.61563666e-01, 6.61101840e-01, 6.50369576e-01, 6.45215445e-01,\n",
       "        5.20513699e-01, 4.87692945e-01, 4.78028766e-01, 4.70115470e-01,\n",
       "        4.65951515e-01, 4.10436802e-01, 4.09379297e-01, 4.01702861e-01,\n",
       "        3.97623275e-01, 3.87105141e-01, 3.84044496e-01, 3.65097135e-01,\n",
       "        3.57238546e-01, 3.39845294e-01, 3.28732298e-01, 3.24551544e-01,\n",
       "        3.17767973e-01, 3.10511509e-01, 2.94294061e-01, 2.38649005e-01,\n",
       "        2.36332938e-01, 2.32471427e-01, 2.30511275e-01, 2.28114882e-01,\n",
       "        2.25430348e-01, 2.15637709e-01, 2.09663749e-01, 1.97577383e-01,\n",
       "        1.91998726e-01, 1.76346315e-01, 1.68402475e-01, 1.64657122e-01,\n",
       "        1.57216210e-01, 1.39073580e-01, 1.23389528e-01, 8.68420782e-02,\n",
       "        8.58169961e-02, 6.38142100e-02, 6.11372417e-02, 2.69041054e-02,\n",
       "        2.59912175e-02, 1.73077735e-03]))"
      ]
     },
     "execution_count": 89,
     "metadata": {},
     "output_type": "execute_result"
    }
   ],
   "source": [
    "roc_curve(y_test , y_pred_proba)"
   ]
  },
  {
   "cell_type": "markdown",
   "metadata": {},
   "source": [
    "Aşağıdaki, **'``_``'** ataması da **; ``roc_curve(y_test, y_pred_proba)``** metodunun OUTPUT'udur. Yukarıda gördüğümüz gibi, ``roc_curve(y_test, y_pred_proba)``, OUTPUT olarak ÜÇ tane **'array'** çıkarttığından, son **'array'** için de bu işareti yazdık... **``'_'``** işaretinin yerine başka herhangi bir şey de yazabilirdik... "
   ]
  },
  {
   "cell_type": "code",
   "execution_count": 88,
   "metadata": {},
   "outputs": [
    {
     "data": {
      "image/png": "[encoded data removed]",
      "text/plain": [
       "<Figure size 432x288 with 1 Axes>"
      ]
     },
     "metadata": {},
     "output_type": "display_data"
    }
   ],
   "source": [
    "from sklearn.metrics import roc_curve , roc_auc_score\n",
    "\n",
    "fpr , tpr , _ = roc_curve(y_test, y_pred_proba)\n",
    "auc = roc_auc_score(y_test, y_pred_proba)\n",
    "plt.plot(fpr, tpr, label=\"data 1 , auc=\" + str(auc))\n",
    "plt.legend(loc=3)\n",
    "plt.show()"
   ]
  },
  {
   "cell_type": "markdown",
   "metadata": {},
   "source": [
    "Artık, **'0.8138...'** gibi bir **Sınıflama aracımız** var. Bu, **Threshold independent (Eşikten bağımsız)** bir metriktir. Bu **AUC** değerini kullanarak, hangi Sınıflayıcının **daha iyi olduğunu** bulabiliriz... Farklı metrikleri **'AUC'** ile **karşılaştırabiliriz...**\n",
    "<br> **+--- NOTE ---> Line (Çizgi)**'nin **altında kalan alan,** ne kadar **\"1\"**'e yakınsa o kadar iyi bir **Sınıflayıcımız** vardır..."
   ]
  },
  {
   "cell_type": "markdown",
   "metadata": {},
   "source": [
    "**+--- NOTE --->** ``roc_curve( )`` içerisinde SHIFT + TAB tuşlarına basarak, tüm PARAMETRE'lere, RETURN'lara ve ÖRNEK'lere ulaşabiliriz...\n",
    "<br> RETURN olarak **; fpr , tpr** ve **thresholds** döndürüyor...\n",
    "<br> Yani ÜÇÜNCÜ **'array'**'da **,** kullandığı **'threshold'**'ları gösteriyor... Yani **'threshold'**'ların değişimini gösteriyor...\n",
    "\n",
    "**+--- NOTE --->** ``roc_auc_score( )`` metodu da RETURN olarak **; auc : float** döndürüyor..."
   ]
  },
  {
   "cell_type": "markdown",
   "metadata": {},
   "source": [
    "---\n",
    "---\n",
    "---"
   ]
  },
  {
   "cell_type": "code",
   "execution_count": 96,
   "metadata": {},
   "outputs": [
    {
     "data": {
      "text/html": [
       "<div>\n",
       "<style scoped>\n",
       "    .dataframe tbody tr th:only-of-type {\n",
       "        vertical-align: middle;\n",
       "    }\n",
       "\n",
       "    .dataframe tbody tr th {\n",
       "        vertical-align: top;\n",
       "    }\n",
       "\n",
       "    .dataframe thead th {\n",
       "        text-align: right;\n",
       "    }\n",
       "</style>\n",
       "<table border=\"1\" class=\"dataframe\">\n",
       "  <thead>\n",
       "    <tr style=\"text-align: right;\">\n",
       "      <th></th>\n",
       "      <th>Preg</th>\n",
       "      <th>Glucose</th>\n",
       "      <th>BP</th>\n",
       "      <th>SkinThick</th>\n",
       "      <th>Insul</th>\n",
       "      <th>BMI</th>\n",
       "      <th>DPF</th>\n",
       "      <th>Age</th>\n",
       "      <th>Diabetes</th>\n",
       "    </tr>\n",
       "  </thead>\n",
       "  <tbody>\n",
       "    <tr>\n",
       "      <th>0</th>\n",
       "      <td>6</td>\n",
       "      <td>148</td>\n",
       "      <td>72</td>\n",
       "      <td>35</td>\n",
       "      <td>0</td>\n",
       "      <td>33.6</td>\n",
       "      <td>0.627</td>\n",
       "      <td>50</td>\n",
       "      <td>1</td>\n",
       "    </tr>\n",
       "    <tr>\n",
       "      <th>1</th>\n",
       "      <td>1</td>\n",
       "      <td>85</td>\n",
       "      <td>66</td>\n",
       "      <td>29</td>\n",
       "      <td>0</td>\n",
       "      <td>26.6</td>\n",
       "      <td>0.351</td>\n",
       "      <td>31</td>\n",
       "      <td>0</td>\n",
       "    </tr>\n",
       "    <tr>\n",
       "      <th>2</th>\n",
       "      <td>8</td>\n",
       "      <td>183</td>\n",
       "      <td>64</td>\n",
       "      <td>0</td>\n",
       "      <td>0</td>\n",
       "      <td>23.3</td>\n",
       "      <td>0.672</td>\n",
       "      <td>32</td>\n",
       "      <td>1</td>\n",
       "    </tr>\n",
       "  </tbody>\n",
       "</table>\n",
       "</div>"
      ],
      "text/plain": [
       "   Preg  Glucose  BP  SkinThick  Insul   BMI    DPF  Age  Diabetes\n",
       "0     6      148  72         35      0  33.6  0.627   50         1\n",
       "1     1       85  66         29      0  26.6  0.351   31         0\n",
       "2     8      183  64          0      0  23.3  0.672   32         1"
      ]
     },
     "execution_count": 96,
     "metadata": {},
     "output_type": "execute_result"
    }
   ],
   "source": [
    "df = pd.read_table('diabetesdata.txt')\n",
    "df.head(3)"
   ]
  },
  {
   "cell_type": "code",
   "execution_count": 111,
   "metadata": {},
   "outputs": [],
   "source": [
    "X = df[['Glucose' , 'BMI']]\n",
    "y = df['Diabetes']"
   ]
  },
  {
   "cell_type": "markdown",
   "metadata": {},
   "source": [
    "+ Split Data Set into Training and Test Sets **:**\n",
    "+ Veri Setini TRAINING ve TEST Setlerine ayırın **:**"
   ]
  },
  {
   "cell_type": "code",
   "execution_count": 112,
   "metadata": {},
   "outputs": [],
   "source": [
    "X_train , X_test , y_train , y_test = train_test_split(X , y , test_size=0.2 , random_state=1 , stratify=y)"
   ]
  },
  {
   "cell_type": "code",
   "execution_count": 113,
   "metadata": {},
   "outputs": [
    {
     "data": {
      "text/plain": [
       "LogisticRegression(penalty='none')"
      ]
     },
     "execution_count": 113,
     "metadata": {},
     "output_type": "execute_result"
    }
   ],
   "source": [
    "classifier = LogisticRegression(penalty='none')\n",
    "classifier.fit(X_train , y_train)"
   ]
  },
  {
   "cell_type": "markdown",
   "metadata": {},
   "source": [
    "+ Plot the **decision boundary**... For that, we will assign a color to each point in the mesh **[x_min, x_max]x[y_min, y_max] :**\n",
    "+ **Karar Sınırını (Decision Boundary)** çizin... Bunun için ( **[x_min, x_max] . [y_min, y_max]** ) ağındaki her bir noktaya bir renk atayacağız **:**"
   ]
  },
  {
   "cell_type": "code",
   "execution_count": 114,
   "metadata": {},
   "outputs": [
    {
     "data": {
      "text/html": [
       "<div>\n",
       "<style scoped>\n",
       "    .dataframe tbody tr th:only-of-type {\n",
       "        vertical-align: middle;\n",
       "    }\n",
       "\n",
       "    .dataframe tbody tr th {\n",
       "        vertical-align: top;\n",
       "    }\n",
       "\n",
       "    .dataframe thead th {\n",
       "        text-align: right;\n",
       "    }\n",
       "</style>\n",
       "<table border=\"1\" class=\"dataframe\">\n",
       "  <thead>\n",
       "    <tr style=\"text-align: right;\">\n",
       "      <th></th>\n",
       "      <th>Glucose</th>\n",
       "      <th>BMI</th>\n",
       "    </tr>\n",
       "  </thead>\n",
       "  <tbody>\n",
       "    <tr>\n",
       "      <th>0</th>\n",
       "      <td>148</td>\n",
       "      <td>33.6</td>\n",
       "    </tr>\n",
       "    <tr>\n",
       "      <th>1</th>\n",
       "      <td>85</td>\n",
       "      <td>26.6</td>\n",
       "    </tr>\n",
       "    <tr>\n",
       "      <th>2</th>\n",
       "      <td>183</td>\n",
       "      <td>23.3</td>\n",
       "    </tr>\n",
       "  </tbody>\n",
       "</table>\n",
       "</div>"
      ],
      "text/plain": [
       "   Glucose   BMI\n",
       "0      148  33.6\n",
       "1       85  26.6\n",
       "2      183  23.3"
      ]
     },
     "execution_count": 114,
     "metadata": {},
     "output_type": "execute_result"
    }
   ],
   "source": [
    "X.head(3)"
   ]
  },
  {
   "cell_type": "code",
   "execution_count": 115,
   "metadata": {},
   "outputs": [
    {
     "data": {
      "text/plain": [
       "array([[148. ,  33.6],\n",
       "       [ 85. ,  26.6],\n",
       "       [183. ,  23.3],\n",
       "       ...,\n",
       "       [121. ,  26.2],\n",
       "       [126. ,  30.1],\n",
       "       [ 93. ,  30.4]])"
      ]
     },
     "execution_count": 115,
     "metadata": {},
     "output_type": "execute_result"
    }
   ],
   "source": [
    "X = np.array(X)\n",
    "X"
   ]
  },
  {
   "cell_type": "markdown",
   "metadata": {},
   "source": [
    "**++++ NOTE ++++**\n",
    "<br> **``np.meshgrid( )`` fonksiyonu :**\n",
    "<br>``np.meshgrid( )`` fonksiyonunun amacı **, 'x'** değerleri dizisinden ve **'y'** değerleri dizisinden bir **dikdörtgen ızgara** oluşturmaktır.\n",
    "<br> https://pybilim.wordpress.com/tag/numpy-meshgrid/"
   ]
  },
  {
   "cell_type": "code",
   "execution_count": 116,
   "metadata": {},
   "outputs": [],
   "source": [
    "def plot_dec_boundary(estimator , X , Y , h):\n",
    "    #   Plot the decision boundary. For that, we will assign a color to each\n",
    "    # point in the mesh ( [x_min, x_max] . [y_min, y_max] )\n",
    "    X = np.array(X)\n",
    "    x_min , x_max = X[: , 0].min() - .5 , X[: , 0].max() + .5\n",
    "    y_min , y_max = X[: , 1].min() - .5 , X[: , 1].max() + .5\n",
    "    xx , yy = np.meshgrid(np.arange(x_min , x_max, h) , np.arange(y_min , y_max , h))\n",
    "    Z = estimator.predict(np.c_[xx.ravel() , yy.ravel()])\n",
    "\n",
    "    #   Put the result into a color plot :\n",
    "    #   Sonucu bir renk grafiğine koyun :\n",
    "    Z = Z.reshape(xx.shape)\n",
    "    plt.figure(1 , figsize=(10 , 10))\n",
    "    plt.pcolormesh(xx , yy , Z , cmap=plt.cm.Paired)\n",
    "    \n",
    "    #   Plot also the points :\n",
    "    #   Noktaları da çizelim :\n",
    "    plt.scatter(X[: , 0] , X[: , 1] , c=Y , edgecolors='k' , cmap=plt.cm.Paired)\n",
    "    plt.xlabel('x1')\n",
    "    plt.ylabel('x2')\n",
    "\n",
    "    plt.xlim(xx.min() , xx.max())\n",
    "    plt.ylim(yy.min() , yy.max())\n",
    "    plt.xticks(())\n",
    "    plt.yticks(())\n",
    "    plt.show()"
   ]
  },
  {
   "cell_type": "code",
   "execution_count": 117,
   "metadata": {},
   "outputs": [
    {
     "name": "stderr",
     "output_type": "stream",
     "text": [
      "C:\\anaconda3\\envs\\ITUmindset\\lib\\site-packages\\sklearn\\base.py:450: UserWarning: X does not have valid feature names, but LogisticRegression was fitted with feature names\n",
      "  warnings.warn(\n",
      "<ipython-input-116-99b21196c844>:14: MatplotlibDeprecationWarning: shading='flat' when X and Y have the same dimensions as C is deprecated since 3.3.  Either specify the corners of the quadrilaterals with X and Y, or pass shading='auto', 'nearest' or 'gouraud', or set rcParams['pcolor.shading'].  This will become an error two minor releases later.\n",
      "  plt.pcolormesh(xx , yy , Z , cmap=plt.cm.Paired)\n"
     ]
    },
    {
     "data": {
      "image/png": "[encoded data removed]",
      "text/plain": [
       "<Figure size 720x720 with 1 Axes>"
      ]
     },
     "metadata": {},
     "output_type": "display_data"
    }
   ],
   "source": [
    "plot_dec_boundary(classifier , X_train , y_train , h=0.25)"
   ]
  },
  {
   "cell_type": "code",
   "execution_count": 118,
   "metadata": {},
   "outputs": [
    {
     "name": "stderr",
     "output_type": "stream",
     "text": [
      "C:\\anaconda3\\envs\\ITUmindset\\lib\\site-packages\\sklearn\\base.py:450: UserWarning: X does not have valid feature names, but KNeighborsClassifier was fitted with feature names\n",
      "  warnings.warn(\n",
      "<ipython-input-116-99b21196c844>:14: MatplotlibDeprecationWarning: shading='flat' when X and Y have the same dimensions as C is deprecated since 3.3.  Either specify the corners of the quadrilaterals with X and Y, or pass shading='auto', 'nearest' or 'gouraud', or set rcParams['pcolor.shading'].  This will become an error two minor releases later.\n",
      "  plt.pcolormesh(xx , yy , Z , cmap=plt.cm.Paired)\n"
     ]
    },
    {
     "data": {
      "image/png": "[encoded data removed]",
      "text/plain": [
       "<Figure size 720x720 with 1 Axes>"
      ]
     },
     "metadata": {},
     "output_type": "display_data"
    }
   ],
   "source": [
    "from sklearn.neighbors import KNeighborsClassifier\n",
    "\n",
    "classifier = KNeighborsClassifier(n_neighbors=3)\n",
    "classifier.fit(X_train , y_train)\n",
    "plot_dec_boundary(classifier , X_train , y_train , h=0.25)"
   ]
  }
 ],
 "metadata": {
  "kernelspec": {
   "display_name": "Python 3",
   "language": "python",
   "name": "python3"
  },
  "language_info": {
   "codemirror_mode": {
    "name": "ipython",
    "version": 3
   },
   "file_extension": ".py",
   "mimetype": "text/x-python",
   "name": "python",
   "nbconvert_exporter": "python",
   "pygments_lexer": "ipython3",
   "version": "3.8.11"
  }
 },
 "nbformat": 4,
 "nbformat_minor": 4
}
