{
 "cells": [
  {
   "cell_type": "markdown",
   "metadata": {},
   "source": [
    "# **Gayrimenkul Satış Fiyatı Tahmini**\n",
    "## 'house' Data Set **:**\n",
    "Çeşitli evlerin Satış Fiyatları ve ilgili evlerin çeşitli özelliklerinin olduğu bir Veri Setidir...\n",
    "<br> Bu evlerin çeşitli özelliklerinin ayrıntılı bilgilerini içeren de bir TXT dosyamız var... Bu dosyanın adı da **, '``house_data_description.txt``'**'dir... Bu dosyaya bakarak **,** Veri Setimiz ile ilgili daha ayrıntılı bilgiye sahip olabiliriz...\n",
    "\n",
    "<br>\n",
    "\n",
    "Bu Veri Seti ile **,** Evlerin Özellikleri ile Satış Fiyatları arasında bir ilişki kurmaya çalışacağım... Ve GERÇEK Hayatta da **,** herhangi bir Evin Özelliklerine göre **,** bir Satış Fiyatı TAHMİNİ yapmaya çalışacağım..."
   ]
  },
  {
   "cell_type": "code",
   "execution_count": 1,
   "metadata": {},
   "outputs": [],
   "source": [
    "import numpy as np\n",
    "import pandas as pd\n",
    "import matplotlib.pyplot as plt\n",
    "\n",
    "%matplotlib inline"
   ]
  },
  {
   "cell_type": "code",
   "execution_count": 2,
   "metadata": {
    "colab": {
     "base_uri": "https://localhost:8080/"
    },
    "id": "SJXpYgpYF4yc",
    "outputId": "79f5116a-a10b-4407-8cb4-2baf490d971d"
   },
   "outputs": [
    {
     "name": "stdout",
     "output_type": "stream",
     "text": [
      "    MSSubClass MSZoning  LotFrontage  LotArea Street Alley LotShape  \\\n",
      "Id                                                                    \n",
      "1           60       RL         65.0     8450   Pave   NaN      Reg   \n",
      "2           20       RL         80.0     9600   Pave   NaN      Reg   \n",
      "3           60       RL         68.0    11250   Pave   NaN      IR1   \n",
      "4           70       RL         60.0     9550   Pave   NaN      IR1   \n",
      "5           60       RL         84.0    14260   Pave   NaN      IR1   \n",
      "\n",
      "   LandContour Utilities LotConfig  ... PoolArea PoolQC Fence MiscFeature  \\\n",
      "Id                                  ...                                     \n",
      "1          Lvl    AllPub    Inside  ...        0    NaN   NaN         NaN   \n",
      "2          Lvl    AllPub       FR2  ...        0    NaN   NaN         NaN   \n",
      "3          Lvl    AllPub    Inside  ...        0    NaN   NaN         NaN   \n",
      "4          Lvl    AllPub    Corner  ...        0    NaN   NaN         NaN   \n",
      "5          Lvl    AllPub       FR2  ...        0    NaN   NaN         NaN   \n",
      "\n",
      "   MiscVal MoSold  YrSold  SaleType  SaleCondition  SalePrice  \n",
      "Id                                                             \n",
      "1        0      2    2008        WD         Normal     208500  \n",
      "2        0      5    2007        WD         Normal     181500  \n",
      "3        0      9    2008        WD         Normal     223500  \n",
      "4        0      2    2006        WD        Abnorml     140000  \n",
      "5        0     12    2008        WD         Normal     250000  \n",
      "\n",
      "[5 rows x 80 columns]\n",
      "(1460, 80)\n"
     ]
    }
   ],
   "source": [
    "house = pd.read_csv(\"house.csv\" , index_col=0)\n",
    "print(house.head())\n",
    "print(house.shape)"
   ]
  },
  {
   "cell_type": "markdown",
   "metadata": {},
   "source": [
    "### Öncelikle **, Veri Ön İşleme** ile başlayalım **:**"
   ]
  },
  {
   "cell_type": "code",
   "execution_count": 3,
   "metadata": {
    "colab": {
     "base_uri": "https://localhost:8080/"
    },
    "id": "ghNlPPjcHHld",
    "outputId": "29a8906a-a141-40f4-9e7d-6e7120c0968c"
   },
   "outputs": [
    {
     "data": {
      "text/plain": [
       "MSSubClass         int64\n",
       "MSZoning          object\n",
       "LotFrontage      float64\n",
       "LotArea            int64\n",
       "Street            object\n",
       "                  ...   \n",
       "MoSold             int64\n",
       "YrSold             int64\n",
       "SaleType          object\n",
       "SaleCondition     object\n",
       "SalePrice          int64\n",
       "Length: 80, dtype: object"
      ]
     },
     "execution_count": 3,
     "metadata": {},
     "output_type": "execute_result"
    }
   ],
   "source": [
    "house.dtypes"
   ]
  },
  {
   "cell_type": "markdown",
   "metadata": {},
   "source": [
    "Yukarıdaki Kolonlara ve Tiplerine baktığımızda **;**\n",
    "+ Mesela ilk kolon olan **'MSSubClass'** kolonu **'Numerik'** bir kolon olarak tanımlanmış... Ama **'Description'** isimli dosyamıza baktığımızda **, Numerik** olan o değerlerin her birisine bir tanım yapılmış. Yani o **Numerik** değerlerin hepsi bir **Kategoriyi** simgeliyor... Yani bu kolonun Sayısal Değerlerinin herhangi bir **Numerik** anlamı YOK **!** Onun için de bu kolonu **'Kategorik'** hale çevirmem gerekiyor **:**"
   ]
  },
  {
   "cell_type": "code",
   "execution_count": 4,
   "metadata": {
    "colab": {
     "base_uri": "https://localhost:8080/"
    },
    "id": "bBBicOJKH1Oc",
    "outputId": "c6e44bfb-dee8-4c5c-c8da-db9c6540b08f"
   },
   "outputs": [
    {
     "data": {
      "text/plain": [
       "MSSubClass        object\n",
       "MSZoning          object\n",
       "LotFrontage      float64\n",
       "LotArea            int64\n",
       "Street            object\n",
       "                  ...   \n",
       "MoSold             int64\n",
       "YrSold             int64\n",
       "SaleType          object\n",
       "SaleCondition     object\n",
       "SalePrice          int64\n",
       "Length: 80, dtype: object"
      ]
     },
     "execution_count": 4,
     "metadata": {},
     "output_type": "execute_result"
    }
   ],
   "source": [
    "house.MSSubClass = house.MSSubClass.astype(\"str\")\n",
    "house.dtypes"
   ]
  },
  {
   "cell_type": "markdown",
   "metadata": {},
   "source": [
    "+ Şimdi de **, NaN** değerleri (Eksik Verileri) bulalım ve yerlerine atamalar yapalım **:**"
   ]
  },
  {
   "cell_type": "code",
   "execution_count": 5,
   "metadata": {
    "colab": {
     "base_uri": "https://localhost:8080/"
    },
    "id": "u29CVTS4IwGn",
    "outputId": "343f9c50-783a-40df-d7ad-ac72e27a7c9d"
   },
   "outputs": [
    {
     "data": {
      "text/plain": [
       "6965"
      ]
     },
     "execution_count": 5,
     "metadata": {},
     "output_type": "execute_result"
    }
   ],
   "source": [
    "house.isnull().sum().sum()"
   ]
  },
  {
   "cell_type": "code",
   "execution_count": 6,
   "metadata": {},
   "outputs": [
    {
     "data": {
      "text/plain": [
       "LotFrontage      259\n",
       "Alley           1369\n",
       "MasVnrType         8\n",
       "MasVnrArea         8\n",
       "BsmtQual          37\n",
       "BsmtCond          37\n",
       "BsmtExposure      38\n",
       "BsmtFinType1      37\n",
       "BsmtFinType2      38\n",
       "Electrical         1\n",
       "FireplaceQu      690\n",
       "GarageType        81\n",
       "GarageYrBlt       81\n",
       "GarageFinish      81\n",
       "GarageQual        81\n",
       "GarageCond        81\n",
       "PoolQC          1453\n",
       "Fence           1179\n",
       "MiscFeature     1406\n",
       "dtype: int64"
      ]
     },
     "execution_count": 6,
     "metadata": {},
     "output_type": "execute_result"
    }
   ],
   "source": [
    "house.isnull().sum()[house.isnull().sum() > 0]"
   ]
  },
  {
   "cell_type": "code",
   "execution_count": 7,
   "metadata": {},
   "outputs": [
    {
     "data": {
      "text/plain": [
       "PoolQC          99.520548\n",
       "MiscFeature     96.301370\n",
       "Alley           93.767123\n",
       "Fence           80.753425\n",
       "FireplaceQu     47.260274\n",
       "LotFrontage     17.739726\n",
       "GarageType       5.547945\n",
       "GarageYrBlt      5.547945\n",
       "GarageFinish     5.547945\n",
       "GarageQual       5.547945\n",
       "GarageCond       5.547945\n",
       "BsmtExposure     2.602740\n",
       "BsmtFinType2     2.602740\n",
       "BsmtFinType1     2.534247\n",
       "BsmtCond         2.534247\n",
       "BsmtQual         2.534247\n",
       "MasVnrArea       0.547945\n",
       "MasVnrType       0.547945\n",
       "Electrical       0.068493\n",
       "dtype: float64"
      ]
     },
     "execution_count": 7,
     "metadata": {},
     "output_type": "execute_result"
    }
   ],
   "source": [
    "miss_percent = house.isnull().mean()[house.isnull().sum() > 0]\n",
    "miss_percent = miss_percent[miss_percent > 0.0001].sort_values(ascending=False)\n",
    "miss_percent*100"
   ]
  },
  {
   "cell_type": "code",
   "execution_count": 8,
   "metadata": {},
   "outputs": [],
   "source": [
    "ev = house.copy()"
   ]
  },
  {
   "cell_type": "code",
   "execution_count": 9,
   "metadata": {
    "id": "GE7yiTADXFQD"
   },
   "outputs": [],
   "source": [
    "ev.MasVnrType = ev.MasVnrType.fillna(\"None\")\n",
    "ev.MasVnrArea = ev.MasVnrArea.fillna(0)\n",
    "ev.BsmtQual = ev.BsmtQual.fillna(\"None\")\n",
    "ev.BsmtCond = ev.BsmtCond.fillna(\"None\")\n",
    "ev.BsmtExposure = ev.BsmtExposure.fillna(\"None\")\n",
    "ev.BsmtFinType1 = ev.BsmtFinType1.fillna(\"None\")\n",
    "ev.BsmtFinType2 = ev.BsmtFinType2.fillna(\"None\")\n",
    "ev.Electrical = ev.Electrical.fillna(\"None\") \n",
    "ev.GarageType = ev.GarageType.fillna(\"None\")\n",
    "ev.GarageYrBlt = ev.GarageYrBlt.fillna(0)\n",
    "ev.GarageFinish = ev.GarageFinish.fillna(\"None\")\n",
    "ev.GarageQual = ev.GarageQual.fillna(\"None\")\n",
    "ev.GarageCond = ev.GarageCond.fillna(\"None\")\n",
    "ev[\"LotFrontage\"] = ev.LotFrontage.fillna(0)\n",
    "ev[\"Alley\"] = ev.Alley.fillna(\"None\")\n",
    "ev[\"FireplaceQu\"] = ev.FireplaceQu.fillna(\"None\")\n",
    "ev[\"PoolQC\"] = ev.PoolQC.fillna(\"None\")\n",
    "ev[\"Fence\"] = ev.Fence.fillna(\"None\")\n",
    "ev[\"MiscFeature\"] = ev.MiscFeature.fillna(\"None\")"
   ]
  },
  {
   "cell_type": "code",
   "execution_count": 10,
   "metadata": {},
   "outputs": [
    {
     "data": {
      "text/plain": [
       "0"
      ]
     },
     "execution_count": 10,
     "metadata": {},
     "output_type": "execute_result"
    }
   ],
   "source": [
    "ev.isnull().sum().sum()"
   ]
  },
  {
   "cell_type": "markdown",
   "metadata": {},
   "source": [
    "+ Belirleyeceğimiz bir **Threshold** ile **,** Kolonlarımızdaki bazı Kategorileri Birleştirelim **...**\n",
    "<br> **(** Aksi takdirde **,** çok fazla Kolonumuz olacağı için **,** modelimizin OVERFIT etme ihtimali artacak... **)**\n",
    "+ Öncelikle **,** Kategorik Değişkenleri görelim... **:** "
   ]
  },
  {
   "cell_type": "code",
   "execution_count": 11,
   "metadata": {},
   "outputs": [
    {
     "data": {
      "text/plain": [
       "['MSSubClass',\n",
       " 'MSZoning',\n",
       " 'Street',\n",
       " 'Alley',\n",
       " 'LotShape',\n",
       " 'LandContour',\n",
       " 'Utilities',\n",
       " 'LotConfig',\n",
       " 'LandSlope',\n",
       " 'Neighborhood',\n",
       " 'Condition1',\n",
       " 'Condition2',\n",
       " 'BldgType',\n",
       " 'HouseStyle',\n",
       " 'RoofStyle',\n",
       " 'RoofMatl',\n",
       " 'Exterior1st',\n",
       " 'Exterior2nd',\n",
       " 'MasVnrType',\n",
       " 'ExterQual',\n",
       " 'ExterCond',\n",
       " 'Foundation',\n",
       " 'BsmtQual',\n",
       " 'BsmtCond',\n",
       " 'BsmtExposure',\n",
       " 'BsmtFinType1',\n",
       " 'BsmtFinType2',\n",
       " 'Heating',\n",
       " 'HeatingQC',\n",
       " 'CentralAir',\n",
       " 'Electrical',\n",
       " 'KitchenQual',\n",
       " 'Functional',\n",
       " 'FireplaceQu',\n",
       " 'GarageType',\n",
       " 'GarageFinish',\n",
       " 'GarageQual',\n",
       " 'GarageCond',\n",
       " 'PavedDrive',\n",
       " 'PoolQC',\n",
       " 'Fence',\n",
       " 'MiscFeature',\n",
       " 'SaleType',\n",
       " 'SaleCondition']"
      ]
     },
     "execution_count": 11,
     "metadata": {},
     "output_type": "execute_result"
    }
   ],
   "source": [
    "categorical_cols = [col for col in ev.columns if ev[col].dtype == 'O']\n",
    "categorical_cols\n",
    "\n",
    "# Yukarıdaki ; aşağıdakinin aynısının kısa halidir...\n",
    "\n",
    "# for col in ev.columns :\n",
    "#   if ev[col].dtype == 'O' :\n",
    "#     print(col)\n",
    "\n",
    "# NOTE :: 'O' = 'Object'"
   ]
  },
  {
   "cell_type": "code",
   "execution_count": 12,
   "metadata": {},
   "outputs": [
    {
     "data": {
      "text/plain": [
       "20     536\n",
       "60     299\n",
       "50     144\n",
       "120     87\n",
       "30      69\n",
       "160     63\n",
       "70      60\n",
       "80      58\n",
       "90      52\n",
       "190     30\n",
       "85      20\n",
       "75      16\n",
       "45      12\n",
       "180     10\n",
       "40       4\n",
       "Name: MSSubClass, dtype: int64"
      ]
     },
     "execution_count": 12,
     "metadata": {},
     "output_type": "execute_result"
    }
   ],
   "source": [
    "ev.MSSubClass.value_counts()"
   ]
  },
  {
   "cell_type": "code",
   "execution_count": 13,
   "metadata": {},
   "outputs": [
    {
     "data": {
      "text/plain": [
       "20     36.712329\n",
       "60     20.479452\n",
       "50      9.863014\n",
       "120     5.958904\n",
       "30      4.726027\n",
       "160     4.315068\n",
       "70      4.109589\n",
       "80      3.972603\n",
       "90      3.561644\n",
       "190     2.054795\n",
       "85      1.369863\n",
       "75      1.095890\n",
       "45      0.821918\n",
       "180     0.684932\n",
       "40      0.273973\n",
       "Name: MSSubClass, dtype: float64"
      ]
     },
     "execution_count": 13,
     "metadata": {},
     "output_type": "execute_result"
    }
   ],
   "source": [
    "ev.MSSubClass.value_counts()/len(ev) * 100"
   ]
  },
  {
   "cell_type": "markdown",
   "metadata": {},
   "source": [
    "+ Şimdi de yukarıda bulduğum **,** Kategorik Değişkenlerin içerilerindeki bazı Kategorileri **,** belirlediğimiz **Threshold**'a göre **Birleştirelim :**"
   ]
  },
  {
   "cell_type": "code",
   "execution_count": 14,
   "metadata": {},
   "outputs": [],
   "source": [
    "thr = 0.01\n",
    "\n",
    "\n",
    "for col in categorical_cols:\n",
    "    \n",
    "    category_percent = ev[col].value_counts() / len(ev)\n",
    "    category = list(category_percent[category_percent < thr].index)\n",
    "  #   Bir Kolonda Threshold uygulandıktan sonra ; '2''den daha az Kategori\n",
    "  # kalmış ise zaten orada bir birleştirme yapmaya gerek kalmıyor...\n",
    "  # Onun için ; en az 2 adet Kategori olmalı ki , bir Birleştirme işlemi yapabilelim... :\n",
    "    if len(category) > 1:\n",
    "        ev[col].replace(category , 'Other' , inplace=True)"
   ]
  },
  {
   "cell_type": "code",
   "execution_count": 15,
   "metadata": {},
   "outputs": [
    {
     "data": {
      "text/plain": [
       "array(['60', '20', '70', '50', '190', 'Other', '90', '120', '30', '85',\n",
       "       '80', '160', '75'], dtype=object)"
      ]
     },
     "execution_count": 15,
     "metadata": {},
     "output_type": "execute_result"
    }
   ],
   "source": [
    "ev.MSSubClass.unique()"
   ]
  },
  {
   "cell_type": "code",
   "execution_count": 16,
   "metadata": {},
   "outputs": [
    {
     "data": {
      "text/plain": [
       "20       36.712329\n",
       "60       20.479452\n",
       "50        9.863014\n",
       "120       5.958904\n",
       "30        4.726027\n",
       "160       4.315068\n",
       "70        4.109589\n",
       "80        3.972603\n",
       "90        3.561644\n",
       "190       2.054795\n",
       "Other     1.780822\n",
       "85        1.369863\n",
       "75        1.095890\n",
       "Name: MSSubClass, dtype: float64"
      ]
     },
     "execution_count": 16,
     "metadata": {},
     "output_type": "execute_result"
    }
   ],
   "source": [
    "ev.MSSubClass.value_counts()/len(ev) * 100"
   ]
  },
  {
   "cell_type": "markdown",
   "metadata": {},
   "source": [
    "+ Şimdi de **, Ordinal (Sıralı , Sırasal)** bir Değişken olan **'ExterQual'** Kolonu için bir **Label Encoder** işlemi gerçekleştirelim **:**"
   ]
  },
  {
   "cell_type": "code",
   "execution_count": 17,
   "metadata": {},
   "outputs": [
    {
     "data": {
      "text/plain": [
       "array(['Gd', 'TA', 'Ex', 'Fa'], dtype=object)"
      ]
     },
     "execution_count": 17,
     "metadata": {},
     "output_type": "execute_result"
    }
   ],
   "source": [
    "ev.ExterQual.unique()"
   ]
  },
  {
   "cell_type": "code",
   "execution_count": 18,
   "metadata": {},
   "outputs": [
    {
     "data": {
      "text/plain": [
       "array([3, 2, 4, 1], dtype=int64)"
      ]
     },
     "execution_count": 18,
     "metadata": {},
     "output_type": "execute_result"
    }
   ],
   "source": [
    "ev.ExterQual = ev.ExterQual.replace({'Fa':1 , 'TA':2 , 'Gd':3 , 'Ex':4})\n",
    "ev.ExterQual.unique()"
   ]
  },
  {
   "cell_type": "markdown",
   "metadata": {},
   "source": [
    "+ Şimdi de **, NaN** değerleri doldurduktan ve bazı Kategorik Değişkenlerin Kategorilerini birleştirdikten sonra **;** bu Kategorik değişkenleri **Dummy Değişken** hale çevirelim... **:**"
   ]
  },
  {
   "cell_type": "code",
   "execution_count": 19,
   "metadata": {},
   "outputs": [
    {
     "data": {
      "text/plain": [
       "(1460, 80)"
      ]
     },
     "execution_count": 19,
     "metadata": {},
     "output_type": "execute_result"
    }
   ],
   "source": [
    "ev.shape"
   ]
  },
  {
   "cell_type": "code",
   "execution_count": 20,
   "metadata": {},
   "outputs": [
    {
     "data": {
      "text/plain": [
       "(1460, 215)"
      ]
     },
     "execution_count": 20,
     "metadata": {},
     "output_type": "execute_result"
    }
   ],
   "source": [
    "ev_dummy = pd.get_dummies(ev , drop_first=True)\n",
    "ev_dummy.shape"
   ]
  },
  {
   "cell_type": "markdown",
   "metadata": {},
   "source": [
    "+ Yapılması gereken ideal şeylerden birisi de her bir değişkenin **Varyansına** bakmaktır. Yani değişkenler bir değişkenlik gösteriyor mu diye bakacağım. Eğer **Varyans** istediğim **Threshold**'un altında ise O değişken benim istediğim kadar bilgiye sahip değildir demek olacak... Ve istersem o Değişkeni (Kolonu) Veri Setinden çıkaracağım...\n",
    "\n",
    "**+--- NOTE --->** Bu teknik ile **;** OUTPUT'dan yani **'y'**'den bağımsız olarak **,** sadece Değişkenlere bakarak bir işlem gerçekleştiriyorum..."
   ]
  },
  {
   "cell_type": "code",
   "execution_count": 21,
   "metadata": {},
   "outputs": [],
   "source": [
    "from sklearn.feature_selection import VarianceThreshold"
   ]
  },
  {
   "cell_type": "code",
   "execution_count": 22,
   "metadata": {},
   "outputs": [
    {
     "data": {
      "text/plain": [
       "(1460, 214)"
      ]
     },
     "execution_count": 22,
     "metadata": {},
     "output_type": "execute_result"
    }
   ],
   "source": [
    "y = ev_dummy['SalePrice']\n",
    "X = ev_dummy.drop('SalePrice' , axis=1)\n",
    "X.shape"
   ]
  },
  {
   "cell_type": "code",
   "execution_count": 23,
   "metadata": {},
   "outputs": [
    {
     "data": {
      "text/plain": [
       "(1460, 198)"
      ]
     },
     "execution_count": 23,
     "metadata": {},
     "output_type": "execute_result"
    }
   ],
   "source": [
    "selector = VarianceThreshold(0.01).fit(X)\n",
    "\n",
    "X = selector.transform(X)\n",
    "X.shape"
   ]
  },
  {
   "cell_type": "markdown",
   "metadata": {},
   "source": [
    "**+--- NOTE --->** Ayrıca **; \"Select 'K' Best\" , \"Select From Model\" , \"Recursive Feature Elimination\" , ...** gibi farklı **Feature Selection** Tekniklerini de kullanabilirdim... Birkaç tanesini beraber de kullanabilirdim... Ama ben burada sadece **\"Variance Threshold\"** Tekniğini tercih ettim..."
   ]
  },
  {
   "cell_type": "markdown",
   "metadata": {},
   "source": [
    "+ ### Şimdiye kadar ki yaptığım tüm **Veri Seti Düzenleme ve Veri Ön İşleme** işlemlerinden sonra artık **Modelimizi** kurmaya başlayabilirim... **:**"
   ]
  },
  {
   "cell_type": "code",
   "execution_count": 24,
   "metadata": {},
   "outputs": [],
   "source": [
    "from sklearn.model_selection import train_test_split\n",
    "from sklearn import preprocessing\n",
    "from sklearn.pipeline import Pipeline\n",
    "from sklearn.model_selection import GridSearchCV\n",
    "from sklearn.linear_model import LinearRegression\n",
    "from sklearn.ensemble import GradientBoostingRegressor\n",
    "from sklearn.ensemble import AdaBoostRegressor\n",
    "from xgboost import XGBRegressor\n",
    "from sklearn.decomposition import PCA\n",
    "from sklearn.metrics import mean_squared_error\n",
    "from sklearn.metrics import r2_score\n",
    "from sklearn.model_selection import cross_val_score\n",
    "import statistics"
   ]
  },
  {
   "cell_type": "code",
   "execution_count": 25,
   "metadata": {},
   "outputs": [],
   "source": [
    "X_train , X_test , y_train , y_test = train_test_split(X , y , test_size=0.2 , random_state=92)\n",
    "\n",
    "scaler = preprocessing.StandardScaler()\n",
    "scaler = scaler.fit(X_train)\n",
    "\n",
    "X_trainStandard = scaler.transform(X_train)\n",
    "X_testStandard = scaler.transform(X_test)"
   ]
  },
  {
   "cell_type": "code",
   "execution_count": 32,
   "metadata": {},
   "outputs": [
    {
     "name": "stdout",
     "output_type": "stream",
     "text": [
      "Fitting 5 folds for each of 16 candidates, totalling 80 fits\n",
      "{'Regressor': XGBRegressor(base_score=None, booster=None, colsample_bylevel=None,\n",
      "             colsample_bynode=None, colsample_bytree=None,\n",
      "             enable_categorical=False, gamma=None, gpu_id=None,\n",
      "             importance_type=None, interaction_constraints=None,\n",
      "             learning_rate=0.001, max_delta_step=None, max_depth=None,\n",
      "             min_child_weight=None, missing=nan, monotone_constraints=None,\n",
      "             n_estimators=10000, n_jobs=None, num_parallel_tree=None,\n",
      "             predictor=None, random_state=None, reg_alpha=None, reg_lambda=None,\n",
      "             scale_pos_weight=None, subsample=None, tree_method=None,\n",
      "             validate_parameters=None, verbosity=None), 'Regressor__learning_rate': 0.001, 'Regressor__n_estimators': 10000}\n"
     ]
    }
   ],
   "source": [
    "pipe = Pipeline([('scaler', preprocessing.StandardScaler()) , ('Regressor', LinearRegression())])\n",
    "\n",
    "search_space = [\n",
    "    { 'Regressor': [XGBRegressor()] ,\n",
    "                 'Regressor__n_estimators': [100 , 1000 , 5000 , 10000] ,\n",
    "                 'Regressor__learning_rate': [1 , 0.1 , 0.01 , 0.001] }    \n",
    "               ]\n",
    "\n",
    "grid = GridSearchCV(pipe , search_space , cv=5 , verbose=2 , scoring='neg_mean_squared_error' , n_jobs=-1)\n",
    "best_model = grid.fit(X_train , y_train)\n",
    "print(best_model.best_params_)"
   ]
  },
  {
   "cell_type": "markdown",
   "metadata": {},
   "source": [
    "**+--- NOTE --->** Yukarıda **,** daha farklı modelleme tekniklerini aynı anda deneyebilirdim... Ama programın daha hızlı çalışması için ve aynı zamanda Veri Setinin yapısından dolayı öncelikle **XGBRegressor** tekniğini tercih ettim...\n",
    "\n",
    "Yukarıda gördüğümüz gibi **,** en iyi teknik **XGBRegressor** tekniği imiş... En iyi parametreleri de **,** aşağıdaki gibiymiş... **:**"
   ]
  },
  {
   "cell_type": "code",
   "execution_count": 26,
   "metadata": {},
   "outputs": [
    {
     "name": "stdout",
     "output_type": "stream",
     "text": [
      "[06:08:02] WARNING: D:\\bld\\xgboost-split_1645118015404\\work\\src\\learner.cc:576: \n",
      "Parameters: { \"learning_Rate\", \"n_estimator\" } might not be used.\n",
      "\n",
      "  This could be a false alarm, with some parameters getting used by language bindings but\n",
      "  then being mistakenly passed down to XGBoost core, or some parameter actually being used\n",
      "  but getting flagged wrongly here. Please open an issue if you find any such cases.\n",
      "\n",
      "\n",
      "[06:08:02] WARNING: D:\\bld\\xgboost-split_1645118015404\\work\\src\\learner.cc:576: \n",
      "Parameters: { \"learning_Rate\", \"n_estimator\" } might not be used.\n",
      "\n",
      "  This could be a false alarm, with some parameters getting used by language bindings but\n",
      "  then being mistakenly passed down to XGBoost core, or some parameter actually being used\n",
      "  but getting flagged wrongly here. Please open an issue if you find any such cases.\n",
      "\n",
      "\n",
      "[06:08:03] WARNING: D:\\bld\\xgboost-split_1645118015404\\work\\src\\learner.cc:576: \n",
      "Parameters: { \"learning_Rate\", \"n_estimator\" } might not be used.\n",
      "\n",
      "  This could be a false alarm, with some parameters getting used by language bindings but\n",
      "  then being mistakenly passed down to XGBoost core, or some parameter actually being used\n",
      "  but getting flagged wrongly here. Please open an issue if you find any such cases.\n",
      "\n",
      "\n",
      "[06:08:03] WARNING: D:\\bld\\xgboost-split_1645118015404\\work\\src\\learner.cc:576: \n",
      "Parameters: { \"learning_Rate\", \"n_estimator\" } might not be used.\n",
      "\n",
      "  This could be a false alarm, with some parameters getting used by language bindings but\n",
      "  then being mistakenly passed down to XGBoost core, or some parameter actually being used\n",
      "  but getting flagged wrongly here. Please open an issue if you find any such cases.\n",
      "\n",
      "\n",
      "[06:08:04] WARNING: D:\\bld\\xgboost-split_1645118015404\\work\\src\\learner.cc:576: \n",
      "Parameters: { \"learning_Rate\", \"n_estimator\" } might not be used.\n",
      "\n",
      "  This could be a false alarm, with some parameters getting used by language bindings but\n",
      "  then being mistakenly passed down to XGBoost core, or some parameter actually being used\n",
      "  but getting flagged wrongly here. Please open an issue if you find any such cases.\n",
      "\n",
      "\n",
      "[06:08:04] WARNING: D:\\bld\\xgboost-split_1645118015404\\work\\src\\learner.cc:576: \n",
      "Parameters: { \"learning_Rate\", \"n_estimator\" } might not be used.\n",
      "\n",
      "  This could be a false alarm, with some parameters getting used by language bindings but\n",
      "  then being mistakenly passed down to XGBoost core, or some parameter actually being used\n",
      "  but getting flagged wrongly here. Please open an issue if you find any such cases.\n",
      "\n",
      "\n",
      "[06:08:05] WARNING: D:\\bld\\xgboost-split_1645118015404\\work\\src\\learner.cc:576: \n",
      "Parameters: { \"learning_Rate\", \"n_estimator\" } might not be used.\n",
      "\n",
      "  This could be a false alarm, with some parameters getting used by language bindings but\n",
      "  then being mistakenly passed down to XGBoost core, or some parameter actually being used\n",
      "  but getting flagged wrongly here. Please open an issue if you find any such cases.\n",
      "\n",
      "\n",
      "[06:08:05] WARNING: D:\\bld\\xgboost-split_1645118015404\\work\\src\\learner.cc:576: \n",
      "Parameters: { \"learning_Rate\", \"n_estimator\" } might not be used.\n",
      "\n",
      "  This could be a false alarm, with some parameters getting used by language bindings but\n",
      "  then being mistakenly passed down to XGBoost core, or some parameter actually being used\n",
      "  but getting flagged wrongly here. Please open an issue if you find any such cases.\n",
      "\n",
      "\n",
      "[06:08:06] WARNING: D:\\bld\\xgboost-split_1645118015404\\work\\src\\learner.cc:576: \n",
      "Parameters: { \"learning_Rate\", \"n_estimator\" } might not be used.\n",
      "\n",
      "  This could be a false alarm, with some parameters getting used by language bindings but\n",
      "  then being mistakenly passed down to XGBoost core, or some parameter actually being used\n",
      "  but getting flagged wrongly here. Please open an issue if you find any such cases.\n",
      "\n",
      "\n",
      "[06:08:06] WARNING: D:\\bld\\xgboost-split_1645118015404\\work\\src\\learner.cc:576: \n",
      "Parameters: { \"learning_Rate\", \"n_estimator\" } might not be used.\n",
      "\n",
      "  This could be a false alarm, with some parameters getting used by language bindings but\n",
      "  then being mistakenly passed down to XGBoost core, or some parameter actually being used\n",
      "  but getting flagged wrongly here. Please open an issue if you find any such cases.\n",
      "\n",
      "\n",
      "[06:08:07] WARNING: D:\\bld\\xgboost-split_1645118015404\\work\\src\\learner.cc:576: \n",
      "Parameters: { \"learning_Rate\", \"n_estimator\" } might not be used.\n",
      "\n",
      "  This could be a false alarm, with some parameters getting used by language bindings but\n",
      "  then being mistakenly passed down to XGBoost core, or some parameter actually being used\n",
      "  but getting flagged wrongly here. Please open an issue if you find any such cases.\n",
      "\n",
      "\n"
     ]
    }
   ],
   "source": [
    "model = XGBRegressor(n_estimator=10000 , learning_Rate=0.001)\n",
    "\n",
    "model.fit(X_trainStandard , y_train)\n",
    "\n",
    "y_pred = model.predict(X_testStandard)\n",
    "\n",
    "scores = cross_val_score(model , X_trainStandard , y_train , cv=10 , scoring='r2')"
   ]
  },
  {
   "cell_type": "code",
   "execution_count": 27,
   "metadata": {},
   "outputs": [
    {
     "data": {
      "text/html": [
       "<div>\n",
       "<style scoped>\n",
       "    .dataframe tbody tr th:only-of-type {\n",
       "        vertical-align: middle;\n",
       "    }\n",
       "\n",
       "    .dataframe tbody tr th {\n",
       "        vertical-align: top;\n",
       "    }\n",
       "\n",
       "    .dataframe thead th {\n",
       "        text-align: right;\n",
       "    }\n",
       "</style>\n",
       "<table border=\"1\" class=\"dataframe\">\n",
       "  <thead>\n",
       "    <tr style=\"text-align: right;\">\n",
       "      <th></th>\n",
       "      <th>'r2' Mean</th>\n",
       "      <th>'r2' Median</th>\n",
       "      <th>'r2' STD</th>\n",
       "    </tr>\n",
       "  </thead>\n",
       "  <tbody>\n",
       "    <tr>\n",
       "      <th>XGBRegressor</th>\n",
       "      <td>0.85384</td>\n",
       "      <td>0.875513</td>\n",
       "      <td>0.067874</td>\n",
       "    </tr>\n",
       "  </tbody>\n",
       "</table>\n",
       "</div>"
      ],
      "text/plain": [
       "              'r2' Mean  'r2' Median  'r2' STD\n",
       "XGBRegressor    0.85384     0.875513  0.067874"
      ]
     },
     "execution_count": 27,
     "metadata": {},
     "output_type": "execute_result"
    }
   ],
   "source": [
    "results = pd.DataFrame([] , columns=[\"'r2' Mean\" , \"'r2' Median\" , \"'r2' STD\"])\n",
    "\n",
    "results.loc['XGBRegressor'] = [scores.mean() , statistics.median(scores) , scores.std()]\n",
    "results"
   ]
  },
  {
   "cell_type": "markdown",
   "metadata": {},
   "source": [
    "+ Şimdi de **'PCA( )'** Tekniğini deneyelim **:**"
   ]
  },
  {
   "cell_type": "code",
   "execution_count": 28,
   "metadata": {},
   "outputs": [
    {
     "name": "stdout",
     "output_type": "stream",
     "text": [
      "198\n"
     ]
    },
    {
     "data": {
      "text/plain": [
       "<matplotlib.legend.Legend at 0x27d99d8a070>"
      ]
     },
     "execution_count": 28,
     "metadata": {},
     "output_type": "execute_result"
    },
    {
     "data": {
      "image/png": "[encoded data removed]",
      "text/plain": [
       "<Figure size 1080x720 with 1 Axes>"
      ]
     },
     "metadata": {
      "needs_background": "light"
     },
     "output_type": "display_data"
    }
   ],
   "source": [
    "pca = PCA()\n",
    "pca.fit(X_trainStandard)\n",
    "cumsum = np.cumsum(pca.explained_variance_ratio_)*100\n",
    "print(len(cumsum))\n",
    "d = [n for n in range(len(cumsum))]\n",
    "\n",
    "plt.figure(figsize=(15, 10))\n",
    "plt.plot(d , cumsum , color='blue' , label='cumulative explained variance')\n",
    "plt.title('Cumulative Explained Variance as a Function of the Number of Components')\n",
    "plt.ylabel('Cumulative Explained variance')\n",
    "plt.xlabel('Principal components')\n",
    "plt.axhline(y=95 , color='r' , linestyle='--' , label='95% Explained Variance')\n",
    "plt.legend(loc='best')"
   ]
  },
  {
   "cell_type": "code",
   "execution_count": 29,
   "metadata": {},
   "outputs": [
    {
     "name": "stdout",
     "output_type": "stream",
     "text": [
      "[06:08:25] WARNING: D:\\bld\\xgboost-split_1645118015404\\work\\src\\learner.cc:576: \n",
      "Parameters: { \"learning_Rate\", \"n_estimator\" } might not be used.\n",
      "\n",
      "  This could be a false alarm, with some parameters getting used by language bindings but\n",
      "  then being mistakenly passed down to XGBoost core, or some parameter actually being used\n",
      "  but getting flagged wrongly here. Please open an issue if you find any such cases.\n",
      "\n",
      "\n",
      "[06:08:26] WARNING: D:\\bld\\xgboost-split_1645118015404\\work\\src\\learner.cc:576: \n",
      "Parameters: { \"learning_Rate\", \"n_estimator\" } might not be used.\n",
      "\n",
      "  This could be a false alarm, with some parameters getting used by language bindings but\n",
      "  then being mistakenly passed down to XGBoost core, or some parameter actually being used\n",
      "  but getting flagged wrongly here. Please open an issue if you find any such cases.\n",
      "\n",
      "\n",
      "[06:08:27] WARNING: D:\\bld\\xgboost-split_1645118015404\\work\\src\\learner.cc:576: \n",
      "Parameters: { \"learning_Rate\", \"n_estimator\" } might not be used.\n",
      "\n",
      "  This could be a false alarm, with some parameters getting used by language bindings but\n",
      "  then being mistakenly passed down to XGBoost core, or some parameter actually being used\n",
      "  but getting flagged wrongly here. Please open an issue if you find any such cases.\n",
      "\n",
      "\n",
      "[06:08:28] WARNING: D:\\bld\\xgboost-split_1645118015404\\work\\src\\learner.cc:576: \n",
      "Parameters: { \"learning_Rate\", \"n_estimator\" } might not be used.\n",
      "\n",
      "  This could be a false alarm, with some parameters getting used by language bindings but\n",
      "  then being mistakenly passed down to XGBoost core, or some parameter actually being used\n",
      "  but getting flagged wrongly here. Please open an issue if you find any such cases.\n",
      "\n",
      "\n",
      "[06:08:30] WARNING: D:\\bld\\xgboost-split_1645118015404\\work\\src\\learner.cc:576: \n",
      "Parameters: { \"learning_Rate\", \"n_estimator\" } might not be used.\n",
      "\n",
      "  This could be a false alarm, with some parameters getting used by language bindings but\n",
      "  then being mistakenly passed down to XGBoost core, or some parameter actually being used\n",
      "  but getting flagged wrongly here. Please open an issue if you find any such cases.\n",
      "\n",
      "\n",
      "[06:08:31] WARNING: D:\\bld\\xgboost-split_1645118015404\\work\\src\\learner.cc:576: \n",
      "Parameters: { \"learning_Rate\", \"n_estimator\" } might not be used.\n",
      "\n",
      "  This could be a false alarm, with some parameters getting used by language bindings but\n",
      "  then being mistakenly passed down to XGBoost core, or some parameter actually being used\n",
      "  but getting flagged wrongly here. Please open an issue if you find any such cases.\n",
      "\n",
      "\n",
      "[06:08:32] WARNING: D:\\bld\\xgboost-split_1645118015404\\work\\src\\learner.cc:576: \n",
      "Parameters: { \"learning_Rate\", \"n_estimator\" } might not be used.\n",
      "\n",
      "  This could be a false alarm, with some parameters getting used by language bindings but\n",
      "  then being mistakenly passed down to XGBoost core, or some parameter actually being used\n",
      "  but getting flagged wrongly here. Please open an issue if you find any such cases.\n",
      "\n",
      "\n",
      "[06:08:33] WARNING: D:\\bld\\xgboost-split_1645118015404\\work\\src\\learner.cc:576: \n",
      "Parameters: { \"learning_Rate\", \"n_estimator\" } might not be used.\n",
      "\n",
      "  This could be a false alarm, with some parameters getting used by language bindings but\n",
      "  then being mistakenly passed down to XGBoost core, or some parameter actually being used\n",
      "  but getting flagged wrongly here. Please open an issue if you find any such cases.\n",
      "\n",
      "\n",
      "[06:08:35] WARNING: D:\\bld\\xgboost-split_1645118015404\\work\\src\\learner.cc:576: \n",
      "Parameters: { \"learning_Rate\", \"n_estimator\" } might not be used.\n",
      "\n",
      "  This could be a false alarm, with some parameters getting used by language bindings but\n",
      "  then being mistakenly passed down to XGBoost core, or some parameter actually being used\n",
      "  but getting flagged wrongly here. Please open an issue if you find any such cases.\n",
      "\n",
      "\n",
      "[06:08:36] WARNING: D:\\bld\\xgboost-split_1645118015404\\work\\src\\learner.cc:576: \n",
      "Parameters: { \"learning_Rate\", \"n_estimator\" } might not be used.\n",
      "\n",
      "  This could be a false alarm, with some parameters getting used by language bindings but\n",
      "  then being mistakenly passed down to XGBoost core, or some parameter actually being used\n",
      "  but getting flagged wrongly here. Please open an issue if you find any such cases.\n",
      "\n",
      "\n"
     ]
    }
   ],
   "source": [
    "pca = PCA(n_components = .95)\n",
    "pca.fit(X_trainStandard)\n",
    "\n",
    "X_trainPCA = pca.transform(X_trainStandard)\n",
    "\n",
    "score = cross_val_score(model , X_trainPCA , y_train ,  cv=10 , scoring='r2')"
   ]
  },
  {
   "cell_type": "code",
   "execution_count": 30,
   "metadata": {},
   "outputs": [
    {
     "data": {
      "text/html": [
       "<div>\n",
       "<style scoped>\n",
       "    .dataframe tbody tr th:only-of-type {\n",
       "        vertical-align: middle;\n",
       "    }\n",
       "\n",
       "    .dataframe tbody tr th {\n",
       "        vertical-align: top;\n",
       "    }\n",
       "\n",
       "    .dataframe thead th {\n",
       "        text-align: right;\n",
       "    }\n",
       "</style>\n",
       "<table border=\"1\" class=\"dataframe\">\n",
       "  <thead>\n",
       "    <tr style=\"text-align: right;\">\n",
       "      <th></th>\n",
       "      <th>'r2' Mean</th>\n",
       "      <th>'r2' Median</th>\n",
       "      <th>'r2' STD</th>\n",
       "    </tr>\n",
       "  </thead>\n",
       "  <tbody>\n",
       "    <tr>\n",
       "      <th>XGBRegressor</th>\n",
       "      <td>0.853840</td>\n",
       "      <td>0.875513</td>\n",
       "      <td>0.067874</td>\n",
       "    </tr>\n",
       "    <tr>\n",
       "      <th>PCA</th>\n",
       "      <td>0.827016</td>\n",
       "      <td>0.859813</td>\n",
       "      <td>0.066546</td>\n",
       "    </tr>\n",
       "  </tbody>\n",
       "</table>\n",
       "</div>"
      ],
      "text/plain": [
       "              'r2' Mean  'r2' Median  'r2' STD\n",
       "XGBRegressor   0.853840     0.875513  0.067874\n",
       "PCA            0.827016     0.859813  0.066546"
      ]
     },
     "execution_count": 30,
     "metadata": {},
     "output_type": "execute_result"
    }
   ],
   "source": [
    "results.loc['PCA'] = [score.mean() , statistics.median(score) , score.std()]\n",
    "results"
   ]
  },
  {
   "cell_type": "markdown",
   "metadata": {},
   "source": [
    "Yukarıdaki **$R^2$** sonuçlarından da gördüğümüz gibi **,** bu Veri Seti için **XGBRegressor** tekniği biraz daha iyi çalışıyor...\n",
    "<br> Yani kurduğum bu model **;** herhangi bir evin özelliklerine bakarak **, %85-%88** başarıyla satış fiyatını doğru tahmin edebiliyor."
   ]
  }
 ],
 "metadata": {
  "colab": {
   "name": "02_10_2021_Feature_Engineering.ipynb",
   "provenance": []
  },
  "kernelspec": {
   "display_name": "Python 3",
   "language": "python",
   "name": "python3"
  },
  "language_info": {
   "codemirror_mode": {
    "name": "ipython",
    "version": 3
   },
   "file_extension": ".py",
   "mimetype": "text/x-python",
   "name": "python",
   "nbconvert_exporter": "python",
   "pygments_lexer": "ipython3",
   "version": "3.8.11"
  }
 },
 "nbformat": 4,
 "nbformat_minor": 4
}
