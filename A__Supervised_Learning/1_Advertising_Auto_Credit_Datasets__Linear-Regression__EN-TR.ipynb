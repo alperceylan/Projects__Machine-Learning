{
 "cells": [
  {
   "cell_type": "markdown",
   "metadata": {
    "tags": []
   },
   "source": [
    "# **- Machine Learning -**\n",
    "# _* Linear Regression *_\n",
    "### **_+ Advertising Data - Credit Data - Auto Data +_**"
   ]
  },
  {
   "cell_type": "code",
   "execution_count": 1,
   "metadata": {},
   "outputs": [],
   "source": [
    "%matplotlib inline\n",
    "\n",
    "import numpy as np\n",
    "import pandas as pd\n",
    "import matplotlib.pyplot as plt\n",
    "import seaborn as sns"
   ]
  },
  {
   "cell_type": "markdown",
   "metadata": {
    "tags": []
   },
   "source": [
    "## Advertising Data **:**"
   ]
  },
  {
   "cell_type": "code",
   "execution_count": 2,
   "metadata": {},
   "outputs": [
    {
     "name": "stdout",
     "output_type": "stream",
     "text": [
      "<class 'pandas.core.frame.DataFrame'>\n",
      "Int64Index: 200 entries, 1 to 200\n",
      "Data columns (total 4 columns):\n",
      " #   Column     Non-Null Count  Dtype  \n",
      "---  ------     --------------  -----  \n",
      " 0   TV         200 non-null    float64\n",
      " 1   Radio      200 non-null    float64\n",
      " 2   Newspaper  200 non-null    float64\n",
      " 3   Sales      200 non-null    float64\n",
      "dtypes: float64(4)\n",
      "memory usage: 7.8 KB\n"
     ]
    }
   ],
   "source": [
    "df = pd.read_csv('Advertising.csv' , index_col=0)\n",
    "df.info()"
   ]
  },
  {
   "cell_type": "code",
   "execution_count": 3,
   "metadata": {},
   "outputs": [
    {
     "data": {
      "text/html": [
       "<div>\n",
       "<style scoped>\n",
       "    .dataframe tbody tr th:only-of-type {\n",
       "        vertical-align: middle;\n",
       "    }\n",
       "\n",
       "    .dataframe tbody tr th {\n",
       "        vertical-align: top;\n",
       "    }\n",
       "\n",
       "    .dataframe thead th {\n",
       "        text-align: right;\n",
       "    }\n",
       "</style>\n",
       "<table border=\"1\" class=\"dataframe\">\n",
       "  <thead>\n",
       "    <tr style=\"text-align: right;\">\n",
       "      <th></th>\n",
       "      <th>TV</th>\n",
       "      <th>Radio</th>\n",
       "      <th>Newspaper</th>\n",
       "      <th>Sales</th>\n",
       "    </tr>\n",
       "  </thead>\n",
       "  <tbody>\n",
       "    <tr>\n",
       "      <th>196</th>\n",
       "      <td>38.2</td>\n",
       "      <td>3.7</td>\n",
       "      <td>13.8</td>\n",
       "      <td>7.6</td>\n",
       "    </tr>\n",
       "    <tr>\n",
       "      <th>197</th>\n",
       "      <td>94.2</td>\n",
       "      <td>4.9</td>\n",
       "      <td>8.1</td>\n",
       "      <td>9.7</td>\n",
       "    </tr>\n",
       "    <tr>\n",
       "      <th>198</th>\n",
       "      <td>177.0</td>\n",
       "      <td>9.3</td>\n",
       "      <td>6.4</td>\n",
       "      <td>12.8</td>\n",
       "    </tr>\n",
       "    <tr>\n",
       "      <th>199</th>\n",
       "      <td>283.6</td>\n",
       "      <td>42.0</td>\n",
       "      <td>66.2</td>\n",
       "      <td>25.5</td>\n",
       "    </tr>\n",
       "    <tr>\n",
       "      <th>200</th>\n",
       "      <td>232.1</td>\n",
       "      <td>8.6</td>\n",
       "      <td>8.7</td>\n",
       "      <td>13.4</td>\n",
       "    </tr>\n",
       "  </tbody>\n",
       "</table>\n",
       "</div>"
      ],
      "text/plain": [
       "        TV  Radio  Newspaper  Sales\n",
       "196   38.2    3.7       13.8    7.6\n",
       "197   94.2    4.9        8.1    9.7\n",
       "198  177.0    9.3        6.4   12.8\n",
       "199  283.6   42.0       66.2   25.5\n",
       "200  232.1    8.6        8.7   13.4"
      ]
     },
     "execution_count": 3,
     "metadata": {},
     "output_type": "execute_result"
    }
   ],
   "source": [
    "df.tail()"
   ]
  },
  {
   "cell_type": "code",
   "execution_count": 110,
   "metadata": {},
   "outputs": [
    {
     "data": {
      "text/html": [
       "<div>\n",
       "<style scoped>\n",
       "    .dataframe tbody tr th:only-of-type {\n",
       "        vertical-align: middle;\n",
       "    }\n",
       "\n",
       "    .dataframe tbody tr th {\n",
       "        vertical-align: top;\n",
       "    }\n",
       "\n",
       "    .dataframe thead th {\n",
       "        text-align: right;\n",
       "    }\n",
       "</style>\n",
       "<table border=\"1\" class=\"dataframe\">\n",
       "  <thead>\n",
       "    <tr style=\"text-align: right;\">\n",
       "      <th></th>\n",
       "      <th>TV</th>\n",
       "      <th>Radio</th>\n",
       "      <th>Newspaper</th>\n",
       "      <th>Sales</th>\n",
       "    </tr>\n",
       "  </thead>\n",
       "  <tbody>\n",
       "    <tr>\n",
       "      <th>count</th>\n",
       "      <td>200.000000</td>\n",
       "      <td>200.000000</td>\n",
       "      <td>200.000000</td>\n",
       "      <td>200.000000</td>\n",
       "    </tr>\n",
       "    <tr>\n",
       "      <th>mean</th>\n",
       "      <td>147.042500</td>\n",
       "      <td>23.264000</td>\n",
       "      <td>30.554000</td>\n",
       "      <td>14.022500</td>\n",
       "    </tr>\n",
       "    <tr>\n",
       "      <th>std</th>\n",
       "      <td>85.854236</td>\n",
       "      <td>14.846809</td>\n",
       "      <td>21.778621</td>\n",
       "      <td>5.217457</td>\n",
       "    </tr>\n",
       "    <tr>\n",
       "      <th>min</th>\n",
       "      <td>0.700000</td>\n",
       "      <td>0.000000</td>\n",
       "      <td>0.300000</td>\n",
       "      <td>1.600000</td>\n",
       "    </tr>\n",
       "    <tr>\n",
       "      <th>25%</th>\n",
       "      <td>74.375000</td>\n",
       "      <td>9.975000</td>\n",
       "      <td>12.750000</td>\n",
       "      <td>10.375000</td>\n",
       "    </tr>\n",
       "    <tr>\n",
       "      <th>50%</th>\n",
       "      <td>149.750000</td>\n",
       "      <td>22.900000</td>\n",
       "      <td>25.750000</td>\n",
       "      <td>12.900000</td>\n",
       "    </tr>\n",
       "    <tr>\n",
       "      <th>75%</th>\n",
       "      <td>218.825000</td>\n",
       "      <td>36.525000</td>\n",
       "      <td>45.100000</td>\n",
       "      <td>17.400000</td>\n",
       "    </tr>\n",
       "    <tr>\n",
       "      <th>max</th>\n",
       "      <td>296.400000</td>\n",
       "      <td>49.600000</td>\n",
       "      <td>114.000000</td>\n",
       "      <td>27.000000</td>\n",
       "    </tr>\n",
       "  </tbody>\n",
       "</table>\n",
       "</div>"
      ],
      "text/plain": [
       "               TV       Radio   Newspaper       Sales\n",
       "count  200.000000  200.000000  200.000000  200.000000\n",
       "mean   147.042500   23.264000   30.554000   14.022500\n",
       "std     85.854236   14.846809   21.778621    5.217457\n",
       "min      0.700000    0.000000    0.300000    1.600000\n",
       "25%     74.375000    9.975000   12.750000   10.375000\n",
       "50%    149.750000   22.900000   25.750000   12.900000\n",
       "75%    218.825000   36.525000   45.100000   17.400000\n",
       "max    296.400000   49.600000  114.000000   27.000000"
      ]
     },
     "execution_count": 110,
     "metadata": {},
     "output_type": "execute_result"
    }
   ],
   "source": [
    "df.describe()"
   ]
  },
  {
   "cell_type": "code",
   "execution_count": 3,
   "metadata": {},
   "outputs": [
    {
     "data": {
      "text/plain": [
       "<AxesSubplot:xlabel='Newspaper', ylabel='Sales'>"
      ]
     },
     "execution_count": 3,
     "metadata": {},
     "output_type": "execute_result"
    },
    {
     "data": {
      "image/png": "[encoded data removed]",
      "text/plain": [
       "<Figure size 1080x360 with 3 Axes>"
      ]
     },
     "metadata": {
      "needs_background": "light"
     },
     "output_type": "display_data"
    }
   ],
   "source": [
    "fig = plt.figure(figsize=(15 , 5))\n",
    "\n",
    "ax1 = fig.add_subplot(1, 3, 1)\n",
    "ax2 = fig.add_subplot(1, 3, 2)\n",
    "ax3 = fig.add_subplot(1, 3, 3)\n",
    "\n",
    "sns.regplot(ax=ax1, x='TV', y='Sales', data=df)\n",
    "sns.regplot(ax=ax2, x='Radio', y='Sales', data=df)\n",
    "sns.regplot(ax=ax3, x='Newspaper', y='Sales', data=df)"
   ]
  },
  {
   "cell_type": "markdown",
   "metadata": {},
   "source": [
    "Yukarıda gördüğümüz gibi, **Newspaper**'e verilen reklamın Satışta ki etkisi biraz düşündürücü..."
   ]
  },
  {
   "cell_type": "markdown",
   "metadata": {},
   "source": [
    "+ Aşağıdaki, **``sns.pairplot( )``** fonksiyonu ile de, her bir kolonun kendi aralarındaki ikili ilişkileri görebiliyoruz **:**"
   ]
  },
  {
   "cell_type": "code",
   "execution_count": 6,
   "metadata": {},
   "outputs": [
    {
     "data": {
      "text/plain": [
       "<seaborn.axisgrid.PairGrid at 0x204051ac3d0>"
      ]
     },
     "execution_count": 6,
     "metadata": {},
     "output_type": "execute_result"
    },
    {
     "data": {
      "image/png": "[encoded data removed]",
      "text/plain": [
       "<Figure size 720x720 with 20 Axes>"
      ]
     },
     "metadata": {
      "needs_background": "light"
     },
     "output_type": "display_data"
    }
   ],
   "source": [
    "sns.pairplot(df)"
   ]
  },
  {
   "cell_type": "markdown",
   "metadata": {},
   "source": [
    "Yukarıda gördüğümüz gibi öncelikle **TV** reklamları ve **Satış** arasında güçlü bir ilişki var, eğim daha fazla...\n",
    "<br> Aynı zamanda mesela, **Radio** ile **Newspaper** kolonlarının **kendi** aralarındaki korelasyonlarına bakalım. İdeal olanı, bu iki kolonun aralarında bir etkinin olmamasını yani korelasyonlarının çok düşük olmasını isteriz. Çünkü **her bir BETA ( $\\beta$ )**'nın **bağımsız (independent)** olarak etkisini görmek istiyoruz... Aralarında bir korelasyon olursa bu kolonların etkisi birbirine karışıyor ve istediğimiz sonucu alamıyoruz...\n",
    "<br> Eğer aralarında korelasyon yoksa, veriler olabildiğince **rassal (random)** şekilde dağılır.\n",
    "<br> Ancak **Radio** ve **Newspaper** kolonlarına baktığımızda, aralarında az da olsa bir korelasyon varmış gibi görünüyor..."
   ]
  },
  {
   "cell_type": "markdown",
   "metadata": {},
   "source": [
    "+ Şimdi de **KORELASYONLARINA** bakalım **:**"
   ]
  },
  {
   "cell_type": "code",
   "execution_count": 3,
   "metadata": {},
   "outputs": [
    {
     "data": {
      "text/html": [
       "<div>\n",
       "<style scoped>\n",
       "    .dataframe tbody tr th:only-of-type {\n",
       "        vertical-align: middle;\n",
       "    }\n",
       "\n",
       "    .dataframe tbody tr th {\n",
       "        vertical-align: top;\n",
       "    }\n",
       "\n",
       "    .dataframe thead th {\n",
       "        text-align: right;\n",
       "    }\n",
       "</style>\n",
       "<table border=\"1\" class=\"dataframe\">\n",
       "  <thead>\n",
       "    <tr style=\"text-align: right;\">\n",
       "      <th></th>\n",
       "      <th>TV</th>\n",
       "      <th>Radio</th>\n",
       "      <th>Newspaper</th>\n",
       "      <th>Sales</th>\n",
       "    </tr>\n",
       "  </thead>\n",
       "  <tbody>\n",
       "    <tr>\n",
       "      <th>TV</th>\n",
       "      <td>1.000000</td>\n",
       "      <td>0.054809</td>\n",
       "      <td>0.056648</td>\n",
       "      <td>0.782224</td>\n",
       "    </tr>\n",
       "    <tr>\n",
       "      <th>Radio</th>\n",
       "      <td>0.054809</td>\n",
       "      <td>1.000000</td>\n",
       "      <td>0.354104</td>\n",
       "      <td>0.576223</td>\n",
       "    </tr>\n",
       "    <tr>\n",
       "      <th>Newspaper</th>\n",
       "      <td>0.056648</td>\n",
       "      <td>0.354104</td>\n",
       "      <td>1.000000</td>\n",
       "      <td>0.228299</td>\n",
       "    </tr>\n",
       "    <tr>\n",
       "      <th>Sales</th>\n",
       "      <td>0.782224</td>\n",
       "      <td>0.576223</td>\n",
       "      <td>0.228299</td>\n",
       "      <td>1.000000</td>\n",
       "    </tr>\n",
       "  </tbody>\n",
       "</table>\n",
       "</div>"
      ],
      "text/plain": [
       "                 TV     Radio  Newspaper     Sales\n",
       "TV         1.000000  0.054809   0.056648  0.782224\n",
       "Radio      0.054809  1.000000   0.354104  0.576223\n",
       "Newspaper  0.056648  0.354104   1.000000  0.228299\n",
       "Sales      0.782224  0.576223   0.228299  1.000000"
      ]
     },
     "execution_count": 3,
     "metadata": {},
     "output_type": "execute_result"
    }
   ],
   "source": [
    "corr = df.corr()\n",
    "corr"
   ]
  },
  {
   "cell_type": "code",
   "execution_count": 6,
   "metadata": {},
   "outputs": [
    {
     "data": {
      "text/plain": [
       "<AxesSubplot:>"
      ]
     },
     "execution_count": 6,
     "metadata": {},
     "output_type": "execute_result"
    },
    {
     "data": {
      "image/png": "[encoded data removed]",
      "text/plain": [
       "<Figure size 432x288 with 2 Axes>"
      ]
     },
     "metadata": {
      "needs_background": "light"
     },
     "output_type": "display_data"
    }
   ],
   "source": [
    "sns.heatmap(corr, xticklabels=corr.columns, yticklabels=corr.columns, vmin=-1, vmax=1, annot=True)"
   ]
  },
  {
   "cell_type": "markdown",
   "metadata": {},
   "source": [
    "Evvet, yukarıda da gördüğümüz gibi **Radio** ile **Newspaper** arasında az da olsa bir korelasyon var (0.35)"
   ]
  },
  {
   "cell_type": "code",
   "execution_count": 8,
   "metadata": {},
   "outputs": [
    {
     "data": {
      "text/html": [
       "<div>\n",
       "<style scoped>\n",
       "    .dataframe tbody tr th:only-of-type {\n",
       "        vertical-align: middle;\n",
       "    }\n",
       "\n",
       "    .dataframe tbody tr th {\n",
       "        vertical-align: top;\n",
       "    }\n",
       "\n",
       "    .dataframe thead th {\n",
       "        text-align: right;\n",
       "    }\n",
       "</style>\n",
       "<table border=\"1\" class=\"dataframe\">\n",
       "  <thead>\n",
       "    <tr style=\"text-align: right;\">\n",
       "      <th></th>\n",
       "      <th>TV</th>\n",
       "      <th>Radio</th>\n",
       "      <th>Newspaper</th>\n",
       "      <th>Sales</th>\n",
       "    </tr>\n",
       "  </thead>\n",
       "  <tbody>\n",
       "    <tr>\n",
       "      <th>196</th>\n",
       "      <td>38.2</td>\n",
       "      <td>3.7</td>\n",
       "      <td>13.8</td>\n",
       "      <td>7.6</td>\n",
       "    </tr>\n",
       "    <tr>\n",
       "      <th>197</th>\n",
       "      <td>94.2</td>\n",
       "      <td>4.9</td>\n",
       "      <td>8.1</td>\n",
       "      <td>9.7</td>\n",
       "    </tr>\n",
       "    <tr>\n",
       "      <th>198</th>\n",
       "      <td>177.0</td>\n",
       "      <td>9.3</td>\n",
       "      <td>6.4</td>\n",
       "      <td>12.8</td>\n",
       "    </tr>\n",
       "    <tr>\n",
       "      <th>199</th>\n",
       "      <td>283.6</td>\n",
       "      <td>42.0</td>\n",
       "      <td>66.2</td>\n",
       "      <td>25.5</td>\n",
       "    </tr>\n",
       "    <tr>\n",
       "      <th>200</th>\n",
       "      <td>232.1</td>\n",
       "      <td>8.6</td>\n",
       "      <td>8.7</td>\n",
       "      <td>13.4</td>\n",
       "    </tr>\n",
       "  </tbody>\n",
       "</table>\n",
       "</div>"
      ],
      "text/plain": [
       "        TV  Radio  Newspaper  Sales\n",
       "196   38.2    3.7       13.8    7.6\n",
       "197   94.2    4.9        8.1    9.7\n",
       "198  177.0    9.3        6.4   12.8\n",
       "199  283.6   42.0       66.2   25.5\n",
       "200  232.1    8.6        8.7   13.4"
      ]
     },
     "execution_count": 8,
     "metadata": {},
     "output_type": "execute_result"
    }
   ],
   "source": [
    "df.tail()"
   ]
  },
  {
   "cell_type": "markdown",
   "metadata": {
    "tags": []
   },
   "source": [
    "---\n",
    "---\n",
    "--------->\n",
    "### **Modelimizi Yaratalım (Kuralım) :**\n",
    "<---------\n",
    "\n",
    "---\n",
    "---"
   ]
  },
  {
   "cell_type": "markdown",
   "metadata": {},
   "source": [
    "+ Şimdi **, Lineer Regresyon Modelimizi** kurmak ve üzerinde çalışmalar yapmak için gerekli olan **modülleri çağırıyoruz :**"
   ]
  },
  {
   "cell_type": "code",
   "execution_count": 22,
   "metadata": {},
   "outputs": [],
   "source": [
    "from sklearn.linear_model import LinearRegression\n",
    "\n",
    "from sklearn.model_selection import train_test_split\n",
    "\n",
    "from sklearn import metrics"
   ]
  },
  {
   "cell_type": "markdown",
   "metadata": {},
   "source": [
    "+ Öncelikle, **'x'**'leri ve **'y'**'leri birbirlerinden ayıralım **:**\n",
    "<br> **+--- NOTE ---> 'X'**'lere FEATURE, **'y'**'lere de OUTPUT veya TARGET denir.\n",
    "\n",
    "+ **'Sales'** kolonunu **düşürdüğümüzde**, geriye sadece FEATURE kolonları kalır **:**"
   ]
  },
  {
   "cell_type": "code",
   "execution_count": 5,
   "metadata": {},
   "outputs": [
    {
     "data": {
      "text/html": [
       "<div>\n",
       "<style scoped>\n",
       "    .dataframe tbody tr th:only-of-type {\n",
       "        vertical-align: middle;\n",
       "    }\n",
       "\n",
       "    .dataframe tbody tr th {\n",
       "        vertical-align: top;\n",
       "    }\n",
       "\n",
       "    .dataframe thead th {\n",
       "        text-align: right;\n",
       "    }\n",
       "</style>\n",
       "<table border=\"1\" class=\"dataframe\">\n",
       "  <thead>\n",
       "    <tr style=\"text-align: right;\">\n",
       "      <th></th>\n",
       "      <th>TV</th>\n",
       "      <th>Radio</th>\n",
       "      <th>Newspaper</th>\n",
       "    </tr>\n",
       "  </thead>\n",
       "  <tbody>\n",
       "    <tr>\n",
       "      <th>196</th>\n",
       "      <td>38.2</td>\n",
       "      <td>3.7</td>\n",
       "      <td>13.8</td>\n",
       "    </tr>\n",
       "    <tr>\n",
       "      <th>197</th>\n",
       "      <td>94.2</td>\n",
       "      <td>4.9</td>\n",
       "      <td>8.1</td>\n",
       "    </tr>\n",
       "    <tr>\n",
       "      <th>198</th>\n",
       "      <td>177.0</td>\n",
       "      <td>9.3</td>\n",
       "      <td>6.4</td>\n",
       "    </tr>\n",
       "    <tr>\n",
       "      <th>199</th>\n",
       "      <td>283.6</td>\n",
       "      <td>42.0</td>\n",
       "      <td>66.2</td>\n",
       "    </tr>\n",
       "    <tr>\n",
       "      <th>200</th>\n",
       "      <td>232.1</td>\n",
       "      <td>8.6</td>\n",
       "      <td>8.7</td>\n",
       "    </tr>\n",
       "  </tbody>\n",
       "</table>\n",
       "</div>"
      ],
      "text/plain": [
       "        TV  Radio  Newspaper\n",
       "196   38.2    3.7       13.8\n",
       "197   94.2    4.9        8.1\n",
       "198  177.0    9.3        6.4\n",
       "199  283.6   42.0       66.2\n",
       "200  232.1    8.6        8.7"
      ]
     },
     "execution_count": 5,
     "metadata": {},
     "output_type": "execute_result"
    }
   ],
   "source": [
    "X = df.drop('Sales', axis=1)\n",
    "X.tail()"
   ]
  },
  {
   "cell_type": "markdown",
   "metadata": {},
   "source": [
    "+ **'Sales'** kolonu ise direkt TARGET kolonumuzdur **:**"
   ]
  },
  {
   "cell_type": "code",
   "execution_count": 6,
   "metadata": {},
   "outputs": [
    {
     "data": {
      "text/plain": [
       "196     7.6\n",
       "197     9.7\n",
       "198    12.8\n",
       "199    25.5\n",
       "200    13.4\n",
       "Name: Sales, dtype: float64"
      ]
     },
     "execution_count": 6,
     "metadata": {},
     "output_type": "execute_result"
    }
   ],
   "source": [
    "y = df['Sales']\n",
    "y.tail()"
   ]
  },
  {
   "cell_type": "markdown",
   "metadata": {},
   "source": [
    "+ Now let's split the data into a training set and a testing set. We will train out model on the training set and then use the test set to evaluate the model **:**\n",
    "+ Şimdi verileri bir **eğitim seti** ve bir **test seti** olarak ayıralım. Modeli eğitim setinde eğiteceğiz ve ardından modeli değerlendirmek için **hiç görmediği test setini** kullanacağız **:**"
   ]
  },
  {
   "cell_type": "markdown",
   "metadata": {},
   "source": [
    "**+--- NOTE ---> X_train , X_test , y_train , y_test = train_test_split( )** içerisinde SHIFT + TAB tuşlarına basarsak, içerisine yazabileceğimiz özellikleri görebiliriz.\n",
    "+ Verimizin **%20**'sini TEST verisi olarak ayırmak istiyoruz. Yani parantez içerisine **( test_size=0.2 )** yazmalıyız **:**"
   ]
  },
  {
   "cell_type": "code",
   "execution_count": 7,
   "metadata": {},
   "outputs": [],
   "source": [
    "X_train, X_test, y_train, y_test = train_test_split(X, y, test_size=0.2, random_state=17)"
   ]
  },
  {
   "cell_type": "markdown",
   "metadata": {},
   "source": [
    "+ Şimdi **RASTGELE (RANDOM)** bir şekilde **%20**'sini **TEST** verisi olarak seçtiğimiz **FEATURE ('X')** verilerimizi göstereceğiz **:**"
   ]
  },
  {
   "cell_type": "code",
   "execution_count": 32,
   "metadata": {},
   "outputs": [
    {
     "data": {
      "text/html": [
       "<div>\n",
       "<style scoped>\n",
       "    .dataframe tbody tr th:only-of-type {\n",
       "        vertical-align: middle;\n",
       "    }\n",
       "\n",
       "    .dataframe tbody tr th {\n",
       "        vertical-align: top;\n",
       "    }\n",
       "\n",
       "    .dataframe thead th {\n",
       "        text-align: right;\n",
       "    }\n",
       "</style>\n",
       "<table border=\"1\" class=\"dataframe\">\n",
       "  <thead>\n",
       "    <tr style=\"text-align: right;\">\n",
       "      <th></th>\n",
       "      <th>TV</th>\n",
       "      <th>Radio</th>\n",
       "      <th>Newspaper</th>\n",
       "    </tr>\n",
       "  </thead>\n",
       "  <tbody>\n",
       "    <tr>\n",
       "      <th>1</th>\n",
       "      <td>230.1</td>\n",
       "      <td>37.8</td>\n",
       "      <td>69.2</td>\n",
       "    </tr>\n",
       "    <tr>\n",
       "      <th>147</th>\n",
       "      <td>240.1</td>\n",
       "      <td>7.3</td>\n",
       "      <td>8.7</td>\n",
       "    </tr>\n",
       "    <tr>\n",
       "      <th>159</th>\n",
       "      <td>11.7</td>\n",
       "      <td>36.9</td>\n",
       "      <td>45.2</td>\n",
       "    </tr>\n",
       "    <tr>\n",
       "      <th>177</th>\n",
       "      <td>248.4</td>\n",
       "      <td>30.2</td>\n",
       "      <td>20.3</td>\n",
       "    </tr>\n",
       "    <tr>\n",
       "      <th>198</th>\n",
       "      <td>177.0</td>\n",
       "      <td>9.3</td>\n",
       "      <td>6.4</td>\n",
       "    </tr>\n",
       "    <tr>\n",
       "      <th>83</th>\n",
       "      <td>75.3</td>\n",
       "      <td>20.3</td>\n",
       "      <td>32.5</td>\n",
       "    </tr>\n",
       "    <tr>\n",
       "      <th>76</th>\n",
       "      <td>16.9</td>\n",
       "      <td>43.7</td>\n",
       "      <td>89.4</td>\n",
       "    </tr>\n",
       "    <tr>\n",
       "      <th>86</th>\n",
       "      <td>193.2</td>\n",
       "      <td>18.4</td>\n",
       "      <td>65.7</td>\n",
       "    </tr>\n",
       "    <tr>\n",
       "      <th>81</th>\n",
       "      <td>76.4</td>\n",
       "      <td>26.7</td>\n",
       "      <td>22.3</td>\n",
       "    </tr>\n",
       "    <tr>\n",
       "      <th>158</th>\n",
       "      <td>149.8</td>\n",
       "      <td>1.3</td>\n",
       "      <td>24.3</td>\n",
       "    </tr>\n",
       "    <tr>\n",
       "      <th>72</th>\n",
       "      <td>109.8</td>\n",
       "      <td>14.3</td>\n",
       "      <td>31.7</td>\n",
       "    </tr>\n",
       "    <tr>\n",
       "      <th>96</th>\n",
       "      <td>163.3</td>\n",
       "      <td>31.6</td>\n",
       "      <td>52.9</td>\n",
       "    </tr>\n",
       "    <tr>\n",
       "      <th>139</th>\n",
       "      <td>43.0</td>\n",
       "      <td>25.9</td>\n",
       "      <td>20.5</td>\n",
       "    </tr>\n",
       "    <tr>\n",
       "      <th>110</th>\n",
       "      <td>255.4</td>\n",
       "      <td>26.9</td>\n",
       "      <td>5.5</td>\n",
       "    </tr>\n",
       "    <tr>\n",
       "      <th>148</th>\n",
       "      <td>243.2</td>\n",
       "      <td>49.0</td>\n",
       "      <td>44.3</td>\n",
       "    </tr>\n",
       "    <tr>\n",
       "      <th>193</th>\n",
       "      <td>17.2</td>\n",
       "      <td>4.1</td>\n",
       "      <td>31.6</td>\n",
       "    </tr>\n",
       "    <tr>\n",
       "      <th>127</th>\n",
       "      <td>7.8</td>\n",
       "      <td>38.9</td>\n",
       "      <td>50.6</td>\n",
       "    </tr>\n",
       "    <tr>\n",
       "      <th>17</th>\n",
       "      <td>67.8</td>\n",
       "      <td>36.6</td>\n",
       "      <td>114.0</td>\n",
       "    </tr>\n",
       "    <tr>\n",
       "      <th>88</th>\n",
       "      <td>110.7</td>\n",
       "      <td>40.6</td>\n",
       "      <td>63.2</td>\n",
       "    </tr>\n",
       "    <tr>\n",
       "      <th>104</th>\n",
       "      <td>187.9</td>\n",
       "      <td>17.2</td>\n",
       "      <td>17.9</td>\n",
       "    </tr>\n",
       "    <tr>\n",
       "      <th>178</th>\n",
       "      <td>170.2</td>\n",
       "      <td>7.8</td>\n",
       "      <td>35.2</td>\n",
       "    </tr>\n",
       "    <tr>\n",
       "      <th>128</th>\n",
       "      <td>80.2</td>\n",
       "      <td>0.0</td>\n",
       "      <td>9.2</td>\n",
       "    </tr>\n",
       "    <tr>\n",
       "      <th>12</th>\n",
       "      <td>214.7</td>\n",
       "      <td>24.0</td>\n",
       "      <td>4.0</td>\n",
       "    </tr>\n",
       "    <tr>\n",
       "      <th>114</th>\n",
       "      <td>209.6</td>\n",
       "      <td>20.6</td>\n",
       "      <td>10.7</td>\n",
       "    </tr>\n",
       "    <tr>\n",
       "      <th>95</th>\n",
       "      <td>107.4</td>\n",
       "      <td>14.0</td>\n",
       "      <td>10.9</td>\n",
       "    </tr>\n",
       "    <tr>\n",
       "      <th>141</th>\n",
       "      <td>73.4</td>\n",
       "      <td>17.0</td>\n",
       "      <td>12.9</td>\n",
       "    </tr>\n",
       "    <tr>\n",
       "      <th>171</th>\n",
       "      <td>50.0</td>\n",
       "      <td>11.6</td>\n",
       "      <td>18.4</td>\n",
       "    </tr>\n",
       "    <tr>\n",
       "      <th>14</th>\n",
       "      <td>97.5</td>\n",
       "      <td>7.6</td>\n",
       "      <td>7.2</td>\n",
       "    </tr>\n",
       "    <tr>\n",
       "      <th>70</th>\n",
       "      <td>216.8</td>\n",
       "      <td>43.9</td>\n",
       "      <td>27.2</td>\n",
       "    </tr>\n",
       "    <tr>\n",
       "      <th>106</th>\n",
       "      <td>137.9</td>\n",
       "      <td>46.4</td>\n",
       "      <td>59.0</td>\n",
       "    </tr>\n",
       "    <tr>\n",
       "      <th>82</th>\n",
       "      <td>239.8</td>\n",
       "      <td>4.1</td>\n",
       "      <td>36.9</td>\n",
       "    </tr>\n",
       "    <tr>\n",
       "      <th>131</th>\n",
       "      <td>0.7</td>\n",
       "      <td>39.6</td>\n",
       "      <td>8.7</td>\n",
       "    </tr>\n",
       "    <tr>\n",
       "      <th>161</th>\n",
       "      <td>172.5</td>\n",
       "      <td>18.1</td>\n",
       "      <td>30.7</td>\n",
       "    </tr>\n",
       "    <tr>\n",
       "      <th>55</th>\n",
       "      <td>262.7</td>\n",
       "      <td>28.8</td>\n",
       "      <td>15.9</td>\n",
       "    </tr>\n",
       "    <tr>\n",
       "      <th>38</th>\n",
       "      <td>74.7</td>\n",
       "      <td>49.4</td>\n",
       "      <td>45.7</td>\n",
       "    </tr>\n",
       "    <tr>\n",
       "      <th>133</th>\n",
       "      <td>8.4</td>\n",
       "      <td>27.2</td>\n",
       "      <td>2.1</td>\n",
       "    </tr>\n",
       "    <tr>\n",
       "      <th>65</th>\n",
       "      <td>131.1</td>\n",
       "      <td>42.8</td>\n",
       "      <td>28.9</td>\n",
       "    </tr>\n",
       "    <tr>\n",
       "      <th>152</th>\n",
       "      <td>121.0</td>\n",
       "      <td>8.4</td>\n",
       "      <td>48.7</td>\n",
       "    </tr>\n",
       "    <tr>\n",
       "      <th>52</th>\n",
       "      <td>100.4</td>\n",
       "      <td>9.6</td>\n",
       "      <td>3.6</td>\n",
       "    </tr>\n",
       "    <tr>\n",
       "      <th>154</th>\n",
       "      <td>171.3</td>\n",
       "      <td>39.7</td>\n",
       "      <td>37.7</td>\n",
       "    </tr>\n",
       "  </tbody>\n",
       "</table>\n",
       "</div>"
      ],
      "text/plain": [
       "        TV  Radio  Newspaper\n",
       "1    230.1   37.8       69.2\n",
       "147  240.1    7.3        8.7\n",
       "159   11.7   36.9       45.2\n",
       "177  248.4   30.2       20.3\n",
       "198  177.0    9.3        6.4\n",
       "83    75.3   20.3       32.5\n",
       "76    16.9   43.7       89.4\n",
       "86   193.2   18.4       65.7\n",
       "81    76.4   26.7       22.3\n",
       "158  149.8    1.3       24.3\n",
       "72   109.8   14.3       31.7\n",
       "96   163.3   31.6       52.9\n",
       "139   43.0   25.9       20.5\n",
       "110  255.4   26.9        5.5\n",
       "148  243.2   49.0       44.3\n",
       "193   17.2    4.1       31.6\n",
       "127    7.8   38.9       50.6\n",
       "17    67.8   36.6      114.0\n",
       "88   110.7   40.6       63.2\n",
       "104  187.9   17.2       17.9\n",
       "178  170.2    7.8       35.2\n",
       "128   80.2    0.0        9.2\n",
       "12   214.7   24.0        4.0\n",
       "114  209.6   20.6       10.7\n",
       "95   107.4   14.0       10.9\n",
       "141   73.4   17.0       12.9\n",
       "171   50.0   11.6       18.4\n",
       "14    97.5    7.6        7.2\n",
       "70   216.8   43.9       27.2\n",
       "106  137.9   46.4       59.0\n",
       "82   239.8    4.1       36.9\n",
       "131    0.7   39.6        8.7\n",
       "161  172.5   18.1       30.7\n",
       "55   262.7   28.8       15.9\n",
       "38    74.7   49.4       45.7\n",
       "133    8.4   27.2        2.1\n",
       "65   131.1   42.8       28.9\n",
       "152  121.0    8.4       48.7\n",
       "52   100.4    9.6        3.6\n",
       "154  171.3   39.7       37.7"
      ]
     },
     "execution_count": 32,
     "metadata": {},
     "output_type": "execute_result"
    }
   ],
   "source": [
    "X_test"
   ]
  },
  {
   "cell_type": "markdown",
   "metadata": {},
   "source": [
    "+ Şimdi **RASTGELE (RANDOM)** bir şekilde **%80**'ini **TRAIN (EĞİTİM)** verisi olarak seçtiğimiz **FEATURE ('X')** verilerimizi göstereceğiz **:**"
   ]
  },
  {
   "cell_type": "code",
   "execution_count": 33,
   "metadata": {},
   "outputs": [
    {
     "data": {
      "text/html": [
       "<div>\n",
       "<style scoped>\n",
       "    .dataframe tbody tr th:only-of-type {\n",
       "        vertical-align: middle;\n",
       "    }\n",
       "\n",
       "    .dataframe tbody tr th {\n",
       "        vertical-align: top;\n",
       "    }\n",
       "\n",
       "    .dataframe thead th {\n",
       "        text-align: right;\n",
       "    }\n",
       "</style>\n",
       "<table border=\"1\" class=\"dataframe\">\n",
       "  <thead>\n",
       "    <tr style=\"text-align: right;\">\n",
       "      <th></th>\n",
       "      <th>TV</th>\n",
       "      <th>Radio</th>\n",
       "      <th>Newspaper</th>\n",
       "    </tr>\n",
       "  </thead>\n",
       "  <tbody>\n",
       "    <tr>\n",
       "      <th>10</th>\n",
       "      <td>199.8</td>\n",
       "      <td>2.6</td>\n",
       "      <td>21.2</td>\n",
       "    </tr>\n",
       "    <tr>\n",
       "      <th>20</th>\n",
       "      <td>147.3</td>\n",
       "      <td>23.9</td>\n",
       "      <td>19.1</td>\n",
       "    </tr>\n",
       "    <tr>\n",
       "      <th>200</th>\n",
       "      <td>232.1</td>\n",
       "      <td>8.6</td>\n",
       "      <td>8.7</td>\n",
       "    </tr>\n",
       "    <tr>\n",
       "      <th>153</th>\n",
       "      <td>197.6</td>\n",
       "      <td>23.3</td>\n",
       "      <td>14.2</td>\n",
       "    </tr>\n",
       "    <tr>\n",
       "      <th>4</th>\n",
       "      <td>151.5</td>\n",
       "      <td>41.3</td>\n",
       "      <td>58.5</td>\n",
       "    </tr>\n",
       "    <tr>\n",
       "      <th>...</th>\n",
       "      <td>...</td>\n",
       "      <td>...</td>\n",
       "      <td>...</td>\n",
       "    </tr>\n",
       "    <tr>\n",
       "      <th>58</th>\n",
       "      <td>136.2</td>\n",
       "      <td>19.2</td>\n",
       "      <td>16.6</td>\n",
       "    </tr>\n",
       "    <tr>\n",
       "      <th>151</th>\n",
       "      <td>280.7</td>\n",
       "      <td>13.9</td>\n",
       "      <td>37.0</td>\n",
       "    </tr>\n",
       "    <tr>\n",
       "      <th>135</th>\n",
       "      <td>36.9</td>\n",
       "      <td>38.6</td>\n",
       "      <td>65.6</td>\n",
       "    </tr>\n",
       "    <tr>\n",
       "      <th>144</th>\n",
       "      <td>104.6</td>\n",
       "      <td>5.7</td>\n",
       "      <td>34.4</td>\n",
       "    </tr>\n",
       "    <tr>\n",
       "      <th>112</th>\n",
       "      <td>241.7</td>\n",
       "      <td>38.0</td>\n",
       "      <td>23.2</td>\n",
       "    </tr>\n",
       "  </tbody>\n",
       "</table>\n",
       "<p>160 rows × 3 columns</p>\n",
       "</div>"
      ],
      "text/plain": [
       "        TV  Radio  Newspaper\n",
       "10   199.8    2.6       21.2\n",
       "20   147.3   23.9       19.1\n",
       "200  232.1    8.6        8.7\n",
       "153  197.6   23.3       14.2\n",
       "4    151.5   41.3       58.5\n",
       "..     ...    ...        ...\n",
       "58   136.2   19.2       16.6\n",
       "151  280.7   13.9       37.0\n",
       "135   36.9   38.6       65.6\n",
       "144  104.6    5.7       34.4\n",
       "112  241.7   38.0       23.2\n",
       "\n",
       "[160 rows x 3 columns]"
      ]
     },
     "execution_count": 33,
     "metadata": {},
     "output_type": "execute_result"
    }
   ],
   "source": [
    "X_train"
   ]
  },
  {
   "cell_type": "markdown",
   "metadata": {},
   "source": [
    "+ Şimdi de **%20** olarak RASTGELE seçtiğimiz FEATURE ('X') **TEST** değerlerine karşılık gelen **TARGET ('y')** değerlerini göstereceğiz **:**"
   ]
  },
  {
   "cell_type": "code",
   "execution_count": 18,
   "metadata": {},
   "outputs": [
    {
     "data": {
      "text/plain": [
       "1      22.1\n",
       "147    13.2\n",
       "159     7.3\n",
       "177    20.2\n",
       "198    12.8\n",
       "83     11.3\n",
       "76      8.7\n",
       "86     15.2\n",
       "81     11.8\n",
       "158    10.1\n",
       "72     12.4\n",
       "96     16.9\n",
       "139     9.6\n",
       "110    19.8\n",
       "148    25.4\n",
       "193     5.9\n",
       "127     6.6\n",
       "17     12.5\n",
       "88     16.0\n",
       "104    14.7\n",
       "178    11.7\n",
       "128     8.8\n",
       "12     17.4\n",
       "114    15.9\n",
       "95     11.5\n",
       "141    10.9\n",
       "171     8.4\n",
       "14      9.7\n",
       "70     22.3\n",
       "106    19.2\n",
       "82     12.3\n",
       "131     1.6\n",
       "161    14.4\n",
       "55     20.2\n",
       "38     14.7\n",
       "133     5.7\n",
       "65     18.0\n",
       "152    11.6\n",
       "52     10.7\n",
       "154    19.0\n",
       "Name: Sales, dtype: float64"
      ]
     },
     "execution_count": 18,
     "metadata": {},
     "output_type": "execute_result"
    }
   ],
   "source": [
    "y_test"
   ]
  },
  {
   "cell_type": "markdown",
   "metadata": {},
   "source": [
    "+ Şimdi de **%80** olarak RASTGELE seçtiğimiz FEATURE ('X') **TRAIN (EĞİTİM)** değerlerine karşılık gelen **TARGET ('y')** değerlerini göstereceğiz **:**"
   ]
  },
  {
   "cell_type": "code",
   "execution_count": 19,
   "metadata": {},
   "outputs": [
    {
     "data": {
      "text/plain": [
       "10     10.6\n",
       "20     14.6\n",
       "200    13.4\n",
       "153    16.6\n",
       "4      18.5\n",
       "       ... \n",
       "58     13.2\n",
       "151    16.1\n",
       "135    10.8\n",
       "144    10.4\n",
       "112    21.8\n",
       "Name: Sales, Length: 160, dtype: float64"
      ]
     },
     "execution_count": 19,
     "metadata": {},
     "output_type": "execute_result"
    }
   ],
   "source": [
    "y_train"
   ]
  },
  {
   "cell_type": "markdown",
   "metadata": {},
   "source": [
    "#### **Creating and Training the Model (Modelin Oluşturulması ve Eğitimi)**"
   ]
  },
  {
   "cell_type": "markdown",
   "metadata": {},
   "source": [
    "+ **En baştan, doğru bir şekilde yapıyoruz :**\n",
    "+ Lineer Regresyonun bütün özelliklerini, metodlarını, fonksiyonlarını, ... kullanabileceğimiz **;** **Lineer Regresyondan bir 'OBJE'** yaratacağız. Bu objenin adına da **'lm'** diyelim **:**"
   ]
  },
  {
   "cell_type": "code",
   "execution_count": 8,
   "metadata": {},
   "outputs": [],
   "source": [
    "lm = LinearRegression()"
   ]
  },
  {
   "cell_type": "markdown",
   "metadata": {},
   "source": [
    "+ **Şimdi artık SADECE EĞİTİM (train) verilerini FIT edeceğiz :**"
   ]
  },
  {
   "cell_type": "code",
   "execution_count": 9,
   "metadata": {},
   "outputs": [
    {
     "data": {
      "text/plain": [
       "LinearRegression()"
      ]
     },
     "execution_count": 9,
     "metadata": {},
     "output_type": "execute_result"
    }
   ],
   "source": [
    "lm.fit(X_train, y_train)"
   ]
  },
  {
   "cell_type": "code",
   "execution_count": 10,
   "metadata": {},
   "outputs": [
    {
     "data": {
      "text/plain": [
       "array([ 0.04376936,  0.19767522, -0.00187394])"
      ]
     },
     "execution_count": 10,
     "metadata": {},
     "output_type": "execute_result"
    }
   ],
   "source": [
    "lm.coef_"
   ]
  },
  {
   "cell_type": "code",
   "execution_count": 11,
   "metadata": {},
   "outputs": [
    {
     "data": {
      "text/plain": [
       "3.0865202625382295"
      ]
     },
     "execution_count": 11,
     "metadata": {},
     "output_type": "execute_result"
    }
   ],
   "source": [
    "lm.intercept_"
   ]
  },
  {
   "cell_type": "markdown",
   "metadata": {},
   "source": [
    "Yukarıda değer **, BETA-0 ( $\\beta_{0}$ )** değerimizdir."
   ]
  },
  {
   "cell_type": "markdown",
   "metadata": {},
   "source": [
    "+ Modelin TEST setindeki **performansını** hesaplayalım **:**\n",
    "<br> **$R^2$ :**"
   ]
  },
  {
   "cell_type": "code",
   "execution_count": 12,
   "metadata": {},
   "outputs": [
    {
     "data": {
      "text/plain": [
       "0.8266375240641092"
      ]
     },
     "execution_count": 12,
     "metadata": {},
     "output_type": "execute_result"
    }
   ],
   "source": [
    "lm.score(X_test , y_test)"
   ]
  },
  {
   "cell_type": "markdown",
   "metadata": {},
   "source": [
    "**++++ CTIRICAL NOTE ++++**\n",
    "<br> Yani yukarıdaki **lm.score( X_test , y_test )** kodu ile **; 'X'-TEST** verilerini alıp, sonra **EĞİTTİĞİ katsayıları ( lm.coef_ )** da kullanarak **tahmin değerlerini (prediction)** hesaplıyor... SONRA DA **GERÇEK 'y'-TRAIN** değerlerine bakıp, nasıl bir **performans** gösterdiğini değerlendiriyor..."
   ]
  },
  {
   "cell_type": "markdown",
   "metadata": {},
   "source": [
    "+ Şimdi de **FEATURE ('X')-TEST** verilerini kullanarak bir **tahminleme** yaplım. Çünkü **modelimiz** henüz TEST verilerini **görmedi** ve hiç görmediği veriler üzerinde bir **tahminleme** yapmasını istiyoruz **:**\n",
    "<br> Ve bunu **'predictions'** ismini verdiğimiz bir objeye atayalım **:**"
   ]
  },
  {
   "cell_type": "code",
   "execution_count": 13,
   "metadata": {},
   "outputs": [
    {
     "data": {
      "text/plain": [
       "array([20.50029784, 15.0222705 , 10.80813551, 19.89058115, 12.66008412,\n",
       "       10.3342574 , 12.2970996 , 15.05686774, 11.66663932,  9.8546121 ,\n",
       "       10.65974828, 16.38146313, 10.04997546, 19.57237277, 23.33430011,\n",
       "        4.59060526, 11.02266616, 13.07536724, 15.83897   , 14.67725415,\n",
       "       12.01197015,  6.57958304, 17.2205124 , 16.31263748, 10.53437718,\n",
       "        9.63549659,  7.53354059,  8.84287262, 21.20268962, 18.18388355,\n",
       "       14.32373388, 10.9287944 , 14.15712722, 20.24798308, 16.03560879,\n",
       "        8.82701373, 17.23102665,  9.95182437,  9.37190041, 18.36127123])"
      ]
     },
     "execution_count": 13,
     "metadata": {},
     "output_type": "execute_result"
    }
   ],
   "source": [
    "predictions = lm.predict(X_test)\n",
    "predictions"
   ]
  },
  {
   "cell_type": "markdown",
   "metadata": {},
   "source": [
    "+ **Comparison (Karşılaştırma) :**\n",
    "<br> **Gerçek test verileri (y_Test)** ile **tahminleme yaptığımız text verilerini (X_test) karşılaştıralım :**"
   ]
  },
  {
   "cell_type": "code",
   "execution_count": 14,
   "metadata": {},
   "outputs": [
    {
     "data": {
      "text/html": [
       "<div>\n",
       "<style scoped>\n",
       "    .dataframe tbody tr th:only-of-type {\n",
       "        vertical-align: middle;\n",
       "    }\n",
       "\n",
       "    .dataframe tbody tr th {\n",
       "        vertical-align: top;\n",
       "    }\n",
       "\n",
       "    .dataframe thead th {\n",
       "        text-align: right;\n",
       "    }\n",
       "</style>\n",
       "<table border=\"1\" class=\"dataframe\">\n",
       "  <thead>\n",
       "    <tr style=\"text-align: right;\">\n",
       "      <th></th>\n",
       "      <th>Actual</th>\n",
       "      <th>Predicted</th>\n",
       "    </tr>\n",
       "  </thead>\n",
       "  <tbody>\n",
       "    <tr>\n",
       "      <th>133</th>\n",
       "      <td>5.7</td>\n",
       "      <td>8.827014</td>\n",
       "    </tr>\n",
       "    <tr>\n",
       "      <th>65</th>\n",
       "      <td>18.0</td>\n",
       "      <td>17.231027</td>\n",
       "    </tr>\n",
       "    <tr>\n",
       "      <th>152</th>\n",
       "      <td>11.6</td>\n",
       "      <td>9.951824</td>\n",
       "    </tr>\n",
       "    <tr>\n",
       "      <th>52</th>\n",
       "      <td>10.7</td>\n",
       "      <td>9.371900</td>\n",
       "    </tr>\n",
       "    <tr>\n",
       "      <th>154</th>\n",
       "      <td>19.0</td>\n",
       "      <td>18.361271</td>\n",
       "    </tr>\n",
       "  </tbody>\n",
       "</table>\n",
       "</div>"
      ],
      "text/plain": [
       "     Actual  Predicted\n",
       "133     5.7   8.827014\n",
       "65     18.0  17.231027\n",
       "152    11.6   9.951824\n",
       "52     10.7   9.371900\n",
       "154    19.0  18.361271"
      ]
     },
     "execution_count": 14,
     "metadata": {},
     "output_type": "execute_result"
    }
   ],
   "source": [
    "comp = pd.DataFrame({'Actual' : y_test , 'Predicted' : predictions})\n",
    "comp.tail()"
   ]
  },
  {
   "cell_type": "markdown",
   "metadata": {},
   "source": [
    "Yukarıdaki tabloya bakarak, buradan çok kolay bir şekilde **SSE (same of squared error)**'yi veya **MSE (mean square error)**'yi hesaplayabiliriz..."
   ]
  },
  {
   "cell_type": "markdown",
   "metadata": {},
   "source": [
    "+ Şimdi bir tane **Histogram** çizdirelim ve yorumlayalım **:**\n",
    "<br> Gerçek değerler ile tahminlerin arasındaki FARKLARIN (**error**'ların) Histogramını çizdirelim **:**"
   ]
  },
  {
   "cell_type": "code",
   "execution_count": 15,
   "metadata": {},
   "outputs": [
    {
     "data": {
      "text/plain": [
       "<AxesSubplot:xlabel='Sales', ylabel='Count'>"
      ]
     },
     "execution_count": 15,
     "metadata": {},
     "output_type": "execute_result"
    },
    {
     "data": {
      "image/png": "[encoded data removed]",
      "text/plain": [
       "<Figure size 432x288 with 1 Axes>"
      ]
     },
     "metadata": {
      "needs_background": "light"
     },
     "output_type": "display_data"
    }
   ],
   "source": [
    "sns.histplot(y_test - predictions, bins=30)"
   ]
  },
  {
   "cell_type": "markdown",
   "metadata": {},
   "source": [
    "**Hatamızın, Normal Dağılım şeklinde dağılmasını isteriz !!!**\n",
    "<br> Çünkü modelimizin çok büyük hataları çok fazla yapmasını istemeyiz... Büyük hataların, olabildiğince küçük olması lazım...\n",
    "<br> **'0'**'ın çevresindeki hata sayısı daha çok olabilir... Ama **'0'**'dan uzaklaştıkça hataların azalmasını isteriz... Bu da bize **curve (eğri, kavis)** şeklinde bir grafik verir... Yani bu şekilde bir grafik olmasını isteriz... İyi bir model bu şekilde olur...\n",
    "<br> Eğer **Normal Dağılım** şeklinde bir grafik oluşmuyorsa modelimiz bir şeyleri kaçırıyor demektir. Bir yerlerde daha fazla hata yapıyor demektir... O zaman açıklayabileceğimiz bazı şeyler var, ve modelimiz o konuda yetersiz kalıyor demektir..."
   ]
  },
  {
   "cell_type": "markdown",
   "metadata": {},
   "source": [
    "+ Şimdi de **HATA metriklerini** görelim **:**"
   ]
  },
  {
   "cell_type": "code",
   "execution_count": 33,
   "metadata": {},
   "outputs": [
    {
     "ename": "ValueError",
     "evalue": "Found input variables with inconsistent numbers of samples: [200, 40]",
     "output_type": "error",
     "traceback": [
      "\u001b[1;31m---------------------------------------------------------------------------\u001b[0m",
      "\u001b[1;31mValueError\u001b[0m                                Traceback (most recent call last)",
      "\u001b[1;32m<ipython-input-33-528ab7f9dc94>\u001b[0m in \u001b[0;36m<module>\u001b[1;34m\u001b[0m\n\u001b[1;32m----> 1\u001b[1;33m \u001b[0mprint\u001b[0m\u001b[1;33m(\u001b[0m\u001b[1;34m'MAE:'\u001b[0m \u001b[1;33m,\u001b[0m \u001b[0mmetrics\u001b[0m\u001b[1;33m.\u001b[0m\u001b[0mmean_absolute_error\u001b[0m\u001b[1;33m(\u001b[0m\u001b[0my\u001b[0m\u001b[1;33m,\u001b[0m \u001b[0mpredictions\u001b[0m\u001b[1;33m)\u001b[0m\u001b[1;33m)\u001b[0m\u001b[1;33m\u001b[0m\u001b[1;33m\u001b[0m\u001b[0m\n\u001b[0m\u001b[0;32m      2\u001b[0m \u001b[0mprint\u001b[0m\u001b[1;33m(\u001b[0m\u001b[1;34m'MSE:'\u001b[0m \u001b[1;33m,\u001b[0m \u001b[0mmetrics\u001b[0m\u001b[1;33m.\u001b[0m\u001b[0mmean_squared_error\u001b[0m\u001b[1;33m(\u001b[0m\u001b[0my\u001b[0m\u001b[1;33m,\u001b[0m \u001b[0mpredictions\u001b[0m\u001b[1;33m)\u001b[0m\u001b[1;33m)\u001b[0m\u001b[1;33m\u001b[0m\u001b[1;33m\u001b[0m\u001b[0m\n\u001b[0;32m      3\u001b[0m \u001b[0mprint\u001b[0m\u001b[1;33m(\u001b[0m\u001b[1;34m'RMSE:'\u001b[0m \u001b[1;33m,\u001b[0m \u001b[0mnp\u001b[0m\u001b[1;33m.\u001b[0m\u001b[0msqrt\u001b[0m\u001b[1;33m(\u001b[0m\u001b[0mmetrics\u001b[0m\u001b[1;33m.\u001b[0m\u001b[0mmean_squared_error\u001b[0m\u001b[1;33m(\u001b[0m\u001b[0my\u001b[0m\u001b[1;33m,\u001b[0m \u001b[0mpredictions\u001b[0m\u001b[1;33m)\u001b[0m\u001b[1;33m)\u001b[0m\u001b[1;33m)\u001b[0m\u001b[1;33m\u001b[0m\u001b[1;33m\u001b[0m\u001b[0m\n",
      "\u001b[1;32mC:\\anaconda3\\envs\\ITUmindset\\lib\\site-packages\\sklearn\\metrics\\_regression.py\u001b[0m in \u001b[0;36mmean_absolute_error\u001b[1;34m(y_true, y_pred, sample_weight, multioutput)\u001b[0m\n\u001b[0;32m    189\u001b[0m     \u001b[1;36m0.85\u001b[0m\u001b[1;33m...\u001b[0m\u001b[1;33m\u001b[0m\u001b[1;33m\u001b[0m\u001b[0m\n\u001b[0;32m    190\u001b[0m     \"\"\"\n\u001b[1;32m--> 191\u001b[1;33m     y_type, y_true, y_pred, multioutput = _check_reg_targets(\n\u001b[0m\u001b[0;32m    192\u001b[0m         \u001b[0my_true\u001b[0m\u001b[1;33m,\u001b[0m \u001b[0my_pred\u001b[0m\u001b[1;33m,\u001b[0m \u001b[0mmultioutput\u001b[0m\u001b[1;33m\u001b[0m\u001b[1;33m\u001b[0m\u001b[0m\n\u001b[0;32m    193\u001b[0m     )\n",
      "\u001b[1;32mC:\\anaconda3\\envs\\ITUmindset\\lib\\site-packages\\sklearn\\metrics\\_regression.py\u001b[0m in \u001b[0;36m_check_reg_targets\u001b[1;34m(y_true, y_pred, multioutput, dtype)\u001b[0m\n\u001b[0;32m     92\u001b[0m         \u001b[0mthe\u001b[0m \u001b[0mdtype\u001b[0m \u001b[0margument\u001b[0m \u001b[0mpassed\u001b[0m \u001b[0mto\u001b[0m \u001b[0mcheck_array\u001b[0m\u001b[1;33m.\u001b[0m\u001b[1;33m\u001b[0m\u001b[1;33m\u001b[0m\u001b[0m\n\u001b[0;32m     93\u001b[0m     \"\"\"\n\u001b[1;32m---> 94\u001b[1;33m     \u001b[0mcheck_consistent_length\u001b[0m\u001b[1;33m(\u001b[0m\u001b[0my_true\u001b[0m\u001b[1;33m,\u001b[0m \u001b[0my_pred\u001b[0m\u001b[1;33m)\u001b[0m\u001b[1;33m\u001b[0m\u001b[1;33m\u001b[0m\u001b[0m\n\u001b[0m\u001b[0;32m     95\u001b[0m     \u001b[0my_true\u001b[0m \u001b[1;33m=\u001b[0m \u001b[0mcheck_array\u001b[0m\u001b[1;33m(\u001b[0m\u001b[0my_true\u001b[0m\u001b[1;33m,\u001b[0m \u001b[0mensure_2d\u001b[0m\u001b[1;33m=\u001b[0m\u001b[1;32mFalse\u001b[0m\u001b[1;33m,\u001b[0m \u001b[0mdtype\u001b[0m\u001b[1;33m=\u001b[0m\u001b[0mdtype\u001b[0m\u001b[1;33m)\u001b[0m\u001b[1;33m\u001b[0m\u001b[1;33m\u001b[0m\u001b[0m\n\u001b[0;32m     96\u001b[0m     \u001b[0my_pred\u001b[0m \u001b[1;33m=\u001b[0m \u001b[0mcheck_array\u001b[0m\u001b[1;33m(\u001b[0m\u001b[0my_pred\u001b[0m\u001b[1;33m,\u001b[0m \u001b[0mensure_2d\u001b[0m\u001b[1;33m=\u001b[0m\u001b[1;32mFalse\u001b[0m\u001b[1;33m,\u001b[0m \u001b[0mdtype\u001b[0m\u001b[1;33m=\u001b[0m\u001b[0mdtype\u001b[0m\u001b[1;33m)\u001b[0m\u001b[1;33m\u001b[0m\u001b[1;33m\u001b[0m\u001b[0m\n",
      "\u001b[1;32mC:\\anaconda3\\envs\\ITUmindset\\lib\\site-packages\\sklearn\\utils\\validation.py\u001b[0m in \u001b[0;36mcheck_consistent_length\u001b[1;34m(*arrays)\u001b[0m\n\u001b[0;32m    330\u001b[0m     \u001b[0muniques\u001b[0m \u001b[1;33m=\u001b[0m \u001b[0mnp\u001b[0m\u001b[1;33m.\u001b[0m\u001b[0munique\u001b[0m\u001b[1;33m(\u001b[0m\u001b[0mlengths\u001b[0m\u001b[1;33m)\u001b[0m\u001b[1;33m\u001b[0m\u001b[1;33m\u001b[0m\u001b[0m\n\u001b[0;32m    331\u001b[0m     \u001b[1;32mif\u001b[0m \u001b[0mlen\u001b[0m\u001b[1;33m(\u001b[0m\u001b[0muniques\u001b[0m\u001b[1;33m)\u001b[0m \u001b[1;33m>\u001b[0m \u001b[1;36m1\u001b[0m\u001b[1;33m:\u001b[0m\u001b[1;33m\u001b[0m\u001b[1;33m\u001b[0m\u001b[0m\n\u001b[1;32m--> 332\u001b[1;33m         raise ValueError(\n\u001b[0m\u001b[0;32m    333\u001b[0m             \u001b[1;34m\"Found input variables with inconsistent numbers of samples: %r\"\u001b[0m\u001b[1;33m\u001b[0m\u001b[1;33m\u001b[0m\u001b[0m\n\u001b[0;32m    334\u001b[0m             \u001b[1;33m%\u001b[0m \u001b[1;33m[\u001b[0m\u001b[0mint\u001b[0m\u001b[1;33m(\u001b[0m\u001b[0ml\u001b[0m\u001b[1;33m)\u001b[0m \u001b[1;32mfor\u001b[0m \u001b[0ml\u001b[0m \u001b[1;32min\u001b[0m \u001b[0mlengths\u001b[0m\u001b[1;33m]\u001b[0m\u001b[1;33m\u001b[0m\u001b[1;33m\u001b[0m\u001b[0m\n",
      "\u001b[1;31mValueError\u001b[0m: Found input variables with inconsistent numbers of samples: [200, 40]"
     ]
    }
   ],
   "source": [
    "print( 'MAE : ' , metrics.mean_absolute_error(y, predictions) )\n",
    "print( 'MSE : ' , metrics.mean_squared_error(y, predictions) )\n",
    "print( 'RMSE : ' , np.sqrt(metrics.mean_squared_error(y, predictions)) )"
   ]
  },
  {
   "cell_type": "markdown",
   "metadata": {},
   "source": [
    "+ Yukarıda bir **ValueError** aldık. Çünkü '**y**' ile '**predictions**''u karşılaştırmaya çalıştık ama bu **yanlış**... Çünkü '**y**' ve '**predictions**' veri grupları birbirleriyle aynı sayıda elemana sahip DEĞİL...\n",
    "<br> Aynı zamanda modelimizin, **hiç görmediği** veri setleri üzerinde bir karşılaştırma yapmak istiyoruz **:**\n",
    "<br> Yani **TEST** setindeki **GERÇEK DEĞERLER (y_test)** ile, **TEST** setindeki yapmış olduğum **TAHMİNLER ( lm.predict(X_test) )** arasında bir karşılaştırma yapmak istiyoruz **:**"
   ]
  },
  {
   "cell_type": "code",
   "execution_count": 16,
   "metadata": {},
   "outputs": [
    {
     "name": "stdout",
     "output_type": "stream",
     "text": [
      "MAE :  1.3409774291262115\n",
      "MSE :  4.535785391880799\n",
      "RMSE :  2.1297383388296316\n"
     ]
    }
   ],
   "source": [
    "print( 'MAE : ' , metrics.mean_absolute_error(y_test, predictions) )\n",
    "print( 'MSE : ' , metrics.mean_squared_error(y_test, predictions) )\n",
    "print( 'RMSE : ' , np.sqrt(metrics.mean_squared_error(y_test, predictions)) )"
   ]
  },
  {
   "cell_type": "markdown",
   "metadata": {},
   "source": [
    "**+--- NOTE ---> MSE** bize teorik olarak **;** **ortalamada**, bir tahminde ne kadarlık hata yaptığımızın **karesini** söyler. Ancak bu tek başına doğrudan bir işe yaramaz... Bu başka şeyleri karşılaştırmak istediğimiz zaman bir şey ifade eder..."
   ]
  },
  {
   "cell_type": "markdown",
   "metadata": {},
   "source": [
    "**+--- NOTE ---> SCORE** hesabı yaparken **; $R^2$** de bir skor **,** 'MAE' **-** 'MSE' **-** 'RMSE''ler de bir skordur. Ancak **Linear Regression**'da, **Scikit Learn** skor için DEFAULT olarak **$R^2$**'yi kullanır. ( **lm.score( , )** )\n",
    "<br> Farklı modellerde SCORE için DEFAULT olarak başka bir metrik kullanılabilir ama **Lineer Rregresyon**'da bu şekilde tanımlanmıştır...\n",
    "+ Ama tabii metriklerde (metrics) de **$R^2$**'yi bulabiliriz... ( **metrics.r2_score( , )** ) **:**"
   ]
  },
  {
   "cell_type": "code",
   "execution_count": 17,
   "metadata": {},
   "outputs": [
    {
     "data": {
      "text/plain": [
       "0.8266375240641092"
      ]
     },
     "execution_count": 17,
     "metadata": {},
     "output_type": "execute_result"
    }
   ],
   "source": [
    "lm.score(X_test , y_test)"
   ]
  },
  {
   "cell_type": "code",
   "execution_count": 19,
   "metadata": {},
   "outputs": [
    {
     "name": "stdout",
     "output_type": "stream",
     "text": [
      "R^2 :  0.8266375240641092\n"
     ]
    }
   ],
   "source": [
    "print( 'R^2 : ' , metrics.r2_score(y_test , predictions) )"
   ]
  },
  {
   "cell_type": "markdown",
   "metadata": {},
   "source": [
    "**+--- NOTE ---> R Square ($R^2$)** bize **varyans**'ın ne kadarını açıkladığını söyler. **'1''e ne kadar yakın ise o kadar iyi olmuş oluyor**... Ama bu da bize tek başına çok fazla bir şey ifade etmez. Başka modeller ile karşılaştırdığımızda, daha çok şey ifade eder..."
   ]
  },
  {
   "cell_type": "markdown",
   "metadata": {},
   "source": [
    "**++++ CRITICAL NOTE ++++**\n",
    "<br> Bu yukarıdaki metrik sonuçları **tek bir model için** pek bir şey ifade etmiyor... Ancak **farklı farklı modeller** kurmaya başladığımız zaman, hangisinin daha iyi bir performans gösterdiğine dair bir karşılaştırma yapabiliyoruz..."
   ]
  },
  {
   "cell_type": "markdown",
   "metadata": {},
   "source": [
    "---\n",
    "---\n",
    "\n",
    "--------->\n",
    "#### **Linear Regression**\n",
    "+ **Yani, DOĞRUSUNU yaptığımız süreçte SIRASI ile ;**\n",
    "+ + **pd.read_...( \" \" , )** fonksiyonu ile Veri Setimizi **çağırıyoruz ,**\n",
    "+ + Veri Setimizi **düzenliyoruz**. Eksik ve gereksiz verileri, kolonları, satırları, ... bulup üzerlerinde düzeltmeler yapıyoruz **,**\n",
    "+ + **Numpy, Pandas, Matplotlib ve Seaborn** kütüphaneleri ile veri setimizi **gözlemleyip, yorumlar yapıyoruz ,**\n",
    "+ + Veri Setimizin **kolonları arasındaki 'Korelasyonlara'** bakıyoruz **:** ( **df.corr()** ) **,**\n",
    "+ + **'X'**'leri ve **'y'**'leri (yani FEATURE ve TARGET kolonlarını) birbirlerinden **ayırıyoruz ,**\n",
    "+ + Veri Setini **;** ( **X_train , X_test , y_train , y_test** ) olarak **parçalamak** için **:**\n",
    "+ + + Öncelikle **modülünü çağırmamız** gerekiyor **:** ( **from sklearn.model_selection import train_test_split** ) **,**\n",
    "+ + + Sonra da **TRAIN - TEST** diye **parçalamak** için **:** ( **X_train , X_test , y_train , y_test = train_test_split(X , y , test_size=... , random_state=... )** ) **.**\n",
    "+ + Modeli **kuruyoruz (instance yaratıyoruz) :** ( **lm = LinearRegression()** ) **,**\n",
    "+ + Modeli **FIT** ediyoruz. Yani **TRAIN** kolonlarını **Eğitiyoruz :** ( **lm.fit(X_train , y_train)** ) **,**\n",
    "+ + Modelimizin **performansına** bakıyoruz. Yani Eğittiğimiz Modelin, **TEST** kolonları üzerindeki performansına bakıyoruz **: $R^2$ =** ( **lm.score(X_test , y_test)** ) **,**\n",
    "+ + **Tahminleme** yapıyoruz. Yani **Eğitim sonrasında** ortaya çıkan **Coefficient (Katsayı)**'ları da kullanarak **TEST** Veri Seti üzerinde **Tahminleme** yapıyoruz **:** ( predictions **= lm.predict(X_test)** ) **,**\n",
    "+ + **X_test** verileri üzerinde yaptığımız TAHMİNİN (**predictions**) sonuçları ile GERÇEK test verisi **(y_test)** sonuçlarını, gözlemlemek için **karşılaştırıyoruz (Comparison) :** ( comp **= pd.DataFrame( {'Actual' : y_test , 'Predicted' : predictions} )** ) **,**\n",
    "+ + Modelimizin **Normal Dağılım** şeklinde olup olmadığını görmek ve yorumlamak için **; Gerçek** değerler ile **Tahminlerin** arasındaki FARKLARIN (**error**'ların) **Histogramını** çizdiriyoruz **:** ( **sns.histplot( (y_test - predictions) , bins=... )** ) **,**\n",
    "+ + Farklı **metrikleri, hataları** hesaplıyoruz **:**\n",
    "+ + + print( 'MAE :' , **metrics.mean_absolute_error( y_test , lm.predict(X_test) )** )\n",
    "<br> print( 'MSE :' , **metrics.mean_squared_error( y_test , lm.predict(X_test) )** )\n",
    "<br> print( 'RMSE :' , **np.sqrt( metrics.mean_squared_error( y_test , lm.predict(X_test) )** )\n",
    "<br> print( 'R^2 :' , **metrics.r2_score( y_test , lm.predict(X_test)** )\n",
    "<br> **. . .**\n",
    "\n",
    "<---------\n",
    "\n",
    "---\n",
    "---"
   ]
  },
  {
   "cell_type": "markdown",
   "metadata": {},
   "source": [
    "**++++ CRITICAL NOTE ++++**\n",
    "<br> **Linear Regression**'un kendi içerisinde bir **rassallık olmadığı için**, AYNI veri seti içerisinde farklı verileri seçsek de yine aynı sonuçları verecektir... Yani her tekrar çalıştırmamızda (FIT ettiğimizde) yine aynı sonuçları alırız... ANCAK veri setini ayırırken **( random_state= )** değerini değiştirirsek bu defa farklı sonuçlar alabiliriz...\n",
    "<br> **( random_state= )** değerini HEP AYNI seçmemizin sebebi de, FARKLI MODELLER seçtiğimizde de hep aynı veri kümeleri üzerinde çalışıp en iyi sonucu aralarından seçebilmektir!\n",
    "<br> Tabii ki ileride **( random_state= )** değerlerini değiştirerek de çalışmalar yapacağız..."
   ]
  },
  {
   "cell_type": "markdown",
   "metadata": {},
   "source": [
    "---\n",
    "---\n",
    "---\n",
    "---"
   ]
  },
  {
   "cell_type": "markdown",
   "metadata": {
    "tags": []
   },
   "source": [
    "## Credit Card Data **:**"
   ]
  },
  {
   "cell_type": "code",
   "execution_count": 1,
   "metadata": {},
   "outputs": [],
   "source": [
    "%matplotlib inline\n",
    "\n",
    "import numpy as np\n",
    "import pandas as pd\n",
    "import matplotlib.pyplot as plt\n",
    "import seaborn as sns"
   ]
  },
  {
   "cell_type": "code",
   "execution_count": 2,
   "metadata": {},
   "outputs": [],
   "source": [
    "from sklearn.linear_model import LinearRegression\n",
    "\n",
    "from sklearn.model_selection import train_test_split\n",
    "\n",
    "from sklearn import metrics"
   ]
  },
  {
   "cell_type": "code",
   "execution_count": 3,
   "metadata": {},
   "outputs": [
    {
     "name": "stdout",
     "output_type": "stream",
     "text": [
      "<class 'pandas.core.frame.DataFrame'>\n",
      "Int64Index: 400 entries, 1 to 400\n",
      "Data columns (total 11 columns):\n",
      " #   Column     Non-Null Count  Dtype  \n",
      "---  ------     --------------  -----  \n",
      " 0   Income     400 non-null    float64\n",
      " 1   Limit      400 non-null    int64  \n",
      " 2   Rating     400 non-null    int64  \n",
      " 3   Cards      400 non-null    int64  \n",
      " 4   Age        400 non-null    int64  \n",
      " 5   Education  400 non-null    int64  \n",
      " 6   Gender     400 non-null    object \n",
      " 7   Student    400 non-null    object \n",
      " 8   Married    400 non-null    object \n",
      " 9   Ethnicity  400 non-null    object \n",
      " 10  Balance    400 non-null    int64  \n",
      "dtypes: float64(1), int64(6), object(4)\n",
      "memory usage: 37.5+ KB\n"
     ]
    }
   ],
   "source": [
    "df = pd.read_csv('Credit_Data.csv', index_col=0)\n",
    "df.info()"
   ]
  },
  {
   "cell_type": "code",
   "execution_count": 26,
   "metadata": {},
   "outputs": [
    {
     "data": {
      "text/html": [
       "<div>\n",
       "<style scoped>\n",
       "    .dataframe tbody tr th:only-of-type {\n",
       "        vertical-align: middle;\n",
       "    }\n",
       "\n",
       "    .dataframe tbody tr th {\n",
       "        vertical-align: top;\n",
       "    }\n",
       "\n",
       "    .dataframe thead th {\n",
       "        text-align: right;\n",
       "    }\n",
       "</style>\n",
       "<table border=\"1\" class=\"dataframe\">\n",
       "  <thead>\n",
       "    <tr style=\"text-align: right;\">\n",
       "      <th></th>\n",
       "      <th>Income</th>\n",
       "      <th>Limit</th>\n",
       "      <th>Rating</th>\n",
       "      <th>Cards</th>\n",
       "      <th>Age</th>\n",
       "      <th>Education</th>\n",
       "      <th>Gender</th>\n",
       "      <th>Student</th>\n",
       "      <th>Married</th>\n",
       "      <th>Ethnicity</th>\n",
       "      <th>Balance</th>\n",
       "    </tr>\n",
       "    <tr>\n",
       "      <th>ID</th>\n",
       "      <th></th>\n",
       "      <th></th>\n",
       "      <th></th>\n",
       "      <th></th>\n",
       "      <th></th>\n",
       "      <th></th>\n",
       "      <th></th>\n",
       "      <th></th>\n",
       "      <th></th>\n",
       "      <th></th>\n",
       "      <th></th>\n",
       "    </tr>\n",
       "  </thead>\n",
       "  <tbody>\n",
       "    <tr>\n",
       "      <th>396</th>\n",
       "      <td>12.096</td>\n",
       "      <td>4100</td>\n",
       "      <td>307</td>\n",
       "      <td>3</td>\n",
       "      <td>32</td>\n",
       "      <td>13</td>\n",
       "      <td>Male</td>\n",
       "      <td>No</td>\n",
       "      <td>Yes</td>\n",
       "      <td>Caucasian</td>\n",
       "      <td>560</td>\n",
       "    </tr>\n",
       "    <tr>\n",
       "      <th>397</th>\n",
       "      <td>13.364</td>\n",
       "      <td>3838</td>\n",
       "      <td>296</td>\n",
       "      <td>5</td>\n",
       "      <td>65</td>\n",
       "      <td>17</td>\n",
       "      <td>Male</td>\n",
       "      <td>No</td>\n",
       "      <td>No</td>\n",
       "      <td>African American</td>\n",
       "      <td>480</td>\n",
       "    </tr>\n",
       "    <tr>\n",
       "      <th>398</th>\n",
       "      <td>57.872</td>\n",
       "      <td>4171</td>\n",
       "      <td>321</td>\n",
       "      <td>5</td>\n",
       "      <td>67</td>\n",
       "      <td>12</td>\n",
       "      <td>Female</td>\n",
       "      <td>No</td>\n",
       "      <td>Yes</td>\n",
       "      <td>Caucasian</td>\n",
       "      <td>138</td>\n",
       "    </tr>\n",
       "    <tr>\n",
       "      <th>399</th>\n",
       "      <td>37.728</td>\n",
       "      <td>2525</td>\n",
       "      <td>192</td>\n",
       "      <td>1</td>\n",
       "      <td>44</td>\n",
       "      <td>13</td>\n",
       "      <td>Male</td>\n",
       "      <td>No</td>\n",
       "      <td>Yes</td>\n",
       "      <td>Caucasian</td>\n",
       "      <td>0</td>\n",
       "    </tr>\n",
       "    <tr>\n",
       "      <th>400</th>\n",
       "      <td>18.701</td>\n",
       "      <td>5524</td>\n",
       "      <td>415</td>\n",
       "      <td>5</td>\n",
       "      <td>64</td>\n",
       "      <td>7</td>\n",
       "      <td>Female</td>\n",
       "      <td>No</td>\n",
       "      <td>No</td>\n",
       "      <td>Asian</td>\n",
       "      <td>966</td>\n",
       "    </tr>\n",
       "  </tbody>\n",
       "</table>\n",
       "</div>"
      ],
      "text/plain": [
       "     Income  Limit  Rating  Cards  Age  Education  Gender Student Married  \\\n",
       "ID                                                                          \n",
       "396  12.096   4100     307      3   32         13    Male      No     Yes   \n",
       "397  13.364   3838     296      5   65         17    Male      No      No   \n",
       "398  57.872   4171     321      5   67         12  Female      No     Yes   \n",
       "399  37.728   2525     192      1   44         13    Male      No     Yes   \n",
       "400  18.701   5524     415      5   64          7  Female      No      No   \n",
       "\n",
       "            Ethnicity  Balance  \n",
       "ID                              \n",
       "396         Caucasian      560  \n",
       "397  African American      480  \n",
       "398         Caucasian      138  \n",
       "399         Caucasian        0  \n",
       "400             Asian      966  "
      ]
     },
     "execution_count": 26,
     "metadata": {},
     "output_type": "execute_result"
    }
   ],
   "source": [
    "df.tail()"
   ]
  },
  {
   "cell_type": "markdown",
   "metadata": {},
   "source": [
    "Yukarıda, 400 müşterimizin kredi kartı harcamaları vardır. **Income, Limit, Balance** kolonlarını **;** **DOLAR($)** cinsinden düşünebiliriz...\n",
    "<br> **'Income'** kolonu, geliri gösterir.\n",
    "<br> **'Limit'** kolonu, kart limitini gösterir.\n",
    "<br> **'Rating'** kolonu, kredi history reytingini gösterir.\n",
    "<br> **'Cards'** kolonu, kaç tane kredi kartı olduğunu gösterir.\n",
    "<br> **'Age'** kolonu, kart sahibinin yaşını gösterir.\n",
    "<br> **'Education'** kolonu, kaç yıl okul okuduğunu gösterir.\n",
    "<br> **'Gander'** kolonu, cinsiyetini gösterir.\n",
    "<br> **'Student'** kolonu, öğrenci olup olmadığını gösterir.\n",
    "<br> **'Married'** kolonu, evli olup olmadığını gösterir.\n",
    "<br> **'Ethnicity'** kolonu, etnik kökenini gösterir.\n",
    "<br> **'Balance'** kolonu da, ne kadar harcaması olduğunu gösterir."
   ]
  },
  {
   "cell_type": "markdown",
   "metadata": {},
   "source": [
    "Biz bu **Feature** kolonlarını kullanarak **'Balance' (Target)** kolonunu tahmin etmek istiyoruz... Gördüğümüz gibi bu bir REGRESSION problemidir ve bir LINEAR REGRESSION modeli kuracağız...\n",
    "+ Linear Regression modeli kurarken KATEGORIK (object) olan kolonları **kullanamayız**... Bunları NUMERIK hale çevirmemiz gerekiyor. Bunun için de **``.get_dummies( )``** fonksiyonunu kullanacağız **:**\n",
    "<br> **+--- NOTE --->** NUMERIK hale çevirmek için farklı yöntemler var. Biz sadece bir tanesini kullanacağız."
   ]
  },
  {
   "cell_type": "code",
   "execution_count": 4,
   "metadata": {},
   "outputs": [],
   "source": [
    "dummies = pd.get_dummies(df[['Gender' , 'Student' , 'Married' , 'Ethnicity']])"
   ]
  },
  {
   "cell_type": "code",
   "execution_count": 5,
   "metadata": {},
   "outputs": [
    {
     "data": {
      "text/html": [
       "<div>\n",
       "<style scoped>\n",
       "    .dataframe tbody tr th:only-of-type {\n",
       "        vertical-align: middle;\n",
       "    }\n",
       "\n",
       "    .dataframe tbody tr th {\n",
       "        vertical-align: top;\n",
       "    }\n",
       "\n",
       "    .dataframe thead th {\n",
       "        text-align: right;\n",
       "    }\n",
       "</style>\n",
       "<table border=\"1\" class=\"dataframe\">\n",
       "  <thead>\n",
       "    <tr style=\"text-align: right;\">\n",
       "      <th></th>\n",
       "      <th>Gender_Female</th>\n",
       "      <th>Gender_Male</th>\n",
       "      <th>Student_No</th>\n",
       "      <th>Student_Yes</th>\n",
       "      <th>Married_No</th>\n",
       "      <th>Married_Yes</th>\n",
       "      <th>Ethnicity_African American</th>\n",
       "      <th>Ethnicity_Asian</th>\n",
       "      <th>Ethnicity_Caucasian</th>\n",
       "    </tr>\n",
       "    <tr>\n",
       "      <th>ID</th>\n",
       "      <th></th>\n",
       "      <th></th>\n",
       "      <th></th>\n",
       "      <th></th>\n",
       "      <th></th>\n",
       "      <th></th>\n",
       "      <th></th>\n",
       "      <th></th>\n",
       "      <th></th>\n",
       "    </tr>\n",
       "  </thead>\n",
       "  <tbody>\n",
       "    <tr>\n",
       "      <th>1</th>\n",
       "      <td>0</td>\n",
       "      <td>1</td>\n",
       "      <td>1</td>\n",
       "      <td>0</td>\n",
       "      <td>0</td>\n",
       "      <td>1</td>\n",
       "      <td>0</td>\n",
       "      <td>0</td>\n",
       "      <td>1</td>\n",
       "    </tr>\n",
       "    <tr>\n",
       "      <th>2</th>\n",
       "      <td>1</td>\n",
       "      <td>0</td>\n",
       "      <td>0</td>\n",
       "      <td>1</td>\n",
       "      <td>0</td>\n",
       "      <td>1</td>\n",
       "      <td>0</td>\n",
       "      <td>1</td>\n",
       "      <td>0</td>\n",
       "    </tr>\n",
       "    <tr>\n",
       "      <th>3</th>\n",
       "      <td>0</td>\n",
       "      <td>1</td>\n",
       "      <td>1</td>\n",
       "      <td>0</td>\n",
       "      <td>1</td>\n",
       "      <td>0</td>\n",
       "      <td>0</td>\n",
       "      <td>1</td>\n",
       "      <td>0</td>\n",
       "    </tr>\n",
       "    <tr>\n",
       "      <th>4</th>\n",
       "      <td>1</td>\n",
       "      <td>0</td>\n",
       "      <td>1</td>\n",
       "      <td>0</td>\n",
       "      <td>1</td>\n",
       "      <td>0</td>\n",
       "      <td>0</td>\n",
       "      <td>1</td>\n",
       "      <td>0</td>\n",
       "    </tr>\n",
       "    <tr>\n",
       "      <th>5</th>\n",
       "      <td>0</td>\n",
       "      <td>1</td>\n",
       "      <td>1</td>\n",
       "      <td>0</td>\n",
       "      <td>0</td>\n",
       "      <td>1</td>\n",
       "      <td>0</td>\n",
       "      <td>0</td>\n",
       "      <td>1</td>\n",
       "    </tr>\n",
       "    <tr>\n",
       "      <th>...</th>\n",
       "      <td>...</td>\n",
       "      <td>...</td>\n",
       "      <td>...</td>\n",
       "      <td>...</td>\n",
       "      <td>...</td>\n",
       "      <td>...</td>\n",
       "      <td>...</td>\n",
       "      <td>...</td>\n",
       "      <td>...</td>\n",
       "    </tr>\n",
       "    <tr>\n",
       "      <th>396</th>\n",
       "      <td>0</td>\n",
       "      <td>1</td>\n",
       "      <td>1</td>\n",
       "      <td>0</td>\n",
       "      <td>0</td>\n",
       "      <td>1</td>\n",
       "      <td>0</td>\n",
       "      <td>0</td>\n",
       "      <td>1</td>\n",
       "    </tr>\n",
       "    <tr>\n",
       "      <th>397</th>\n",
       "      <td>0</td>\n",
       "      <td>1</td>\n",
       "      <td>1</td>\n",
       "      <td>0</td>\n",
       "      <td>1</td>\n",
       "      <td>0</td>\n",
       "      <td>1</td>\n",
       "      <td>0</td>\n",
       "      <td>0</td>\n",
       "    </tr>\n",
       "    <tr>\n",
       "      <th>398</th>\n",
       "      <td>1</td>\n",
       "      <td>0</td>\n",
       "      <td>1</td>\n",
       "      <td>0</td>\n",
       "      <td>0</td>\n",
       "      <td>1</td>\n",
       "      <td>0</td>\n",
       "      <td>0</td>\n",
       "      <td>1</td>\n",
       "    </tr>\n",
       "    <tr>\n",
       "      <th>399</th>\n",
       "      <td>0</td>\n",
       "      <td>1</td>\n",
       "      <td>1</td>\n",
       "      <td>0</td>\n",
       "      <td>0</td>\n",
       "      <td>1</td>\n",
       "      <td>0</td>\n",
       "      <td>0</td>\n",
       "      <td>1</td>\n",
       "    </tr>\n",
       "    <tr>\n",
       "      <th>400</th>\n",
       "      <td>1</td>\n",
       "      <td>0</td>\n",
       "      <td>1</td>\n",
       "      <td>0</td>\n",
       "      <td>1</td>\n",
       "      <td>0</td>\n",
       "      <td>0</td>\n",
       "      <td>1</td>\n",
       "      <td>0</td>\n",
       "    </tr>\n",
       "  </tbody>\n",
       "</table>\n",
       "<p>400 rows × 9 columns</p>\n",
       "</div>"
      ],
      "text/plain": [
       "     Gender_Female  Gender_Male  Student_No  Student_Yes  Married_No  \\\n",
       "ID                                                                     \n",
       "1                0            1           1            0           0   \n",
       "2                1            0           0            1           0   \n",
       "3                0            1           1            0           1   \n",
       "4                1            0           1            0           1   \n",
       "5                0            1           1            0           0   \n",
       "..             ...          ...         ...          ...         ...   \n",
       "396              0            1           1            0           0   \n",
       "397              0            1           1            0           1   \n",
       "398              1            0           1            0           0   \n",
       "399              0            1           1            0           0   \n",
       "400              1            0           1            0           1   \n",
       "\n",
       "     Married_Yes  Ethnicity_African American  Ethnicity_Asian  \\\n",
       "ID                                                              \n",
       "1              1                           0                0   \n",
       "2              1                           0                1   \n",
       "3              0                           0                1   \n",
       "4              0                           0                1   \n",
       "5              1                           0                0   \n",
       "..           ...                         ...              ...   \n",
       "396            1                           0                0   \n",
       "397            0                           1                0   \n",
       "398            1                           0                0   \n",
       "399            1                           0                0   \n",
       "400            0                           0                1   \n",
       "\n",
       "     Ethnicity_Caucasian  \n",
       "ID                        \n",
       "1                      1  \n",
       "2                      0  \n",
       "3                      0  \n",
       "4                      0  \n",
       "5                      1  \n",
       "..                   ...  \n",
       "396                    1  \n",
       "397                    0  \n",
       "398                    1  \n",
       "399                    1  \n",
       "400                    0  \n",
       "\n",
       "[400 rows x 9 columns]"
      ]
     },
     "execution_count": 5,
     "metadata": {},
     "output_type": "execute_result"
    }
   ],
   "source": [
    "dummies"
   ]
  },
  {
   "cell_type": "markdown",
   "metadata": {},
   "source": [
    "Yukarıda gördüğümüz gibi, her bir KATEGORİ için birer **dummy değişkeni (kolonu)** üretti... Artık ileride modelimize bunu ekleyebiliriz..."
   ]
  },
  {
   "cell_type": "code",
   "execution_count": 6,
   "metadata": {},
   "outputs": [
    {
     "name": "stdout",
     "output_type": "stream",
     "text": [
      "<class 'pandas.core.frame.DataFrame'>\n",
      "Int64Index: 400 entries, 1 to 400\n",
      "Data columns (total 9 columns):\n",
      " #   Column                      Non-Null Count  Dtype\n",
      "---  ------                      --------------  -----\n",
      " 0   Gender_Female               400 non-null    uint8\n",
      " 1   Gender_Male                 400 non-null    uint8\n",
      " 2   Student_No                  400 non-null    uint8\n",
      " 3   Student_Yes                 400 non-null    uint8\n",
      " 4   Married_No                  400 non-null    uint8\n",
      " 5   Married_Yes                 400 non-null    uint8\n",
      " 6   Ethnicity_African American  400 non-null    uint8\n",
      " 7   Ethnicity_Asian             400 non-null    uint8\n",
      " 8   Ethnicity_Caucasian         400 non-null    uint8\n",
      "dtypes: uint8(9)\n",
      "memory usage: 6.6 KB\n"
     ]
    }
   ],
   "source": [
    "dummies.info()"
   ]
  },
  {
   "cell_type": "markdown",
   "metadata": {},
   "source": [
    "+ **TARGET (hedef) ('y')** kolonunu tanımlayın **:**"
   ]
  },
  {
   "cell_type": "code",
   "execution_count": 30,
   "metadata": {},
   "outputs": [],
   "source": [
    "y = df.Balance"
   ]
  },
  {
   "cell_type": "markdown",
   "metadata": {},
   "source": [
    "+ DROP the column with the independent variable (Balance), and columns for which we created dummy variables **:**\n",
    "+ **Bağımsız değişkeni ('Balance'**) içeren sütunu ve **dummy değişkenler** oluşturduğumuz sütunları ATALIM **:**\n",
    "<br> Ve geriye kalan tüm sütunları da **'float64'** tipine çevirelim **:**"
   ]
  },
  {
   "cell_type": "code",
   "execution_count": 33,
   "metadata": {},
   "outputs": [
    {
     "name": "stdout",
     "output_type": "stream",
     "text": [
      "<class 'pandas.core.frame.DataFrame'>\n",
      "Int64Index: 400 entries, 1 to 400\n",
      "Data columns (total 6 columns):\n",
      " #   Column     Non-Null Count  Dtype  \n",
      "---  ------     --------------  -----  \n",
      " 0   Income     400 non-null    float64\n",
      " 1   Limit      400 non-null    float64\n",
      " 2   Rating     400 non-null    float64\n",
      " 3   Cards      400 non-null    float64\n",
      " 4   Age        400 non-null    float64\n",
      " 5   Education  400 non-null    float64\n",
      "dtypes: float64(6)\n",
      "memory usage: 21.9 KB\n"
     ]
    }
   ],
   "source": [
    "X__ = df.drop(['Gender', 'Student', 'Married', 'Ethnicity', 'Balance'], axis = 1).astype('float64')\n",
    "X__.info()"
   ]
  },
  {
   "cell_type": "code",
   "execution_count": 34,
   "metadata": {},
   "outputs": [
    {
     "data": {
      "text/html": [
       "<div>\n",
       "<style scoped>\n",
       "    .dataframe tbody tr th:only-of-type {\n",
       "        vertical-align: middle;\n",
       "    }\n",
       "\n",
       "    .dataframe tbody tr th {\n",
       "        vertical-align: top;\n",
       "    }\n",
       "\n",
       "    .dataframe thead th {\n",
       "        text-align: right;\n",
       "    }\n",
       "</style>\n",
       "<table border=\"1\" class=\"dataframe\">\n",
       "  <thead>\n",
       "    <tr style=\"text-align: right;\">\n",
       "      <th></th>\n",
       "      <th>Income</th>\n",
       "      <th>Limit</th>\n",
       "      <th>Rating</th>\n",
       "      <th>Cards</th>\n",
       "      <th>Age</th>\n",
       "      <th>Education</th>\n",
       "    </tr>\n",
       "    <tr>\n",
       "      <th>ID</th>\n",
       "      <th></th>\n",
       "      <th></th>\n",
       "      <th></th>\n",
       "      <th></th>\n",
       "      <th></th>\n",
       "      <th></th>\n",
       "    </tr>\n",
       "  </thead>\n",
       "  <tbody>\n",
       "    <tr>\n",
       "      <th>1</th>\n",
       "      <td>14.891</td>\n",
       "      <td>3606.0</td>\n",
       "      <td>283.0</td>\n",
       "      <td>2.0</td>\n",
       "      <td>34.0</td>\n",
       "      <td>11.0</td>\n",
       "    </tr>\n",
       "  </tbody>\n",
       "</table>\n",
       "</div>"
      ],
      "text/plain": [
       "    Income   Limit  Rating  Cards   Age  Education\n",
       "ID                                                \n",
       "1   14.891  3606.0   283.0    2.0  34.0       11.0"
      ]
     },
     "execution_count": 34,
     "metadata": {},
     "output_type": "execute_result"
    }
   ],
   "source": [
    "X__.head(1)"
   ]
  },
  {
   "cell_type": "markdown",
   "metadata": {},
   "source": [
    "+ Define the **Feature** set **:**\n",
    "+ **Feature (Özellik) ('X')** kümesini tanımlayın **:**"
   ]
  },
  {
   "cell_type": "code",
   "execution_count": 37,
   "metadata": {},
   "outputs": [],
   "source": [
    "X = pd.concat([X__ , dummies[['Gender_Male', 'Student_Yes', 'Married_Yes',\n",
    "                            'Ethnicity_African American', 'Ethnicity_Asian']]], axis = 1)"
   ]
  },
  {
   "cell_type": "markdown",
   "metadata": {},
   "source": [
    "**++++ NOTE ++++**\n",
    "+ Yukarıda fark ettiysek, **numerik hale getirmek için dummy değişkenler oluşturduğumuz kolonlardan** SADECE, **'Gender_Male' , 'Student_Yes' , 'Married_Yes' , 'Ethnicity_African American' , 'Ethnicity_Asian'** kolonlarını aldık...\n",
    "<br> Diğer dummy değişkenler oluşturduğumuz kolonları, **almamamızın sebebi ;** ekstra bir bilgiye ihtiyacımızın olmamasıdır... Yani zaten **Student_Yes '1'** ise otomatik olarak **Student_No** olanlar da **'0'**'dır... Öğrenci olup olmadığı ile ilgili tüm bilgi tek kolonda mevcuttur...\n",
    "+ (**'Ethnicity_African American' , 'Ethnicity_Asian' , 'Ethnicity_Caucasian'**) gibi **3** tane kategori olursa da **2** tanesini almamız yetecektir... Çünkü mesela bir kişinin her iki etnisite kolonu da **'0'** olursa zaten otomatik olarak eklemediğimiz diğer etnisite kolonuna aittir... Bir insan sadece tek bir etnisite'ye aittir.\n",
    "+ Fark ettiysek her defasında bir eksiğini aldık. Yani mesela **5** tane etnisite olsaydı **4** tanesini alacaktık. Mesela sadece Kadın - Erkek olarak değil de diğer cinsiyetler de olsaydı o zaman da bir eksik şekilde alacaktık...\n",
    "+ **Ekstra gereksiz bilgileri kullanırsak modelimizde problemler de olabilir...**"
   ]
  },
  {
   "cell_type": "code",
   "execution_count": 38,
   "metadata": {},
   "outputs": [
    {
     "name": "stdout",
     "output_type": "stream",
     "text": [
      "<class 'pandas.core.frame.DataFrame'>\n",
      "Int64Index: 400 entries, 1 to 400\n",
      "Data columns (total 11 columns):\n",
      " #   Column                      Non-Null Count  Dtype  \n",
      "---  ------                      --------------  -----  \n",
      " 0   Income                      400 non-null    float64\n",
      " 1   Limit                       400 non-null    float64\n",
      " 2   Rating                      400 non-null    float64\n",
      " 3   Cards                       400 non-null    float64\n",
      " 4   Age                         400 non-null    float64\n",
      " 5   Education                   400 non-null    float64\n",
      " 6   Gender_Male                 400 non-null    uint8  \n",
      " 7   Student_Yes                 400 non-null    uint8  \n",
      " 8   Married_Yes                 400 non-null    uint8  \n",
      " 9   Ethnicity_African American  400 non-null    uint8  \n",
      " 10  Ethnicity_Asian             400 non-null    uint8  \n",
      "dtypes: float64(6), uint8(5)\n",
      "memory usage: 23.8 KB\n"
     ]
    }
   ],
   "source": [
    "X.info()"
   ]
  },
  {
   "cell_type": "code",
   "execution_count": 57,
   "metadata": {},
   "outputs": [
    {
     "data": {
      "text/html": [
       "<div>\n",
       "<style scoped>\n",
       "    .dataframe tbody tr th:only-of-type {\n",
       "        vertical-align: middle;\n",
       "    }\n",
       "\n",
       "    .dataframe tbody tr th {\n",
       "        vertical-align: top;\n",
       "    }\n",
       "\n",
       "    .dataframe thead th {\n",
       "        text-align: right;\n",
       "    }\n",
       "</style>\n",
       "<table border=\"1\" class=\"dataframe\">\n",
       "  <thead>\n",
       "    <tr style=\"text-align: right;\">\n",
       "      <th></th>\n",
       "      <th>Income</th>\n",
       "      <th>Limit</th>\n",
       "      <th>Rating</th>\n",
       "      <th>Cards</th>\n",
       "      <th>Age</th>\n",
       "      <th>Education</th>\n",
       "      <th>Gender_Male</th>\n",
       "      <th>Student_Yes</th>\n",
       "      <th>Married_Yes</th>\n",
       "      <th>Ethnicity_African American</th>\n",
       "      <th>Ethnicity_Asian</th>\n",
       "    </tr>\n",
       "    <tr>\n",
       "      <th>ID</th>\n",
       "      <th></th>\n",
       "      <th></th>\n",
       "      <th></th>\n",
       "      <th></th>\n",
       "      <th></th>\n",
       "      <th></th>\n",
       "      <th></th>\n",
       "      <th></th>\n",
       "      <th></th>\n",
       "      <th></th>\n",
       "      <th></th>\n",
       "    </tr>\n",
       "  </thead>\n",
       "  <tbody>\n",
       "    <tr>\n",
       "      <th>1</th>\n",
       "      <td>14.891</td>\n",
       "      <td>3606.0</td>\n",
       "      <td>283.0</td>\n",
       "      <td>2.0</td>\n",
       "      <td>34.0</td>\n",
       "      <td>11.0</td>\n",
       "      <td>1</td>\n",
       "      <td>0</td>\n",
       "      <td>1</td>\n",
       "      <td>0</td>\n",
       "      <td>0</td>\n",
       "    </tr>\n",
       "    <tr>\n",
       "      <th>2</th>\n",
       "      <td>106.025</td>\n",
       "      <td>6645.0</td>\n",
       "      <td>483.0</td>\n",
       "      <td>3.0</td>\n",
       "      <td>82.0</td>\n",
       "      <td>15.0</td>\n",
       "      <td>0</td>\n",
       "      <td>1</td>\n",
       "      <td>1</td>\n",
       "      <td>0</td>\n",
       "      <td>1</td>\n",
       "    </tr>\n",
       "    <tr>\n",
       "      <th>3</th>\n",
       "      <td>104.593</td>\n",
       "      <td>7075.0</td>\n",
       "      <td>514.0</td>\n",
       "      <td>4.0</td>\n",
       "      <td>71.0</td>\n",
       "      <td>11.0</td>\n",
       "      <td>1</td>\n",
       "      <td>0</td>\n",
       "      <td>0</td>\n",
       "      <td>0</td>\n",
       "      <td>1</td>\n",
       "    </tr>\n",
       "    <tr>\n",
       "      <th>4</th>\n",
       "      <td>148.924</td>\n",
       "      <td>9504.0</td>\n",
       "      <td>681.0</td>\n",
       "      <td>3.0</td>\n",
       "      <td>36.0</td>\n",
       "      <td>11.0</td>\n",
       "      <td>0</td>\n",
       "      <td>0</td>\n",
       "      <td>0</td>\n",
       "      <td>0</td>\n",
       "      <td>1</td>\n",
       "    </tr>\n",
       "    <tr>\n",
       "      <th>5</th>\n",
       "      <td>55.882</td>\n",
       "      <td>4897.0</td>\n",
       "      <td>357.0</td>\n",
       "      <td>2.0</td>\n",
       "      <td>68.0</td>\n",
       "      <td>16.0</td>\n",
       "      <td>1</td>\n",
       "      <td>0</td>\n",
       "      <td>1</td>\n",
       "      <td>0</td>\n",
       "      <td>0</td>\n",
       "    </tr>\n",
       "    <tr>\n",
       "      <th>...</th>\n",
       "      <td>...</td>\n",
       "      <td>...</td>\n",
       "      <td>...</td>\n",
       "      <td>...</td>\n",
       "      <td>...</td>\n",
       "      <td>...</td>\n",
       "      <td>...</td>\n",
       "      <td>...</td>\n",
       "      <td>...</td>\n",
       "      <td>...</td>\n",
       "      <td>...</td>\n",
       "    </tr>\n",
       "    <tr>\n",
       "      <th>396</th>\n",
       "      <td>12.096</td>\n",
       "      <td>4100.0</td>\n",
       "      <td>307.0</td>\n",
       "      <td>3.0</td>\n",
       "      <td>32.0</td>\n",
       "      <td>13.0</td>\n",
       "      <td>1</td>\n",
       "      <td>0</td>\n",
       "      <td>1</td>\n",
       "      <td>0</td>\n",
       "      <td>0</td>\n",
       "    </tr>\n",
       "    <tr>\n",
       "      <th>397</th>\n",
       "      <td>13.364</td>\n",
       "      <td>3838.0</td>\n",
       "      <td>296.0</td>\n",
       "      <td>5.0</td>\n",
       "      <td>65.0</td>\n",
       "      <td>17.0</td>\n",
       "      <td>1</td>\n",
       "      <td>0</td>\n",
       "      <td>0</td>\n",
       "      <td>1</td>\n",
       "      <td>0</td>\n",
       "    </tr>\n",
       "    <tr>\n",
       "      <th>398</th>\n",
       "      <td>57.872</td>\n",
       "      <td>4171.0</td>\n",
       "      <td>321.0</td>\n",
       "      <td>5.0</td>\n",
       "      <td>67.0</td>\n",
       "      <td>12.0</td>\n",
       "      <td>0</td>\n",
       "      <td>0</td>\n",
       "      <td>1</td>\n",
       "      <td>0</td>\n",
       "      <td>0</td>\n",
       "    </tr>\n",
       "    <tr>\n",
       "      <th>399</th>\n",
       "      <td>37.728</td>\n",
       "      <td>2525.0</td>\n",
       "      <td>192.0</td>\n",
       "      <td>1.0</td>\n",
       "      <td>44.0</td>\n",
       "      <td>13.0</td>\n",
       "      <td>1</td>\n",
       "      <td>0</td>\n",
       "      <td>1</td>\n",
       "      <td>0</td>\n",
       "      <td>0</td>\n",
       "    </tr>\n",
       "    <tr>\n",
       "      <th>400</th>\n",
       "      <td>18.701</td>\n",
       "      <td>5524.0</td>\n",
       "      <td>415.0</td>\n",
       "      <td>5.0</td>\n",
       "      <td>64.0</td>\n",
       "      <td>7.0</td>\n",
       "      <td>0</td>\n",
       "      <td>0</td>\n",
       "      <td>0</td>\n",
       "      <td>0</td>\n",
       "      <td>1</td>\n",
       "    </tr>\n",
       "  </tbody>\n",
       "</table>\n",
       "<p>400 rows × 11 columns</p>\n",
       "</div>"
      ],
      "text/plain": [
       "      Income   Limit  Rating  Cards   Age  Education  Gender_Male  \\\n",
       "ID                                                                  \n",
       "1     14.891  3606.0   283.0    2.0  34.0       11.0            1   \n",
       "2    106.025  6645.0   483.0    3.0  82.0       15.0            0   \n",
       "3    104.593  7075.0   514.0    4.0  71.0       11.0            1   \n",
       "4    148.924  9504.0   681.0    3.0  36.0       11.0            0   \n",
       "5     55.882  4897.0   357.0    2.0  68.0       16.0            1   \n",
       "..       ...     ...     ...    ...   ...        ...          ...   \n",
       "396   12.096  4100.0   307.0    3.0  32.0       13.0            1   \n",
       "397   13.364  3838.0   296.0    5.0  65.0       17.0            1   \n",
       "398   57.872  4171.0   321.0    5.0  67.0       12.0            0   \n",
       "399   37.728  2525.0   192.0    1.0  44.0       13.0            1   \n",
       "400   18.701  5524.0   415.0    5.0  64.0        7.0            0   \n",
       "\n",
       "     Student_Yes  Married_Yes  Ethnicity_African American  Ethnicity_Asian  \n",
       "ID                                                                          \n",
       "1              0            1                           0                0  \n",
       "2              1            1                           0                1  \n",
       "3              0            0                           0                1  \n",
       "4              0            0                           0                1  \n",
       "5              0            1                           0                0  \n",
       "..           ...          ...                         ...              ...  \n",
       "396            0            1                           0                0  \n",
       "397            0            0                           1                0  \n",
       "398            0            1                           0                0  \n",
       "399            0            1                           0                0  \n",
       "400            0            0                           0                1  \n",
       "\n",
       "[400 rows x 11 columns]"
      ]
     },
     "execution_count": 57,
     "metadata": {},
     "output_type": "execute_result"
    }
   ],
   "source": [
    "X"
   ]
  },
  {
   "cell_type": "code",
   "execution_count": 58,
   "metadata": {},
   "outputs": [
    {
     "data": {
      "text/plain": [
       "ID\n",
       "1      333\n",
       "2      903\n",
       "3      580\n",
       "4      964\n",
       "5      331\n",
       "      ... \n",
       "396    560\n",
       "397    480\n",
       "398    138\n",
       "399      0\n",
       "400    966\n",
       "Name: Balance, Length: 400, dtype: int64"
      ]
     },
     "execution_count": 58,
     "metadata": {},
     "output_type": "execute_result"
    }
   ],
   "source": [
    "y"
   ]
  },
  {
   "cell_type": "markdown",
   "metadata": {},
   "source": [
    "+ Şimdi de kolonlar arasındaki Korelasyon'a bakalım **:**"
   ]
  },
  {
   "cell_type": "code",
   "execution_count": 39,
   "metadata": {},
   "outputs": [
    {
     "data": {
      "text/html": [
       "<div>\n",
       "<style scoped>\n",
       "    .dataframe tbody tr th:only-of-type {\n",
       "        vertical-align: middle;\n",
       "    }\n",
       "\n",
       "    .dataframe tbody tr th {\n",
       "        vertical-align: top;\n",
       "    }\n",
       "\n",
       "    .dataframe thead th {\n",
       "        text-align: right;\n",
       "    }\n",
       "</style>\n",
       "<table border=\"1\" class=\"dataframe\">\n",
       "  <thead>\n",
       "    <tr style=\"text-align: right;\">\n",
       "      <th></th>\n",
       "      <th>Income</th>\n",
       "      <th>Limit</th>\n",
       "      <th>Rating</th>\n",
       "      <th>Cards</th>\n",
       "      <th>Age</th>\n",
       "      <th>Education</th>\n",
       "      <th>Balance</th>\n",
       "    </tr>\n",
       "  </thead>\n",
       "  <tbody>\n",
       "    <tr>\n",
       "      <th>Income</th>\n",
       "      <td>1.000000</td>\n",
       "      <td>0.792088</td>\n",
       "      <td>0.791378</td>\n",
       "      <td>-0.018273</td>\n",
       "      <td>0.175338</td>\n",
       "      <td>-0.027692</td>\n",
       "      <td>0.463656</td>\n",
       "    </tr>\n",
       "    <tr>\n",
       "      <th>Limit</th>\n",
       "      <td>0.792088</td>\n",
       "      <td>1.000000</td>\n",
       "      <td>0.996880</td>\n",
       "      <td>0.010231</td>\n",
       "      <td>0.100888</td>\n",
       "      <td>-0.023549</td>\n",
       "      <td>0.861697</td>\n",
       "    </tr>\n",
       "    <tr>\n",
       "      <th>Rating</th>\n",
       "      <td>0.791378</td>\n",
       "      <td>0.996880</td>\n",
       "      <td>1.000000</td>\n",
       "      <td>0.053239</td>\n",
       "      <td>0.103165</td>\n",
       "      <td>-0.030136</td>\n",
       "      <td>0.863625</td>\n",
       "    </tr>\n",
       "    <tr>\n",
       "      <th>Cards</th>\n",
       "      <td>-0.018273</td>\n",
       "      <td>0.010231</td>\n",
       "      <td>0.053239</td>\n",
       "      <td>1.000000</td>\n",
       "      <td>0.042948</td>\n",
       "      <td>-0.051084</td>\n",
       "      <td>0.086456</td>\n",
       "    </tr>\n",
       "    <tr>\n",
       "      <th>Age</th>\n",
       "      <td>0.175338</td>\n",
       "      <td>0.100888</td>\n",
       "      <td>0.103165</td>\n",
       "      <td>0.042948</td>\n",
       "      <td>1.000000</td>\n",
       "      <td>0.003619</td>\n",
       "      <td>0.001835</td>\n",
       "    </tr>\n",
       "    <tr>\n",
       "      <th>Education</th>\n",
       "      <td>-0.027692</td>\n",
       "      <td>-0.023549</td>\n",
       "      <td>-0.030136</td>\n",
       "      <td>-0.051084</td>\n",
       "      <td>0.003619</td>\n",
       "      <td>1.000000</td>\n",
       "      <td>-0.008062</td>\n",
       "    </tr>\n",
       "    <tr>\n",
       "      <th>Balance</th>\n",
       "      <td>0.463656</td>\n",
       "      <td>0.861697</td>\n",
       "      <td>0.863625</td>\n",
       "      <td>0.086456</td>\n",
       "      <td>0.001835</td>\n",
       "      <td>-0.008062</td>\n",
       "      <td>1.000000</td>\n",
       "    </tr>\n",
       "  </tbody>\n",
       "</table>\n",
       "</div>"
      ],
      "text/plain": [
       "             Income     Limit    Rating     Cards       Age  Education  \\\n",
       "Income     1.000000  0.792088  0.791378 -0.018273  0.175338  -0.027692   \n",
       "Limit      0.792088  1.000000  0.996880  0.010231  0.100888  -0.023549   \n",
       "Rating     0.791378  0.996880  1.000000  0.053239  0.103165  -0.030136   \n",
       "Cards     -0.018273  0.010231  0.053239  1.000000  0.042948  -0.051084   \n",
       "Age        0.175338  0.100888  0.103165  0.042948  1.000000   0.003619   \n",
       "Education -0.027692 -0.023549 -0.030136 -0.051084  0.003619   1.000000   \n",
       "Balance    0.463656  0.861697  0.863625  0.086456  0.001835  -0.008062   \n",
       "\n",
       "            Balance  \n",
       "Income     0.463656  \n",
       "Limit      0.861697  \n",
       "Rating     0.863625  \n",
       "Cards      0.086456  \n",
       "Age        0.001835  \n",
       "Education -0.008062  \n",
       "Balance    1.000000  "
      ]
     },
     "execution_count": 39,
     "metadata": {},
     "output_type": "execute_result"
    }
   ],
   "source": [
    "corr = df.corr()\n",
    "corr"
   ]
  },
  {
   "cell_type": "markdown",
   "metadata": {},
   "source": [
    "+ Şimdi de Veri Setimizi **düzenledikten sonra ; TRAIN** ve **TEST** olmak üzere ayırmamız lazım **:**"
   ]
  },
  {
   "cell_type": "code",
   "execution_count": 41,
   "metadata": {},
   "outputs": [],
   "source": [
    "X_train, X_test, y_train, y_test = train_test_split(X, y, test_size=0.2, random_state=10)"
   ]
  },
  {
   "cell_type": "markdown",
   "metadata": {},
   "source": [
    "+ Bir tane Lineer Regresyon **objesi yaratalım** ve Lineer Regresyonu **FIT edelim** **:**"
   ]
  },
  {
   "cell_type": "code",
   "execution_count": 42,
   "metadata": {},
   "outputs": [
    {
     "data": {
      "text/plain": [
       "LinearRegression()"
      ]
     },
     "execution_count": 42,
     "metadata": {},
     "output_type": "execute_result"
    }
   ],
   "source": [
    "lm = LinearRegression()\n",
    "\n",
    "lm.fit(X_train , y_train)"
   ]
  },
  {
   "cell_type": "markdown",
   "metadata": {},
   "source": [
    "**+--- NOTE --->** Yani yukarıdaki işlem ile modelimiz **; her bir BETA için (Yani her bir FEATURE kolonu için) bir COEFFICIENT (Katsayı) üretti**..."
   ]
  },
  {
   "cell_type": "code",
   "execution_count": 43,
   "metadata": {},
   "outputs": [
    {
     "data": {
      "text/plain": [
       "array([-7.68187778e+00,  1.74630300e-01,  1.36938639e+00,  1.54484041e+01,\n",
       "       -5.33690547e-01,  3.35211279e-02,  3.50016385e+00,  4.17307463e+02,\n",
       "       -1.35592623e+01, -5.25377692e+00,  1.29194087e+01])"
      ]
     },
     "execution_count": 43,
     "metadata": {},
     "output_type": "execute_result"
    }
   ],
   "source": [
    "lm.coef_"
   ]
  },
  {
   "cell_type": "code",
   "execution_count": 44,
   "metadata": {},
   "outputs": [
    {
     "data": {
      "text/plain": [
       "Index(['Income', 'Limit', 'Rating', 'Cards', 'Age', 'Education', 'Gender_Male',\n",
       "       'Student_Yes', 'Married_Yes', 'Ethnicity_African American',\n",
       "       'Ethnicity_Asian'],\n",
       "      dtype='object')"
      ]
     },
     "execution_count": 44,
     "metadata": {},
     "output_type": "execute_result"
    }
   ],
   "source": [
    "X.columns"
   ]
  },
  {
   "cell_type": "markdown",
   "metadata": {},
   "source": [
    "+ Şimdi de **;** her bir KOLON için olan KATSAYI'ları, DataFrame olarak görelim **:**"
   ]
  },
  {
   "cell_type": "code",
   "execution_count": 45,
   "metadata": {},
   "outputs": [
    {
     "data": {
      "text/html": [
       "<div>\n",
       "<style scoped>\n",
       "    .dataframe tbody tr th:only-of-type {\n",
       "        vertical-align: middle;\n",
       "    }\n",
       "\n",
       "    .dataframe tbody tr th {\n",
       "        vertical-align: top;\n",
       "    }\n",
       "\n",
       "    .dataframe thead th {\n",
       "        text-align: right;\n",
       "    }\n",
       "</style>\n",
       "<table border=\"1\" class=\"dataframe\">\n",
       "  <thead>\n",
       "    <tr style=\"text-align: right;\">\n",
       "      <th></th>\n",
       "      <th>Coefficient</th>\n",
       "    </tr>\n",
       "  </thead>\n",
       "  <tbody>\n",
       "    <tr>\n",
       "      <th>Income</th>\n",
       "      <td>-7.681878</td>\n",
       "    </tr>\n",
       "    <tr>\n",
       "      <th>Limit</th>\n",
       "      <td>0.174630</td>\n",
       "    </tr>\n",
       "    <tr>\n",
       "      <th>Rating</th>\n",
       "      <td>1.369386</td>\n",
       "    </tr>\n",
       "    <tr>\n",
       "      <th>Cards</th>\n",
       "      <td>15.448404</td>\n",
       "    </tr>\n",
       "    <tr>\n",
       "      <th>Age</th>\n",
       "      <td>-0.533691</td>\n",
       "    </tr>\n",
       "    <tr>\n",
       "      <th>Education</th>\n",
       "      <td>0.033521</td>\n",
       "    </tr>\n",
       "    <tr>\n",
       "      <th>Gender_Male</th>\n",
       "      <td>3.500164</td>\n",
       "    </tr>\n",
       "    <tr>\n",
       "      <th>Student_Yes</th>\n",
       "      <td>417.307463</td>\n",
       "    </tr>\n",
       "    <tr>\n",
       "      <th>Married_Yes</th>\n",
       "      <td>-13.559262</td>\n",
       "    </tr>\n",
       "    <tr>\n",
       "      <th>Ethnicity_African American</th>\n",
       "      <td>-5.253777</td>\n",
       "    </tr>\n",
       "    <tr>\n",
       "      <th>Ethnicity_Asian</th>\n",
       "      <td>12.919409</td>\n",
       "    </tr>\n",
       "  </tbody>\n",
       "</table>\n",
       "</div>"
      ],
      "text/plain": [
       "                            Coefficient\n",
       "Income                        -7.681878\n",
       "Limit                          0.174630\n",
       "Rating                         1.369386\n",
       "Cards                         15.448404\n",
       "Age                           -0.533691\n",
       "Education                      0.033521\n",
       "Gender_Male                    3.500164\n",
       "Student_Yes                  417.307463\n",
       "Married_Yes                  -13.559262\n",
       "Ethnicity_African American    -5.253777\n",
       "Ethnicity_Asian               12.919409"
      ]
     },
     "execution_count": 45,
     "metadata": {},
     "output_type": "execute_result"
    }
   ],
   "source": [
    "coeff_df = pd.DataFrame(lm.coef_ , X.columns , columns=['Coefficient'])\n",
    "coeff_df"
   ]
  },
  {
   "cell_type": "markdown",
   "metadata": {},
   "source": [
    "**Yukarıda ne görüyoruz peki ?**\n",
    "<br> Cinsiyetin Erkek olması, **'Balance' kolonunu 3.500164 arttırıyormuş.**\n",
    "<br> Yaş **bir birim** arttığında, **'Balance' 0.533691 azalıyormuş.**\n",
    "<br> Kart sayısı **bir birim** arttığında, **'Balance' 15.448404 artıyormuş.**\n",
    "<br> Kullanıcının öğrenci olması, **'Balance''yi 417.307463 arttırıyormuş...** Gibi."
   ]
  },
  {
   "cell_type": "markdown",
   "metadata": {},
   "source": [
    "**++++ NOTE ++++**\n",
    "<br> COEFFICIENT değeri **'0'**'a çok yakın diye pek bir etkisi yoktur ve modelden çıkarabiliriz DİYEMEYİZ! Çünkü burada STANDARDİZASYON yapmadık! Çünkü mesela yaşın **1** birim artması pek bir şey ifade etmiyor olabilir ama **20** birim arttığında o Katsayı değerini **20** ile çarpacağız ve etkili bir değer ortaya çıkacak...\n",
    "<br> Bu işlemi yapabilmek için bir **istatistik test** yapmamız ve **'p-values'**'e bakmamız lazım.\n",
    "<br> Aslında **,** her katsayıyı modelimize koymak pek de iyi bir sonuç vermez."
   ]
  },
  {
   "cell_type": "markdown",
   "metadata": {},
   "source": [
    "+ Model's performance on the TEST set **:**\n",
    "+ Modelin, TEST setindeki (Görmediğimiz veri setindeki) performansı **:**\n",
    "+ **$R^2$ :**"
   ]
  },
  {
   "cell_type": "code",
   "execution_count": 46,
   "metadata": {},
   "outputs": [
    {
     "data": {
      "text/plain": [
       "0.9538616037043489"
      ]
     },
     "execution_count": 46,
     "metadata": {},
     "output_type": "execute_result"
    }
   ],
   "source": [
    "lm.score(X_test, y_test)"
   ]
  },
  {
   "cell_type": "markdown",
   "metadata": {},
   "source": [
    "Yani **'Balance'** kolonundaki varyasyonun **%95...**'i, modelimiz tarafından açıklanabiliyor. Baya iyi bir sonuç..."
   ]
  },
  {
   "cell_type": "code",
   "execution_count": 47,
   "metadata": {},
   "outputs": [
    {
     "data": {
      "text/html": [
       "<div>\n",
       "<style scoped>\n",
       "    .dataframe tbody tr th:only-of-type {\n",
       "        vertical-align: middle;\n",
       "    }\n",
       "\n",
       "    .dataframe tbody tr th {\n",
       "        vertical-align: top;\n",
       "    }\n",
       "\n",
       "    .dataframe thead th {\n",
       "        text-align: right;\n",
       "    }\n",
       "</style>\n",
       "<table border=\"1\" class=\"dataframe\">\n",
       "  <thead>\n",
       "    <tr style=\"text-align: right;\">\n",
       "      <th></th>\n",
       "      <th>Income</th>\n",
       "      <th>Limit</th>\n",
       "      <th>Rating</th>\n",
       "      <th>Cards</th>\n",
       "      <th>Age</th>\n",
       "      <th>Education</th>\n",
       "      <th>Gender_Male</th>\n",
       "      <th>Student_Yes</th>\n",
       "      <th>Married_Yes</th>\n",
       "      <th>Ethnicity_African American</th>\n",
       "      <th>Ethnicity_Asian</th>\n",
       "    </tr>\n",
       "    <tr>\n",
       "      <th>ID</th>\n",
       "      <th></th>\n",
       "      <th></th>\n",
       "      <th></th>\n",
       "      <th></th>\n",
       "      <th></th>\n",
       "      <th></th>\n",
       "      <th></th>\n",
       "      <th></th>\n",
       "      <th></th>\n",
       "      <th></th>\n",
       "      <th></th>\n",
       "    </tr>\n",
       "  </thead>\n",
       "  <tbody>\n",
       "    <tr>\n",
       "      <th>333</th>\n",
       "      <td>62.328</td>\n",
       "      <td>5228.0</td>\n",
       "      <td>377.0</td>\n",
       "      <td>3.0</td>\n",
       "      <td>83.0</td>\n",
       "      <td>15.0</td>\n",
       "      <td>1</td>\n",
       "      <td>0</td>\n",
       "      <td>0</td>\n",
       "      <td>0</td>\n",
       "      <td>0</td>\n",
       "    </tr>\n",
       "    <tr>\n",
       "      <th>112</th>\n",
       "      <td>28.575</td>\n",
       "      <td>2959.0</td>\n",
       "      <td>231.0</td>\n",
       "      <td>2.0</td>\n",
       "      <td>60.0</td>\n",
       "      <td>11.0</td>\n",
       "      <td>0</td>\n",
       "      <td>0</td>\n",
       "      <td>0</td>\n",
       "      <td>1</td>\n",
       "      <td>0</td>\n",
       "    </tr>\n",
       "    <tr>\n",
       "      <th>353</th>\n",
       "      <td>104.483</td>\n",
       "      <td>7140.0</td>\n",
       "      <td>507.0</td>\n",
       "      <td>2.0</td>\n",
       "      <td>41.0</td>\n",
       "      <td>14.0</td>\n",
       "      <td>1</td>\n",
       "      <td>0</td>\n",
       "      <td>1</td>\n",
       "      <td>1</td>\n",
       "      <td>0</td>\n",
       "    </tr>\n",
       "    <tr>\n",
       "      <th>206</th>\n",
       "      <td>10.793</td>\n",
       "      <td>3878.0</td>\n",
       "      <td>321.0</td>\n",
       "      <td>8.0</td>\n",
       "      <td>29.0</td>\n",
       "      <td>13.0</td>\n",
       "      <td>1</td>\n",
       "      <td>0</td>\n",
       "      <td>0</td>\n",
       "      <td>0</td>\n",
       "      <td>0</td>\n",
       "    </tr>\n",
       "    <tr>\n",
       "      <th>57</th>\n",
       "      <td>57.100</td>\n",
       "      <td>4742.0</td>\n",
       "      <td>372.0</td>\n",
       "      <td>7.0</td>\n",
       "      <td>79.0</td>\n",
       "      <td>18.0</td>\n",
       "      <td>0</td>\n",
       "      <td>0</td>\n",
       "      <td>1</td>\n",
       "      <td>0</td>\n",
       "      <td>1</td>\n",
       "    </tr>\n",
       "    <tr>\n",
       "      <th>...</th>\n",
       "      <td>...</td>\n",
       "      <td>...</td>\n",
       "      <td>...</td>\n",
       "      <td>...</td>\n",
       "      <td>...</td>\n",
       "      <td>...</td>\n",
       "      <td>...</td>\n",
       "      <td>...</td>\n",
       "      <td>...</td>\n",
       "      <td>...</td>\n",
       "      <td>...</td>\n",
       "    </tr>\n",
       "    <tr>\n",
       "      <th>305</th>\n",
       "      <td>82.706</td>\n",
       "      <td>7506.0</td>\n",
       "      <td>536.0</td>\n",
       "      <td>2.0</td>\n",
       "      <td>64.0</td>\n",
       "      <td>13.0</td>\n",
       "      <td>0</td>\n",
       "      <td>0</td>\n",
       "      <td>1</td>\n",
       "      <td>0</td>\n",
       "      <td>1</td>\n",
       "    </tr>\n",
       "    <tr>\n",
       "      <th>188</th>\n",
       "      <td>23.365</td>\n",
       "      <td>2179.0</td>\n",
       "      <td>167.0</td>\n",
       "      <td>2.0</td>\n",
       "      <td>75.0</td>\n",
       "      <td>15.0</td>\n",
       "      <td>1</td>\n",
       "      <td>0</td>\n",
       "      <td>0</td>\n",
       "      <td>0</td>\n",
       "      <td>1</td>\n",
       "    </tr>\n",
       "    <tr>\n",
       "      <th>167</th>\n",
       "      <td>35.691</td>\n",
       "      <td>2880.0</td>\n",
       "      <td>214.0</td>\n",
       "      <td>2.0</td>\n",
       "      <td>35.0</td>\n",
       "      <td>15.0</td>\n",
       "      <td>1</td>\n",
       "      <td>0</td>\n",
       "      <td>0</td>\n",
       "      <td>1</td>\n",
       "      <td>0</td>\n",
       "    </tr>\n",
       "    <tr>\n",
       "      <th>65</th>\n",
       "      <td>32.164</td>\n",
       "      <td>2937.0</td>\n",
       "      <td>223.0</td>\n",
       "      <td>2.0</td>\n",
       "      <td>79.0</td>\n",
       "      <td>15.0</td>\n",
       "      <td>0</td>\n",
       "      <td>0</td>\n",
       "      <td>1</td>\n",
       "      <td>1</td>\n",
       "      <td>0</td>\n",
       "    </tr>\n",
       "    <tr>\n",
       "      <th>28</th>\n",
       "      <td>32.793</td>\n",
       "      <td>4534.0</td>\n",
       "      <td>333.0</td>\n",
       "      <td>2.0</td>\n",
       "      <td>44.0</td>\n",
       "      <td>16.0</td>\n",
       "      <td>1</td>\n",
       "      <td>0</td>\n",
       "      <td>0</td>\n",
       "      <td>1</td>\n",
       "      <td>0</td>\n",
       "    </tr>\n",
       "  </tbody>\n",
       "</table>\n",
       "<p>80 rows × 11 columns</p>\n",
       "</div>"
      ],
      "text/plain": [
       "      Income   Limit  Rating  Cards   Age  Education  Gender_Male  \\\n",
       "ID                                                                  \n",
       "333   62.328  5228.0   377.0    3.0  83.0       15.0            1   \n",
       "112   28.575  2959.0   231.0    2.0  60.0       11.0            0   \n",
       "353  104.483  7140.0   507.0    2.0  41.0       14.0            1   \n",
       "206   10.793  3878.0   321.0    8.0  29.0       13.0            1   \n",
       "57    57.100  4742.0   372.0    7.0  79.0       18.0            0   \n",
       "..       ...     ...     ...    ...   ...        ...          ...   \n",
       "305   82.706  7506.0   536.0    2.0  64.0       13.0            0   \n",
       "188   23.365  2179.0   167.0    2.0  75.0       15.0            1   \n",
       "167   35.691  2880.0   214.0    2.0  35.0       15.0            1   \n",
       "65    32.164  2937.0   223.0    2.0  79.0       15.0            0   \n",
       "28    32.793  4534.0   333.0    2.0  44.0       16.0            1   \n",
       "\n",
       "     Student_Yes  Married_Yes  Ethnicity_African American  Ethnicity_Asian  \n",
       "ID                                                                          \n",
       "333            0            0                           0                0  \n",
       "112            0            0                           1                0  \n",
       "353            0            1                           1                0  \n",
       "206            0            0                           0                0  \n",
       "57             0            1                           0                1  \n",
       "..           ...          ...                         ...              ...  \n",
       "305            0            1                           0                1  \n",
       "188            0            0                           0                1  \n",
       "167            0            0                           1                0  \n",
       "65             0            1                           1                0  \n",
       "28             0            0                           1                0  \n",
       "\n",
       "[80 rows x 11 columns]"
      ]
     },
     "execution_count": 47,
     "metadata": {},
     "output_type": "execute_result"
    }
   ],
   "source": [
    "X_test"
   ]
  },
  {
   "cell_type": "markdown",
   "metadata": {},
   "source": [
    "+ **Tahminleme** yapalım **:**"
   ]
  },
  {
   "cell_type": "code",
   "execution_count": 53,
   "metadata": {},
   "outputs": [],
   "source": [
    "predictions = lm.predict(X_test)"
   ]
  },
  {
   "cell_type": "markdown",
   "metadata": {},
   "source": [
    "+ Testteki **;** GERÇEK olan (**'y_test'**) **;** DAHA ÖNCE GERÇEKLEŞMİŞ **;** değerlerimiz **:**"
   ]
  },
  {
   "cell_type": "code",
   "execution_count": 49,
   "metadata": {},
   "outputs": [
    {
     "data": {
      "text/plain": [
       "array([ 380,    0,  583,  638,  379,    0,   99,  681,  669,   47,    0,\n",
       "        108, 1003,  967,    0,  209,  391,  602,  976, 1107,  797,  210,\n",
       "        302,  541, 1264,  768,    0,  218, 1393,    0,  903,  203,    0,\n",
       "        654,  474,  724,  216,  230,    0,    0,  534,    0, 1388, 1093,\n",
       "          0,    0, 1355,  657,  588,  204,  155, 1032,  710,  375,    0,\n",
       "       1677,  651,  579,  250,  653,  108,   95, 1054, 1549,    0,    0,\n",
       "       1404,  482,  663,  297,  454,  844, 1311,  431,  607,  905,    0,\n",
       "          0,    0,  467], dtype=int64)"
      ]
     },
     "execution_count": 49,
     "metadata": {},
     "output_type": "execute_result"
    }
   ],
   "source": [
    "np.array(y_test)"
   ]
  },
  {
   "cell_type": "markdown",
   "metadata": {},
   "source": [
    "+ TEST için modelimizin ürettiği **tahmini** değerler **:**"
   ]
  },
  {
   "cell_type": "code",
   "execution_count": 50,
   "metadata": {},
   "outputs": [
    {
     "data": {
      "text/plain": [
       "array([ 458.97071185,  110.02902174,  635.17455723,  648.41400763,\n",
       "        467.30323546, -153.63064949,  245.36173526,  704.17551012,\n",
       "        769.75177824,  166.59718732, -233.29889874,  254.09560396,\n",
       "        951.70123392,  922.93452406,  -43.15231473,  288.65388951,\n",
       "        463.44491876,  608.73250865,  923.31297439, 1090.00405984,\n",
       "        784.01157664,  307.3999271 ,  406.68094507,  560.20083416,\n",
       "       1187.08219541,  780.33486158, -321.36196728,  347.45053893,\n",
       "       1337.67926209, -101.12645961,  929.60292755,  293.81759478,\n",
       "         85.03823317,  691.93726489,  494.42174418,  681.45221871,\n",
       "        303.40542441,  322.43662413,  -48.10416623,  -81.83901318,\n",
       "        552.01669369,    9.24942487, 1314.34445241, 1017.22900331,\n",
       "       -232.15037484,  -28.05641414, 1307.32506617,  697.81165123,\n",
       "        618.61552034,  334.30548333,  262.20709854, 1021.73473367,\n",
       "        724.05003255,  478.25581259, -236.20807909, 1565.0898437 ,\n",
       "        675.97944609,  633.44427665,  423.59072477,  643.51046826,\n",
       "        241.79113537,  191.22932839, 1016.38187769, 1406.57417114,\n",
       "       -107.93311149,   62.18176806, 1326.38172717,  565.27016641,\n",
       "        662.44005097,  410.83598301,  586.65554773,  816.13845665,\n",
       "       1229.14531754,  476.28920879,  641.32678938,  908.45432283,\n",
       "        -59.99868226,   35.26592918,   44.0965065 ,  504.55381398])"
      ]
     },
     "execution_count": 50,
     "metadata": {},
     "output_type": "execute_result"
    }
   ],
   "source": [
    "predictions"
   ]
  },
  {
   "cell_type": "markdown",
   "metadata": {},
   "source": [
    "+ Bu üstteki Test için GERÇEK ve TAHMİNİ değerleri, DataFrame hale getirerek aşağıda **karşılaştıralım :**"
   ]
  },
  {
   "cell_type": "code",
   "execution_count": 54,
   "metadata": {},
   "outputs": [
    {
     "data": {
      "text/html": [
       "<div>\n",
       "<style scoped>\n",
       "    .dataframe tbody tr th:only-of-type {\n",
       "        vertical-align: middle;\n",
       "    }\n",
       "\n",
       "    .dataframe tbody tr th {\n",
       "        vertical-align: top;\n",
       "    }\n",
       "\n",
       "    .dataframe thead th {\n",
       "        text-align: right;\n",
       "    }\n",
       "</style>\n",
       "<table border=\"1\" class=\"dataframe\">\n",
       "  <thead>\n",
       "    <tr style=\"text-align: right;\">\n",
       "      <th></th>\n",
       "      <th>Actual</th>\n",
       "      <th>Predicted</th>\n",
       "    </tr>\n",
       "    <tr>\n",
       "      <th>ID</th>\n",
       "      <th></th>\n",
       "      <th></th>\n",
       "    </tr>\n",
       "  </thead>\n",
       "  <tbody>\n",
       "    <tr>\n",
       "      <th>333</th>\n",
       "      <td>380</td>\n",
       "      <td>458.970712</td>\n",
       "    </tr>\n",
       "    <tr>\n",
       "      <th>112</th>\n",
       "      <td>0</td>\n",
       "      <td>110.029022</td>\n",
       "    </tr>\n",
       "    <tr>\n",
       "      <th>353</th>\n",
       "      <td>583</td>\n",
       "      <td>635.174557</td>\n",
       "    </tr>\n",
       "    <tr>\n",
       "      <th>206</th>\n",
       "      <td>638</td>\n",
       "      <td>648.414008</td>\n",
       "    </tr>\n",
       "    <tr>\n",
       "      <th>57</th>\n",
       "      <td>379</td>\n",
       "      <td>467.303235</td>\n",
       "    </tr>\n",
       "    <tr>\n",
       "      <th>...</th>\n",
       "      <td>...</td>\n",
       "      <td>...</td>\n",
       "    </tr>\n",
       "    <tr>\n",
       "      <th>305</th>\n",
       "      <td>905</td>\n",
       "      <td>908.454323</td>\n",
       "    </tr>\n",
       "    <tr>\n",
       "      <th>188</th>\n",
       "      <td>0</td>\n",
       "      <td>-59.998682</td>\n",
       "    </tr>\n",
       "    <tr>\n",
       "      <th>167</th>\n",
       "      <td>0</td>\n",
       "      <td>35.265929</td>\n",
       "    </tr>\n",
       "    <tr>\n",
       "      <th>65</th>\n",
       "      <td>0</td>\n",
       "      <td>44.096507</td>\n",
       "    </tr>\n",
       "    <tr>\n",
       "      <th>28</th>\n",
       "      <td>467</td>\n",
       "      <td>504.553814</td>\n",
       "    </tr>\n",
       "  </tbody>\n",
       "</table>\n",
       "<p>80 rows × 2 columns</p>\n",
       "</div>"
      ],
      "text/plain": [
       "     Actual   Predicted\n",
       "ID                     \n",
       "333     380  458.970712\n",
       "112       0  110.029022\n",
       "353     583  635.174557\n",
       "206     638  648.414008\n",
       "57      379  467.303235\n",
       "..      ...         ...\n",
       "305     905  908.454323\n",
       "188       0  -59.998682\n",
       "167       0   35.265929\n",
       "65        0   44.096507\n",
       "28      467  504.553814\n",
       "\n",
       "[80 rows x 2 columns]"
      ]
     },
     "execution_count": 54,
     "metadata": {},
     "output_type": "execute_result"
    }
   ],
   "source": [
    "comp = pd.DataFrame({'Actual':y_test , 'Predicted':predictions})\n",
    "comp"
   ]
  },
  {
   "cell_type": "code",
   "execution_count": 55,
   "metadata": {},
   "outputs": [
    {
     "data": {
      "text/html": [
       "<div>\n",
       "<style scoped>\n",
       "    .dataframe tbody tr th:only-of-type {\n",
       "        vertical-align: middle;\n",
       "    }\n",
       "\n",
       "    .dataframe tbody tr th {\n",
       "        vertical-align: top;\n",
       "    }\n",
       "\n",
       "    .dataframe thead th {\n",
       "        text-align: right;\n",
       "    }\n",
       "</style>\n",
       "<table border=\"1\" class=\"dataframe\">\n",
       "  <thead>\n",
       "    <tr style=\"text-align: right;\">\n",
       "      <th></th>\n",
       "      <th>Actual</th>\n",
       "      <th>Predicted</th>\n",
       "      <th>residuals</th>\n",
       "    </tr>\n",
       "    <tr>\n",
       "      <th>ID</th>\n",
       "      <th></th>\n",
       "      <th></th>\n",
       "      <th></th>\n",
       "    </tr>\n",
       "  </thead>\n",
       "  <tbody>\n",
       "    <tr>\n",
       "      <th>333</th>\n",
       "      <td>380</td>\n",
       "      <td>458.970712</td>\n",
       "      <td>-78.970712</td>\n",
       "    </tr>\n",
       "    <tr>\n",
       "      <th>112</th>\n",
       "      <td>0</td>\n",
       "      <td>110.029022</td>\n",
       "      <td>-110.029022</td>\n",
       "    </tr>\n",
       "    <tr>\n",
       "      <th>353</th>\n",
       "      <td>583</td>\n",
       "      <td>635.174557</td>\n",
       "      <td>-52.174557</td>\n",
       "    </tr>\n",
       "    <tr>\n",
       "      <th>206</th>\n",
       "      <td>638</td>\n",
       "      <td>648.414008</td>\n",
       "      <td>-10.414008</td>\n",
       "    </tr>\n",
       "    <tr>\n",
       "      <th>57</th>\n",
       "      <td>379</td>\n",
       "      <td>467.303235</td>\n",
       "      <td>-88.303235</td>\n",
       "    </tr>\n",
       "    <tr>\n",
       "      <th>...</th>\n",
       "      <td>...</td>\n",
       "      <td>...</td>\n",
       "      <td>...</td>\n",
       "    </tr>\n",
       "    <tr>\n",
       "      <th>305</th>\n",
       "      <td>905</td>\n",
       "      <td>908.454323</td>\n",
       "      <td>-3.454323</td>\n",
       "    </tr>\n",
       "    <tr>\n",
       "      <th>188</th>\n",
       "      <td>0</td>\n",
       "      <td>-59.998682</td>\n",
       "      <td>59.998682</td>\n",
       "    </tr>\n",
       "    <tr>\n",
       "      <th>167</th>\n",
       "      <td>0</td>\n",
       "      <td>35.265929</td>\n",
       "      <td>-35.265929</td>\n",
       "    </tr>\n",
       "    <tr>\n",
       "      <th>65</th>\n",
       "      <td>0</td>\n",
       "      <td>44.096507</td>\n",
       "      <td>-44.096507</td>\n",
       "    </tr>\n",
       "    <tr>\n",
       "      <th>28</th>\n",
       "      <td>467</td>\n",
       "      <td>504.553814</td>\n",
       "      <td>-37.553814</td>\n",
       "    </tr>\n",
       "  </tbody>\n",
       "</table>\n",
       "<p>80 rows × 3 columns</p>\n",
       "</div>"
      ],
      "text/plain": [
       "     Actual   Predicted   residuals\n",
       "ID                                 \n",
       "333     380  458.970712  -78.970712\n",
       "112       0  110.029022 -110.029022\n",
       "353     583  635.174557  -52.174557\n",
       "206     638  648.414008  -10.414008\n",
       "57      379  467.303235  -88.303235\n",
       "..      ...         ...         ...\n",
       "305     905  908.454323   -3.454323\n",
       "188       0  -59.998682   59.998682\n",
       "167       0   35.265929  -35.265929\n",
       "65        0   44.096507  -44.096507\n",
       "28      467  504.553814  -37.553814\n",
       "\n",
       "[80 rows x 3 columns]"
      ]
     },
     "execution_count": 55,
     "metadata": {},
     "output_type": "execute_result"
    }
   ],
   "source": [
    "comp['residuals'] = comp['Actual'] - comp['Predicted']\n",
    "comp"
   ]
  },
  {
   "cell_type": "markdown",
   "metadata": {},
   "source": [
    "+ Yukarıda yarattığımız **'residuals'** kolonunun **Histogram**'ını çizdirelim **:**"
   ]
  },
  {
   "cell_type": "code",
   "execution_count": 57,
   "metadata": {},
   "outputs": [
    {
     "data": {
      "text/plain": [
       "<AxesSubplot:xlabel='residuals', ylabel='Count'>"
      ]
     },
     "execution_count": 57,
     "metadata": {},
     "output_type": "execute_result"
    },
    {
     "data": {
      "image/png": "[encoded data removed]",
      "text/plain": [
       "<Figure size 432x288 with 1 Axes>"
      ]
     },
     "metadata": {
      "needs_background": "light"
     },
     "output_type": "display_data"
    }
   ],
   "source": [
    "sns.histplot(comp['residuals'], bins=20)"
   ]
  },
  {
   "cell_type": "markdown",
   "metadata": {},
   "source": [
    "Yukarıda fark ettiysek, **Normal Dağılım**'dan biraz sapmış. Pozitif tarafta biraz fazlalık var... Bunun da sebebi tahminlerimiz (predictions) biraz daha küçük değerler olmuş ki Gerçek (Actual) değerlerimiz pozitif tarafta biraz fazla birikmiş...\n",
    "<br> Yani şu an bu modelimiz ile **;** biraz abartılı harcama yapan insanların harcamaları için, Gerçek olandan biraz daha küçük (under) tahminler yapıyoruz..."
   ]
  },
  {
   "cell_type": "code",
   "execution_count": 60,
   "metadata": {},
   "outputs": [
    {
     "name": "stdout",
     "output_type": "stream",
     "text": [
      "MAE :  75.79118959094794\n",
      "MSE :  9260.299220657227\n",
      "RMSE :  96.23044851115071\n"
     ]
    }
   ],
   "source": [
    "print( 'MAE : ' , metrics.mean_absolute_error(y_test , predictions) )\n",
    "print( 'MSE : ' , metrics.mean_squared_error(y_test , predictions) )\n",
    "print( 'RMSE : ' , np.sqrt(metrics.mean_squared_error(y_test , predictions)) )"
   ]
  },
  {
   "cell_type": "markdown",
   "metadata": {},
   "source": [
    "**+--- NOTE ---> Mean Absolute Error 'MAE' :** Mutlak Değer içerisinde, tahminimizin gerçekten, ortalamada ne kadar saptığını gösterir."
   ]
  },
  {
   "cell_type": "markdown",
   "metadata": {},
   "source": [
    "Yani yukarıdaki metriklere bakarsak mesela **'MAE'** için ortalamada **75.79$**'lık bir **'Balance'** kolonunda sapma yapmışız. Yani, bu veri seti için kötü bir sonuç değil..."
   ]
  },
  {
   "cell_type": "markdown",
   "metadata": {},
   "source": [
    "+ **Total Sum of Squares (TSS) :**"
   ]
  },
  {
   "cell_type": "code",
   "execution_count": 61,
   "metadata": {},
   "outputs": [
    {
     "data": {
      "text/plain": [
       "16056560.200000001"
      ]
     },
     "execution_count": 61,
     "metadata": {},
     "output_type": "execute_result"
    }
   ],
   "source": [
    "tss = np.sum((y_test - np.mean(y_test))**2)\n",
    "tss"
   ]
  },
  {
   "cell_type": "markdown",
   "metadata": {},
   "source": [
    "+ **Total Variance (Toplam Varyans) :**\n",
    "<br> **'y'**'lerdeki toplam varyasyonu (varyansı) **;** yani **'y'**'nin, kendi ortalamasından ne kadar saptığını **;** yani **'y'**'nin ne kadar değişken olduğunu ifade eder **:**\n",
    "<br> Yani **;** (**TSS / n) = Toplam varyans :**"
   ]
  },
  {
   "cell_type": "code",
   "execution_count": 62,
   "metadata": {},
   "outputs": [
    {
     "data": {
      "text/plain": [
       "200707.0025"
      ]
     },
     "execution_count": 62,
     "metadata": {},
     "output_type": "execute_result"
    }
   ],
   "source": [
    "tV = np.sum((y_test - np.mean(y_test))**2) / len(y_test)\n",
    "tV"
   ]
  },
  {
   "cell_type": "markdown",
   "metadata": {},
   "source": [
    "+ Ayrıca **'Mean Squared Errors' ;**\n",
    "+ + **MSE = (SSE / n)**\n",
    "+ **R Square ($R^2$)** ise **:**\n",
    "+ + **$R^2$ = 1 - (SSE / TSS)**\n",
    "+ + **$R^2$ = 1 - (MSE / Toplam Varyans)**"
   ]
  },
  {
   "cell_type": "markdown",
   "metadata": {},
   "source": [
    "+ **$R^2$ = 1 - (MSE / Toplam Varyans) :**"
   ]
  },
  {
   "cell_type": "code",
   "execution_count": 65,
   "metadata": {},
   "outputs": [
    {
     "data": {
      "text/plain": [
       "0.9538616037043489"
      ]
     },
     "execution_count": 65,
     "metadata": {},
     "output_type": "execute_result"
    }
   ],
   "source": [
    "R_Square = 1 - 9260.299220657227 / 200707.0025\n",
    "R_Square"
   ]
  },
  {
   "cell_type": "code",
   "execution_count": 67,
   "metadata": {},
   "outputs": [
    {
     "data": {
      "text/plain": [
       "0.9538616037043489"
      ]
     },
     "execution_count": 67,
     "metadata": {},
     "output_type": "execute_result"
    }
   ],
   "source": [
    "metrics.r2_score(y_test, predictions)"
   ]
  },
  {
   "cell_type": "code",
   "execution_count": 68,
   "metadata": {},
   "outputs": [
    {
     "data": {
      "text/plain": [
       "0.9538616037043489"
      ]
     },
     "execution_count": 68,
     "metadata": {},
     "output_type": "execute_result"
    }
   ],
   "source": [
    "lm.score(X_test, y_test)"
   ]
  },
  {
   "cell_type": "markdown",
   "metadata": {},
   "source": [
    "Yukarıdaki **$R^2$** sonucu ile **;** Varyasyonun ne kadarını açıklayabildiğimizi görüyoruz... Yani bu modelimiz ile, **%95...** civarında açıklayabilmişiz... Bu gayet iyi bir sonuç... "
   ]
  },
  {
   "cell_type": "markdown",
   "metadata": {},
   "source": [
    "---\n",
    "---\n",
    "---\n",
    "---"
   ]
  },
  {
   "cell_type": "markdown",
   "metadata": {
    "tags": []
   },
   "source": [
    "## Auto Data **:**"
   ]
  },
  {
   "cell_type": "code",
   "execution_count": null,
   "metadata": {},
   "outputs": [],
   "source": [
    "%matplotlib inline\n",
    "\n",
    "import numpy as np\n",
    "import pandas as pd\n",
    "import matplotlib.pyplot as plt\n",
    "import seaborn as sns"
   ]
  },
  {
   "cell_type": "code",
   "execution_count": null,
   "metadata": {},
   "outputs": [],
   "source": [
    "from sklearn.linear_model import LinearRegression\n",
    "\n",
    "from sklearn.model_selection import train_test_split\n",
    "\n",
    "from sklearn import metrics"
   ]
  },
  {
   "cell_type": "code",
   "execution_count": 7,
   "metadata": {},
   "outputs": [
    {
     "data": {
      "text/html": [
       "<div>\n",
       "<style scoped>\n",
       "    .dataframe tbody tr th:only-of-type {\n",
       "        vertical-align: middle;\n",
       "    }\n",
       "\n",
       "    .dataframe tbody tr th {\n",
       "        vertical-align: top;\n",
       "    }\n",
       "\n",
       "    .dataframe thead th {\n",
       "        text-align: right;\n",
       "    }\n",
       "</style>\n",
       "<table border=\"1\" class=\"dataframe\">\n",
       "  <thead>\n",
       "    <tr style=\"text-align: right;\">\n",
       "      <th></th>\n",
       "      <th>mpg</th>\n",
       "      <th>horsepower</th>\n",
       "    </tr>\n",
       "  </thead>\n",
       "  <tbody>\n",
       "    <tr>\n",
       "      <th>0</th>\n",
       "      <td>18.0</td>\n",
       "      <td>130</td>\n",
       "    </tr>\n",
       "    <tr>\n",
       "      <th>1</th>\n",
       "      <td>15.0</td>\n",
       "      <td>165</td>\n",
       "    </tr>\n",
       "    <tr>\n",
       "      <th>2</th>\n",
       "      <td>18.0</td>\n",
       "      <td>150</td>\n",
       "    </tr>\n",
       "  </tbody>\n",
       "</table>\n",
       "</div>"
      ],
      "text/plain": [
       "    mpg  horsepower\n",
       "0  18.0         130\n",
       "1  15.0         165\n",
       "2  18.0         150"
      ]
     },
     "execution_count": 7,
     "metadata": {},
     "output_type": "execute_result"
    }
   ],
   "source": [
    "auto = pd.read_csv('Auto.csv')\n",
    "auto.head(3)"
   ]
  },
  {
   "cell_type": "markdown",
   "metadata": {},
   "source": [
    "+ Bu Veri Setinde **;**\n",
    "+ + **mpg =** Miles Per Gallon. (1 Galon Benzin ile Gidilen Mil)\n",
    "+ + **HP = horsepower =** Beygir Gücü."
   ]
  },
  {
   "cell_type": "code",
   "execution_count": 24,
   "metadata": {},
   "outputs": [
    {
     "data": {
      "text/html": [
       "<div>\n",
       "<style scoped>\n",
       "    .dataframe tbody tr th:only-of-type {\n",
       "        vertical-align: middle;\n",
       "    }\n",
       "\n",
       "    .dataframe tbody tr th {\n",
       "        vertical-align: top;\n",
       "    }\n",
       "\n",
       "    .dataframe thead th {\n",
       "        text-align: right;\n",
       "    }\n",
       "</style>\n",
       "<table border=\"1\" class=\"dataframe\">\n",
       "  <thead>\n",
       "    <tr style=\"text-align: right;\">\n",
       "      <th></th>\n",
       "      <th>mpg</th>\n",
       "      <th>horsepower</th>\n",
       "    </tr>\n",
       "  </thead>\n",
       "  <tbody>\n",
       "    <tr>\n",
       "      <th>19</th>\n",
       "      <td>26.0</td>\n",
       "      <td>46</td>\n",
       "    </tr>\n",
       "    <tr>\n",
       "      <th>101</th>\n",
       "      <td>26.0</td>\n",
       "      <td>46</td>\n",
       "    </tr>\n",
       "    <tr>\n",
       "      <th>324</th>\n",
       "      <td>43.4</td>\n",
       "      <td>48</td>\n",
       "    </tr>\n",
       "    <tr>\n",
       "      <th>323</th>\n",
       "      <td>44.3</td>\n",
       "      <td>48</td>\n",
       "    </tr>\n",
       "    <tr>\n",
       "      <th>242</th>\n",
       "      <td>43.1</td>\n",
       "      <td>48</td>\n",
       "    </tr>\n",
       "    <tr>\n",
       "      <th>...</th>\n",
       "      <td>...</td>\n",
       "      <td>...</td>\n",
       "    </tr>\n",
       "    <tr>\n",
       "      <th>6</th>\n",
       "      <td>14.0</td>\n",
       "      <td>220</td>\n",
       "    </tr>\n",
       "    <tr>\n",
       "      <th>8</th>\n",
       "      <td>14.0</td>\n",
       "      <td>225</td>\n",
       "    </tr>\n",
       "    <tr>\n",
       "      <th>94</th>\n",
       "      <td>12.0</td>\n",
       "      <td>225</td>\n",
       "    </tr>\n",
       "    <tr>\n",
       "      <th>13</th>\n",
       "      <td>14.0</td>\n",
       "      <td>225</td>\n",
       "    </tr>\n",
       "    <tr>\n",
       "      <th>115</th>\n",
       "      <td>16.0</td>\n",
       "      <td>230</td>\n",
       "    </tr>\n",
       "  </tbody>\n",
       "</table>\n",
       "<p>392 rows × 2 columns</p>\n",
       "</div>"
      ],
      "text/plain": [
       "      mpg  horsepower\n",
       "19   26.0          46\n",
       "101  26.0          46\n",
       "324  43.4          48\n",
       "323  44.3          48\n",
       "242  43.1          48\n",
       "..    ...         ...\n",
       "6    14.0         220\n",
       "8    14.0         225\n",
       "94   12.0         225\n",
       "13   14.0         225\n",
       "115  16.0         230\n",
       "\n",
       "[392 rows x 2 columns]"
      ]
     },
     "execution_count": 24,
     "metadata": {},
     "output_type": "execute_result"
    }
   ],
   "source": [
    "#   Check data has been read in properly :\n",
    "#   Verilerin doğru şekilde okunup okunmadığını kontrol edin :\n",
    "\n",
    "auto = auto.sort_values(by='horsepower')\n",
    "auto"
   ]
  },
  {
   "cell_type": "markdown",
   "metadata": {},
   "source": [
    "**++++ Critical NOTE ++++**\n",
    "<br> **``1_Auto__Milles-Per-Gallon__Hoursepower``** isimli **.JPG** resim dosyasına baktığımızda, bu Veri Seti için nasıl bir grafiğimizin olduğunu görebiliriz...\n",
    "<br> Grafiğe bakarsak **;** araçların beygir gücü arttıkça, 1 galon benzin ile gidebildikleri mesafenin de azalma eğiliminde olduğunu görüyoruz.\n",
    "<br> Grafikte Sarı renkte olan **Lineer Regresyon Modeli çizgisinin**, **Horsepower**'in çok düşük ve çok yüksek olduğu değerlerde biraz saçmaladığını görüyoruz. Çünkü o bölgelerde doğrusal (lineer) bir dağılım yok ve biraz EĞRİ'ye benzeyen bir veri dağılımı var gibi görünüyor...\n",
    "<br> Yani beygir gücünün aslında, 1 Galon benzin ile gidilen mesafeye etkisinin **Lineer bir etki OLMADIĞINI** görüyoruz...\n",
    "<br> Böyle bir durumda, mesela **POLINOM**'da **FIT** edebiliriz...\n",
    "<br> **+--- NOTE --->** Polinom, **EN AZ 2. dereceden** bir denklemdir.\n",
    "+ **Lineer** bir fonksiyon olarak **FIT** etmek isteseydik **:**\n",
    "+ + **$mpg$ =** $\\beta_{0}$ **+** ($\\beta_{1}$ **.** $HorsePower$)\n",
    "<br> yazmalıydık...\n",
    "+ Ama **Polinom (non-linear)** bir şekilde **FIT** etmek istersek de fonksiyon, mesela **:**\n",
    "+ + **$mpg$ =** $\\beta_{0}$ **+** ($\\beta_{1}$ **.** $HP$) **+** ($\\beta_{2}$ **.** $HP^2$)\n",
    "<br> şeklinde yazılmalıdır...\n",
    "+ Bu **non-linear** olan modeli **FIT** edersek **;** şekli **, 2. dereceden bir polinom** şeklinde olacaktır...\n",
    "<br> Ama bu modeli **FIT** etmek için çok da karmaşık şeyler yapmamıza gerek yok **!**\n",
    "<br> Mesela yukarıdaki denklemde **;** $(HP)$ 'yi **$X_{1}$ ,** $(HP)^2$ 'yi de **$X_{2}$** olarak yazabiliriz... Yani bu yarattığımız **$X_{1}$** ve **$X_{2}$** 'yi birbirlerinden farklı birer değişkenlermiş gibi düşünebiliriz...\n",
    "<br> Böyle yazarak denklemi kurduğumuzda da **,** sanki bir **'Linear Regression' Modeliymiş gibi** bir işlem yapmış oluyoruz... Ama sonunda yine bir NON-LINEAR model kurmuş oluyoruz...\n",
    "<br> Yani **'Linear**' bir şekilde **FIT** ediyoruz ama **'Non-Linear' bir model** kurmuş oluyoruz **!**\n",
    "+ Yani fonksiyonun yazımının yine **'Lineer'** bir şekilde olması için **:**\n",
    "+ + **$mpg$ =** $\\beta_{0}$ **+** ($\\beta_{1}$ **.** $X_{1}$) **+** ($\\beta_{2}$ **.** $X_{2}$)\n",
    "<br> şeklinde de yazılabilir...\n",
    "\n",
    "\n",
    "+ Yani biz diyoruz ki **;**\n",
    "+ + İlk önce **'HorsePower'** kolonunu alalım, bir de yanına **her bir HP** değerinin **KARESİNİN** yazılı olduğu bir kolon yaratalım. En son da ne kadar yakıt harcadıklarını yani **'mpg'** kolonunu yazalım...\n",
    "<br> **+--- NOTE ---> Scikit-Learn**'in **;** bu yeni yarattığımız kolonun, **HP** kolonunun **KARESİ** olduğunu bilmesine gerek yok. Zaten bilmiyor da... Biz bambaşka bir kolonmuş gibi yeni bir kolon yaratıyoruz. Ama bu kolon **HP kolonunun KARESİNİ** içeriyor... **Scikit-Learn ;** bir kolonu $X_{1}$ gibi **,** diğer kolonu da $X_{2}$ gibi düşünür geçer... Ve sonunda üreteceği model, bizim istediğimiz **polinom** bir model olmuş olur...\n",
    "+ **+--- NOTE ---> İstersek 2. dereceden bir polinom şeklinde değil de, '3.' , '4.' , '5.' , ... dereceden bir polinom şeklinde de 'FIT' edebiliriz...** Yani mesela, **(HP)'nin küpünü, 4. dereceden kuvvetini, ...** flan da **modelimizin içerisine** koyabiliriz...\n",
    "<br> **+--- NOTE --->** Modellerimiz karmaşıklaştıkça, yani polinom derecesi arttıkça daha KOMPLEX modeller yaratırız **!** Yani Veri'ye biraz daha oturan modeller yaratmış oluruz.\n",
    "<br> **AMA** polinomun derecesini arttırdıkça, **OVERFITTING** riskini de arttırmış oluruz... Tabi bunun ideal noktasını **, VALIDATION** tekniği ile bulabiliriz...\n",
    "\n",
    "+ **+--- NOTE --->** İllaki **'Karesi', 'Küpü', ...** şeklinde bir polinom modeli yaratmamıza gerek yok. Mesela **'$mpg$'**'nin değişimi **; $HP$**'nin **'$sinus$'**'ü ila alakalı da olabilir. O zaman da yapmamız gereken **:**\n",
    "+ + **$mpg$ =** $\\beta_{0}$ **+** ($\\beta_{1}$ **.** $HP$) **+** ($\\beta_{2}$ **.** $HP^2$) **+** ($\\beta_{3}$ **.** $sin(HP)$)\n",
    "+ + Yani **;**\n",
    "<br> **$mpg$ =** $\\beta_{0}$ **+** ($\\beta_{1}$ **.** $X_{1}$) **+** ($\\beta_{2}$ **.** $X_{2}$) **+** ($\\beta_{2}$ **.** $X_{3}$) \n",
    "<br> şeklinde bir fonksiyon yaratmak olacaktır...\n",
    "<br> Bu **sinüs, kosinüs, logaritma, ...** gibi **tüm matematiksel kavramlar olabilir**... Hepsini modelimize ekleyebiliriz...\n",
    "\n",
    "**+--- ÖNEMLİ --->** Fonksiyonlarda gördüğümüz gibi **;** hiçbir şekilde **BETA ( $\\beta$ )**'lar BİRBİRLERİ İLE **ÇARPILMIYORLAR !** Hepsi birbiri ile **TOPLANIYOR !** Bunun için biz bu modele hala, **LINEAR REGRESSION** modeli diyebiliyoruz...\n",
    "<br> Yani **Linear Regression**'da **BETA ( $\\beta$ )**'lar **;** **INPUT**'ları ( **$X_{1}$ , $X_{2}$ , ...** ) ile **çarpılıp**, sonra da **birbirleri ile toplanıyorlar**..."
   ]
  },
  {
   "cell_type": "code",
   "execution_count": 47,
   "metadata": {},
   "outputs": [],
   "source": [
    "y = np.array(auto['mpg'])\n",
    "\n",
    "x = np.array(auto['horsepower'])"
   ]
  },
  {
   "cell_type": "code",
   "execution_count": 48,
   "metadata": {},
   "outputs": [
    {
     "data": {
      "text/plain": [
       "array([ 46,  46,  48,  48,  48,  49,  52,  52,  52,  52,  53,  53,  54,\n",
       "        58,  58,  60,  60,  60,  60,  60,  61,  62,  62,  63,  63,  63,\n",
       "        64,  65,  65,  65,  65,  65,  65,  65,  65,  65,  65,  66,  67,\n",
       "        67,  67,  67,  67,  67,  67,  67,  67,  67,  67,  67,  68,  68,\n",
       "        68,  68,  68,  68,  69,  69,  69,  70,  70,  70,  70,  70,  70,\n",
       "        70,  70,  70,  70,  70,  70,  71,  71,  71,  71,  71,  72,  72,\n",
       "        72,  72,  72,  72,  74,  74,  74,  75,  75,  75,  75,  75,  75,\n",
       "        75,  75,  75,  75,  75,  75,  75,  75,  76,  76,  76,  76,  77,\n",
       "        78,  78,  78,  78,  78,  78,  79,  79,  80,  80,  80,  80,  80,\n",
       "        80,  80,  81,  81,  82,  83,  83,  83,  83,  84,  84,  84,  84,\n",
       "        84,  84,  85,  85,  85,  85,  85,  85,  85,  85,  85,  86,  86,\n",
       "        86,  86,  86,  87,  87,  88,  88,  88,  88,  88,  88,  88,  88,\n",
       "        88,  88,  88,  88,  88,  88,  88,  88,  88,  88,  88,  89,  90,\n",
       "        90,  90,  90,  90,  90,  90,  90,  90,  90,  90,  90,  90,  90,\n",
       "        90,  90,  90,  90,  90,  90,  91,  92,  92,  92,  92,  92,  92,\n",
       "        93,  94,  95,  95,  95,  95,  95,  95,  95,  95,  95,  95,  95,\n",
       "        95,  95,  95,  96,  96,  96,  97,  97,  97,  97,  97,  97,  97,\n",
       "        97,  97,  98,  98, 100, 100, 100, 100, 100, 100, 100, 100, 100,\n",
       "       100, 100, 100, 100, 100, 100, 100, 100, 102, 103, 105, 105, 105,\n",
       "       105, 105, 105, 105, 105, 105, 105, 105, 105, 107, 108, 110, 110,\n",
       "       110, 110, 110, 110, 110, 110, 110, 110, 110, 110, 110, 110, 110,\n",
       "       110, 110, 110, 112, 112, 112, 113, 115, 115, 115, 115, 115, 116,\n",
       "       120, 120, 120, 120, 122, 125, 125, 125, 129, 129, 130, 130, 130,\n",
       "       130, 130, 132, 133, 135, 137, 138, 139, 139, 140, 140, 140, 140,\n",
       "       140, 140, 140, 142, 145, 145, 145, 145, 145, 145, 145, 148, 149,\n",
       "       150, 150, 150, 150, 150, 150, 150, 150, 150, 150, 150, 150, 150,\n",
       "       150, 150, 150, 150, 150, 150, 150, 150, 150, 152, 153, 153, 155,\n",
       "       155, 158, 160, 160, 165, 165, 165, 165, 167, 170, 170, 170, 170,\n",
       "       170, 175, 175, 175, 175, 175, 180, 180, 180, 180, 180, 190, 190,\n",
       "       190, 193, 198, 198, 200, 208, 210, 215, 215, 215, 220, 225, 225,\n",
       "       225, 230], dtype=int64)"
      ]
     },
     "execution_count": 48,
     "metadata": {},
     "output_type": "execute_result"
    }
   ],
   "source": [
    "x"
   ]
  },
  {
   "cell_type": "code",
   "execution_count": 49,
   "metadata": {},
   "outputs": [
    {
     "data": {
      "text/plain": [
       "array([26. , 26. , 43.4, 44.3, 43.1, 29. , 29. , 32.8, 44. , 31. , 33. ,\n",
       "       33. , 23. , 36. , 39.1, 35.1, 27. , 36.1, 38.1, 24.5, 32. , 29.8,\n",
       "       37.7, 38. , 34.7, 30.5, 39. , 37.2, 34.1, 37. , 34.4, 40.8, 29.9,\n",
       "       31. , 32. , 31.8, 46.6, 36.1, 30. , 31. , 31. , 38. , 32. , 38. ,\n",
       "       26. , 36.4, 32.3, 33.8, 44.6, 30. , 34.1, 37. , 31. , 29.5, 31.5,\n",
       "       30. , 26. , 35. , 37.3, 29. , 33.5, 39.4, 32. , 29. , 32.1, 34. ,\n",
       "       36. , 34.5, 30. , 34.2, 26. , 25. , 29.5, 31.9, 31.5, 27.2, 15. ,\n",
       "       15. , 22. , 26.5, 32.4, 21. , 36. , 31.6, 33. , 25. , 32.4, 33.7,\n",
       "       26. , 32.2, 31.3, 30.9, 28. , 28. , 24. , 26. , 36. , 24. , 29. ,\n",
       "       30. , 30.7, 41.5, 22. , 25.4, 18. , 34.3, 30.5, 23. , 26. , 29. ,\n",
       "       28. , 26. , 27.4, 26. , 25. , 28. , 35.7, 28.1, 30. , 24. , 25. ,\n",
       "       31. , 33.5, 29. , 27. , 23. , 29. , 36. , 26.6, 30. , 32. , 27.2,\n",
       "       17.6, 20.2, 21. , 23.8, 19.8, 31. , 38. , 20.8, 19. , 22. , 28. ,\n",
       "       21. , 27. , 23. , 25. , 21. , 26.4, 18. , 19. , 35. , 27. , 20.2,\n",
       "       27. , 28. , 27. , 24.5, 23. , 36. , 34. , 20. , 27. , 19. , 18. ,\n",
       "       25.1, 22.3, 25.5, 29.8, 24.3, 22.5, 19.4, 21. , 28. , 20. , 19.1,\n",
       "       24. , 19. , 27. , 27. , 28.4, 33.5, 20.2, 26. , 18. , 23.9, 28. ,\n",
       "       28. , 20. , 25.8, 24. , 28. , 25. , 37. , 26. , 26. , 22. , 25. ,\n",
       "       24. , 25. , 21.1, 19. , 24. , 18. , 20.5, 27.5, 23. , 20. , 23. ,\n",
       "       17.5, 22. , 25.5, 24. , 32. , 23. , 22. , 24. , 18. , 23.9, 27.2,\n",
       "       24. , 18. , 19. , 22. , 18.5, 19. , 18. , 16. , 19. , 20.5, 20. ,\n",
       "       32.9, 22. , 19. , 18. , 20. , 18. , 16. , 15. , 19. , 23.7, 17. ,\n",
       "       20. , 20.3, 26.6, 18. , 18. , 16. , 23.2, 18. , 22. , 20.6, 16. ,\n",
       "       27.9, 19.2, 20.5, 21. , 19. , 23.5, 16. , 25. , 20.6, 17. , 15. ,\n",
       "       19.9, 21. , 17. , 20. , 21.5, 21.5, 18. , 22.4, 24. , 18.5, 18.6,\n",
       "       17.5, 19. , 22. , 18. , 26. , 25. , 28.8, 26.8, 21.6, 21.5, 25.4,\n",
       "       16.5, 24.2, 15.5, 18.1, 20. , 19.2, 23. , 17. , 13. , 17.6, 18. ,\n",
       "       13. , 15. , 13. , 17. , 32.7, 16.2, 18.2, 14. , 16.5, 18.1, 20.2,\n",
       "       14. , 16. , 17.5, 13. , 17.5, 17. , 19.4, 15.5, 15. , 17.5, 13. ,\n",
       "       19.2, 13. , 15. , 15.5, 14. , 16. , 18.5, 14. , 15. , 15. , 15. ,\n",
       "       13. , 13. , 14. , 13. , 17. , 16. , 11. , 14. , 15. , 13. , 16. ,\n",
       "       14. , 16. , 18. , 14. , 15. , 14. , 14.5, 14. , 14. , 13. , 16.9,\n",
       "       13. , 12. , 14. , 14. , 17.7, 15. , 13. , 12. , 16. , 13. , 13. ,\n",
       "       15. , 15.5, 14. , 14. , 13. , 13. , 13. , 16.5, 16. , 11. , 12. ,\n",
       "       12. , 13. , 15.5, 15. ,  9. , 12. , 15. , 10. , 11. , 11. , 14. ,\n",
       "       13. , 10. , 14. , 14. , 12. , 14. , 16. ])"
      ]
     },
     "execution_count": 49,
     "metadata": {},
     "output_type": "execute_result"
    }
   ],
   "source": [
    "y"
   ]
  },
  {
   "cell_type": "markdown",
   "metadata": {},
   "source": [
    "**++++ Critical NOTE ++++**\n",
    "+ Reshape your data either using **array.reshape(-1, 1)** if your data has a single feature or **array.reshape(1, -1)** if it contains a single sample **:**\n",
    "+ Veri Setimiz **tek bir Feature**'ye (Yani **tek bir 'X' kolonuna**) sahip ise **; array.reshape(-1, 1)** veya **tek bir örnek** içeriyorsa **array.reshape(1, -1)** kullanarak verilerimizi yeniden şekillendirmemiz gerekir. Aksi halde **FIT** ederken hata alırız **:**\n",
    "+ + **+--- NOTE ---> Scikit-Learn Kütüphanesi, 'x'** olarak yolladığımız değeri bir MATRİS olarak İSTER **! 'x'**'ler illaki MATRIS OLACAK **!**\n",
    "<br> Ama yukarıda veriyi **'x'** ve **'y'** diye parçaladığımızda, **'x' tek kolonlu (tek boyutlu)** olduğu için **bir 'Matris' olmadı ve 'Numpy Array'** haline geldi **(Yukarıda fark ettiysek zaten, TEK Köşeli Parantez var)**.\n",
    "<br> **``.reshape( , )``** fonksiyonu ile **; 'x'** kolonunu, **tek bir kolonu olan bir MATRIS** haline dönüştürmemiz gerekiyor **:**"
   ]
  },
  {
   "cell_type": "code",
   "execution_count": 86,
   "metadata": {},
   "outputs": [],
   "source": [
    "y = np.array(auto['mpg'])\n",
    "\n",
    "x = np.array(auto['horsepower']).reshape(-1 , 1)"
   ]
  },
  {
   "cell_type": "markdown",
   "metadata": {},
   "source": [
    "---\n",
    "---\n",
    "--------->\n",
    "### **Modelimizi Yaratalım (Kuralım) :**\n",
    "<---------\n",
    "\n",
    "---\n",
    "---"
   ]
  },
  {
   "cell_type": "code",
   "execution_count": null,
   "metadata": {},
   "outputs": [],
   "source": [
    "%matplotlib inline\n",
    "\n",
    "import numpy as np\n",
    "import pandas as pd\n",
    "import matplotlib.pyplot as plt\n",
    "import seaborn as sns"
   ]
  },
  {
   "cell_type": "code",
   "execution_count": null,
   "metadata": {},
   "outputs": [],
   "source": [
    "from sklearn.linear_model import LinearRegression\n",
    "\n",
    "from sklearn.model_selection import train_test_split\n",
    "\n",
    "from sklearn.preprocessing import PolynomialFeatures"
   ]
  },
  {
   "cell_type": "markdown",
   "metadata": {},
   "source": [
    "+ Öncelikle Veri Seti'ni **TRAIN** ve **TEST** olarak iki parçaya ayıralım **:**"
   ]
  },
  {
   "cell_type": "code",
   "execution_count": 110,
   "metadata": {},
   "outputs": [],
   "source": [
    "X_train, X_test, y_train, y_test = train_test_split(x , y , test_size=0.2 , random_state=10)"
   ]
  },
  {
   "cell_type": "code",
   "execution_count": 111,
   "metadata": {},
   "outputs": [
    {
     "data": {
      "text/plain": [
       "LinearRegression()"
      ]
     },
     "execution_count": 111,
     "metadata": {},
     "output_type": "execute_result"
    }
   ],
   "source": [
    "model = LinearRegression()\n",
    "\n",
    "model.fit(X_train , y_train)"
   ]
  },
  {
   "cell_type": "markdown",
   "metadata": {},
   "source": [
    "+ **Tahminlemeyi ; TEST için ayırdığımız** Veri Seti üzerinde yapmaya çalışıyoruz **:**"
   ]
  },
  {
   "cell_type": "code",
   "execution_count": 112,
   "metadata": {},
   "outputs": [],
   "source": [
    "y_pred = model.predict(X_test)"
   ]
  },
  {
   "cell_type": "markdown",
   "metadata": {},
   "source": [
    "+ Şimdi de **TEST**'deki performansımıza ve HATA'lara bakmak için, **'MSE'** ve $R^2$ **metriklerini** çağırıyoruz **:**"
   ]
  },
  {
   "cell_type": "code",
   "execution_count": 113,
   "metadata": {},
   "outputs": [
    {
     "name": "stdout",
     "output_type": "stream",
     "text": [
      "MSE :  25.146932961221157\n",
      "R^2 :  0.5901354629851379\n"
     ]
    }
   ],
   "source": [
    "from sklearn.metrics import mean_squared_error, r2_score\n",
    "\n",
    "mse = mean_squared_error(y_test , y_pred)\n",
    "r2 = r2_score(y_test , y_pred)\n",
    "\n",
    "print('MSE : ' , mse)\n",
    "print('R^2 : ' , r2)"
   ]
  },
  {
   "cell_type": "markdown",
   "metadata": {},
   "source": [
    "#### Yukarıda gördüğümüz gibi, **$R^2$** değerimiz pek iyi değil. Varyansın ancak **%59...**'unu flan açıklayabiliyor... Demekki bu kurduğumuz model pek de iyi bir model değil... Bir şeyleri düzeltmemiz veya modeli tamamen değiştirmemiz lazım... **:**"
   ]
  },
  {
   "cell_type": "markdown",
   "metadata": {},
   "source": [
    "+ **'PolynomialFeatures'** modülünü çağırıyoruz **:**"
   ]
  },
  {
   "cell_type": "code",
   "execution_count": 117,
   "metadata": {},
   "outputs": [],
   "source": [
    "from sklearn.preprocessing import PolynomialFeatures"
   ]
  },
  {
   "cell_type": "markdown",
   "metadata": {},
   "source": [
    "+ Şimdi, TRAIN ve TEST olarak ayırdığımız Veri Setleri üzerinde **POLİNOM** üreterek bir model kurmaya çalışalım **:**\n",
    "<br> Polinomu **;** **'X' TRAIN Set** üzerinden **FIT**'leyeceğiz (**Eğiteceğiz**)... Sonra da **'X' TEST Set** üzerinden **testini** yapacağız... **:**\n",
    "+ Öncelikle, **4. dereceden bir Polinom üretelim :**"
   ]
  },
  {
   "cell_type": "code",
   "execution_count": 102,
   "metadata": {},
   "outputs": [],
   "source": [
    "polynomial_features = PolynomialFeatures(degree=4 , include_bias=False)"
   ]
  },
  {
   "cell_type": "markdown",
   "metadata": {},
   "source": [
    "+ TRAIN Set'in **4. dereceden Polinomunu** üretelim **:**\n",
    "<br> Yani, **'X'**'lerin **TRAIN Set**'ini alacak **; kendisini, karelerini, küplerini ve dördüncü dereceden kuvvetlerini ; her biri ayrı birer kolon olacak şekilde üretecek :**"
   ]
  },
  {
   "cell_type": "code",
   "execution_count": null,
   "metadata": {},
   "outputs": [],
   "source": [
    "X_poly_train = polynomial_features.fit_transform(X_train)"
   ]
  },
  {
   "cell_type": "markdown",
   "metadata": {},
   "source": [
    "+ TEST Set'in **4. dereceden Polinomunu** üretelim **:**\n",
    "<br> Yani, **'X'**'lerin **TEST Set**'ini alacak **; kendisini, karelerini, küplerini ve dördüncü dereceden kuvvetlerini; her biri ayrı birer kolon olacak şekilde üretecek :**"
   ]
  },
  {
   "cell_type": "code",
   "execution_count": 104,
   "metadata": {},
   "outputs": [],
   "source": [
    "X_poly_test = polynomial_features.fit_transform(X_test)"
   ]
  },
  {
   "cell_type": "code",
   "execution_count": 101,
   "metadata": {},
   "outputs": [
    {
     "data": {
      "text/plain": [
       "array([[6.7000000e+01, 4.4890000e+03, 3.0076300e+05, 2.0151121e+07],\n",
       "       [6.7000000e+01, 4.4890000e+03, 3.0076300e+05, 2.0151121e+07],\n",
       "       [1.9000000e+02, 3.6100000e+04, 6.8590000e+06, 1.3032100e+09],\n",
       "       ...,\n",
       "       [9.5000000e+01, 9.0250000e+03, 8.5737500e+05, 8.1450625e+07],\n",
       "       [1.0000000e+02, 1.0000000e+04, 1.0000000e+06, 1.0000000e+08],\n",
       "       [9.5000000e+01, 9.0250000e+03, 8.5737500e+05, 8.1450625e+07]])"
      ]
     },
     "execution_count": 101,
     "metadata": {},
     "output_type": "execute_result"
    }
   ],
   "source": [
    "X_poly_train"
   ]
  },
  {
   "cell_type": "markdown",
   "metadata": {},
   "source": [
    "+ **Modelimizi kurarken (FIT ederken) her zamanki gibi TRAIN SET'i kullanacağız..!** Ama bu defa **Polynomial** şeklinde olacak...\n",
    "<br> Sonra da **Tahminleme yaparken de, yine her zamanki gibi TEST Set'ini kullanacağuz...!** Ama yine bu da **Polynomial** şeklinde olacak...\n",
    "<br> Çünkü artık, model 4 tane ayrı Feature (kolon) alacak. Bunlar da $X^1$ , $X^2$ , $X^3$ , $X^4$ kolonlarıdır.\n",
    "<br> **+--- NOTE ---> $X^0$** Feature'sini (kolonunu) almamasının sebebi de **;** yukarıda **PolynomialFeatures( )** oluştururken, **(include_bias=False)** komutunu yazmamızdır... (Zaten **$X^0$** değeri otomatik olarak **'1'**'dir...)"
   ]
  },
  {
   "cell_type": "code",
   "execution_count": 106,
   "metadata": {},
   "outputs": [],
   "source": [
    "polymodel = LinearRegression()\n",
    "\n",
    "polymodel.fit(X_poly_train, y_train)\n",
    "\n",
    "y_poly_pred = polymodel.predict(X_poly_test)"
   ]
  },
  {
   "cell_type": "markdown",
   "metadata": {},
   "source": [
    "Yukarıda, **Tahminleme (Prediction yaparken)**, doğrudan **'X_test'** Veri Seti'ni yollasaydık program çalışmazdı... Çünkü **X_test** Veri Seti'nin kolon sayısı ile, programın beklediği kolon sayısı aynı değil. **X_test Veri Seti'nin kolon sayısı '1', programın beklediği kolon sayısı ise '4'**'dür."
   ]
  },
  {
   "cell_type": "markdown",
   "metadata": {},
   "source": [
    "+ Şimdi de artık YENİ MODELİMİZ için; **'MSE'** ve **$R^2$ metriklerini** hesaplayalım **:**\n",
    "<br> Bu hesaplamaları da **:**\n",
    "<br> **'y' GERÇEK TEST Veri Seti (y_test)** ile **; üretmiş olduğumuz 'y' TAHMİN Veri Seti (y_poly_pred)** arasındaki **FARKLARA** bakarak yapacağız **:**"
   ]
  },
  {
   "cell_type": "code",
   "execution_count": 114,
   "metadata": {},
   "outputs": [
    {
     "name": "stdout",
     "output_type": "stream",
     "text": [
      "18.78994786938856\n",
      "0.6937466172953779\n"
     ]
    }
   ],
   "source": [
    "from sklearn.metrics import mean_squared_error , r2_score\n",
    "\n",
    "mse = mean_squared_error(y_test , y_poly_pred)\n",
    "r2 = r2_score(y_test , y_poly_pred)\n",
    "\n",
    "print(mse)\n",
    "print(r2)"
   ]
  },
  {
   "cell_type": "markdown",
   "metadata": {},
   "source": [
    "**+--- NOTE --->** Burada performansa bakarken TEST Veri Setini kullandık ama istersek TRAIN veri setinde de performansa bakabiliriz..."
   ]
  },
  {
   "cell_type": "markdown",
   "metadata": {},
   "source": [
    "**++++ NOTE ++++**\n",
    "<br> **Tahminleme** fonksiyonu olan **.predict( )** fonksiyonunun içerisine; sadece Veri Seti değil, **MATRİS** de yollayabiliriz. Mesela **.predict(X_test[0])** şeklinde de bir tahminleme yapabiliriz... Yani buradaki örneğe bakarsak, **X_test** Veri Seti'nin yapısı (structure)'si ne ise, aynı yapıda yolladığımız her şeye tahminleme yapabiliriz. Yani içerisine, Veri Seti'nin INPUT'larını koyduğumuz an tahminleme yapar.\n",
    "<br> **+--- NOTE --->** Model zaten daha öncesinde **FIT edilerek (Eğitilerek),** katsayılarını ve parametrelerini buldu. **Bu tahmin dediğimiz şey de, Modeli kullanarak bir değer üretmektir.**"
   ]
  },
  {
   "cell_type": "markdown",
   "metadata": {},
   "source": [
    "---\n",
    "---\n",
    "--------->\n",
    "+ **Linear Regression , _'Polynomial Features'_ Modeli için Sırası ile :**\n",
    "+ + **pd.read_...( \" \" , )** fonksiyonu ile Veri Setimizi **çağırıyoruz ,**\n",
    "+ + Veri Setimizi **düzenliyoruz.** Eksik ve gereksiz verileri, kolonları, satırları, ... bulup üzerlerinde düzeltmeler yapıyoruz **,**\n",
    "+ + **Numpy, Pandas, Matplotlib ve Seaborn** kütüphaneleri ile veri setimizi **gözlemleyip, yorumlar yapıyoruz ,**\n",
    "+ + Veri Setimizin **kolonları arasındaki 'Korelasyonlara'** bakıyoruz **:** ( **df.corr()** ) **,**\n",
    "+ + **'X'**'leri ve **'y'**'leri (yani **FEATURE ve TARGET** kolonlarını) birbirlerinden **ayırıyoruz ,**\n",
    "+ + Veri Setini **;** ( **X_train , X_test , y_train , y_test** ) olarak **parçalamak** için **:**\n",
    "+ + + Öncelikle **modülünü çağırmamız** gerekiyor **:** ( **from sklearn.model_selection import train_test_split** ) **,**\n",
    "+ + + Sonra da **TRAIN - TEST** diye **parçalamak** için **:** ( **X_train , X_test , y_train , y_test = train_test_split(X , y , test_size=... , random_state=... )** ) **.**\n",
    "+ + **Feature'lerimizi ('X' kolonlarımızı); Polynomial** hale getirmek için, **'PolynomialFeatures'** modülünü **çağırıyoruz :** ( **from sklearn.preprocessing import PolynomialFeatures** ) **;**\n",
    "+ + TRAIN ve TEST olarak ayırdığımız Veri Setlerinden **; Feature ('X')** kolon veya kolonları için **POLİNOM** üreterek bir model kuruyoruz **:** ( **polynomial_features = PolynomialFeatures(degree=... , include_bias=...)** ) **,**\n",
    "+ + **.fit_transform(X)** metodu ile **; 'X'**'i al ve **Polinomu FIT et** demek istiyoruz... Yani **'X'**'in **Polinom Derecelerini** üretiyoruz. Yani **'X'**'in her **kuvvet derecesi** için ayrı bir Kolon (Feature) üretiyoruz...\n",
    "<br> Burada da **'X'**'i (**Feature'leri**), TRAIN ve TEST olarak ayırdığımız **; 'X_train'** ve **'X_test'** Veri Setlerinin, ayrı ayrı her **kuvvetleri** için **Polinom Dereceleri** üretiyoruz **:**\n",
    "+ + + + ( **X_poly_train = polynomial_features.fit_transform(X_train)** ) **,**\n",
    "+ + + + Ve **,** ( **X_poly_test = polynomial_features.fit_transform(X_test)** ) **.**\n",
    "+ + **Polynomial Model** için bir **OBJE** atıyoruz. Yani modeli **kuruyoruz** **:** ( **polymodel = LinearRegression()** ) **,**\n",
    "+ + **TRAIN** Veri Setleri'ni **FIT** ediyoruz. Yani artık **Modelimizi Eğitiyoruz :** ( **polymodel.fit(X_poly_train, y_train)** ) **,**\n",
    "+ + Bir yukarıda Eğittiğimiz (FIT ettiğimiz) TRAIN Veri Setlerindeki **coefficient (katsayı)**'ları da kullanarak **;** yine **Polynomial** olarak yarattığımız **'X_poly_test'** Veri Seti üzerinde bir **Tahmin (Prediction)** yapıyoruz **:** ( **y_poly_pred = polymodel.predict(X_poly_test)** ) **,**\n",
    "+ + Programımızın **performansını** ölçmek için **Hata**'lara bakmamız gerekiyor... Bunun için de **Hata Metrik**'lerini çağırıyoruz **:** ( **from sklearn.metrics import mean_squared_error , r2_score** ) **,**\n",
    "+ + Hata Metrik'lerinden de öncelikli olarak **'MSE'** ve **'$R^2$'** metriklerine bakıyoruz **:**\n",
    "+ + + + ( **mse = mean_squared_error(y_test , y_poly_pred)** ) **,**\n",
    "+ + + + ( **r^2 = r2_score(y_test , y_poly_pred)** ) **.**\n",
    "+ + + **+--- NOTE --->** Burada performansa bakarken **TEST** Veri Setini kullandık ama istersek **TRAIN** veri setinde de performansa bakabiliriz...\n",
    "\n",
    "<---------\n",
    "\n",
    "---\n",
    "---"
   ]
  }
 ],
 "metadata": {
  "kernelspec": {
   "display_name": "Python 3",
   "language": "python",
   "name": "python3"
  },
  "language_info": {
   "codemirror_mode": {
    "name": "ipython",
    "version": 3
   },
   "file_extension": ".py",
   "mimetype": "text/x-python",
   "name": "python",
   "nbconvert_exporter": "python",
   "pygments_lexer": "ipython3",
   "version": "3.8.11"
  }
 },
 "nbformat": 4,
 "nbformat_minor": 4
}
